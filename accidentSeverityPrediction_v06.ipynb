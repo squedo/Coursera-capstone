{
 "cells": [
  {
   "cell_type": "markdown",
   "metadata": {},
   "source": [
    "# Capstone project\n",
    "\n",
    "---\n",
    "\n",
    "Car accident model - based on Data from the UK Department for Transport (2005-2014)\n",
    "\n",
    "Data files provide detailed road safety data about the circumstances of personal injury road accidents in GB from 2005 to 2014:\n",
    "\n",
    "- Accident file: main data set contains information about accident severity, weather, location, date, hour, day of week, road type…\n",
    "- Vehicle file: contains information about vehicle type, vehicle model, engine size, driver sex, driver age, car age…\n",
    "- Casualty file: contains information about casualty severity, age, sex social class, casualty type, pedestrian or car passenger…\n",
    "\n",
    "---\n",
    "\n",
    "# Introduction\n",
    "\n",
    "Unfortunately, car accidents happen.\n",
    "\n",
    "Would it be possible to understand/predict the severity of an eventual accident if ever happening?\n",
    "\n",
    "Such a predictive model could be interesting for instance:\n",
    "\n",
    "- For insurance companies to set a final price for an inssurance.\n",
    "- For government authorities to forcast casualties that may occur during a year based on vehicles registered and drivers records an plan measures to reduce those casualties numbers.\n",
    "- For generate awareness in individuals so that they are aware of the need of replacing their car, be even more careful when it rains or when it's a foggy day, etc.\n",
    "\n",
    "We will be exploring the feasibility of creating such a predictive model based on variables that could be stored into the following catergories:\n",
    "\n",
    "- Driver data (age, etc.)\n",
    "- Time, road and environmental conditions (visibility, weather conditions, moment of the year, etc.)\n",
    "- Car specifications (Engine capacity, driver side, etc)\n",
    "- Parameters of the accident (speed, point of impact, etc.)\n",
    "\n",
    "Based on those variables the model would predict if ever having an accident if it's going to be \"fatal\", \"Serious\" or \"Slight\" a certain probability (multiclass classification problem). We could also for simplicity, make the model to assist a binary classification model where based on the same variables we would be looking to predict between \"fatal accidents\" and \"serious/slight\" accidents.\n",
    "\n",
    "To proceed we will be using the database published on Kaggle.com called \"UK Accidents 10 years history with many variables\" that collects accidents that took place from 2005-2014 in UK roads. Data are stored in 3 tables: accidents, vehicles and casualties and can be found in the following link: https://www.kaggle.com/benoit72/uk-accidents-10-years-history-with-many-variables\n",
    "\n",
    "NOTE: this database is likely to give insights / prediction model to be used only for countries like UK, Japan, Australia, India (more that 50 countries) where traffic happens from left side.\n",
    "\n",
    "---\n"
   ]
  },
  {
   "cell_type": "code",
   "execution_count": 2,
   "metadata": {},
   "outputs": [
    {
     "name": "stdout",
     "output_type": "stream",
     "text": [
      "Requirement already satisfied: scikit-learn in c:\\users\\sergio\\anaconda3\\lib\\site-packages (0.23.2)\n",
      "Requirement already satisfied: scipy>=0.19.1 in c:\\users\\sergio\\anaconda3\\lib\\site-packages (from scikit-learn) (1.4.1)\n",
      "Requirement already satisfied: numpy>=1.13.3 in c:\\users\\sergio\\anaconda3\\lib\\site-packages (from scikit-learn) (1.18.1)\n",
      "Requirement already satisfied: joblib>=0.11 in c:\\users\\sergio\\anaconda3\\lib\\site-packages (from scikit-learn) (0.14.1)\n",
      "Requirement already satisfied: threadpoolctl>=2.0.0 in c:\\users\\sergio\\anaconda3\\lib\\site-packages (from scikit-learn) (2.1.0)\n",
      "Scikit-learn lib Installed!\n"
     ]
    }
   ],
   "source": [
    "import numpy as np\n",
    "import pandas as pd\n",
    "import seaborn as sns\n",
    "import matplotlib.pyplot as plt\n",
    "\n",
    "!pip install scikit-learn\n",
    "print('Scikit-learn lib Installed!')\n",
    "from sklearn.preprocessing import StandardScaler\n",
    "from sklearn.model_selection import train_test_split\n",
    "from sklearn.linear_model import LogisticRegression\n",
    "from sklearn.metrics import f1_score\n",
    "from sklearn.metrics import confusion_matrix\n",
    "from sklearn.metrics import plot_confusion_matrix\n",
    "from sklearn.tree import DecisionTreeClassifier\n",
    "from sklearn.metrics import accuracy_score\n",
    "from sklearn import tree\n",
    "from sklearn.metrics import roc_auc_score\n",
    "from sklearn.metrics import roc_curve, auc\n",
    "from sklearn.model_selection import cross_val_score\n",
    "from sklearn import svm"
   ]
  },
  {
   "cell_type": "markdown",
   "metadata": {},
   "source": [
    "### 0. Loading data"
   ]
  },
  {
   "cell_type": "markdown",
   "metadata": {},
   "source": [
    "Loading data for each .csv data file available and dropping columns that wouldn't look as adequate or specially relevant to build a model."
   ]
  },
  {
   "cell_type": "code",
   "execution_count": 104,
   "metadata": {},
   "outputs": [
    {
     "name": "stderr",
     "output_type": "stream",
     "text": [
      "C:\\Users\\Sergio\\anaconda3\\lib\\site-packages\\IPython\\core\\interactiveshell.py:3063: DtypeWarning: Columns (31) have mixed types.Specify dtype option on import or set low_memory=False.\n",
      "  interactivity=interactivity, compiler=compiler, result=result)\n"
     ]
    }
   ],
   "source": [
    "df_accidents = pd.read_csv('Accidents0514.csv')\n",
    "\n",
    "atrib_to_drop_df_accidents = ['Location_Easting_OSGR','Location_Northing_OSGR','Longitude','Latitude',\n",
    "                             'Police_Force','Pedestrian_Crossing-Human_Control','Pedestrian_Crossing-Physical_Facilities',\n",
    "                             'Special_Conditions_at_Site','Carriageway_Hazards','Did_Police_Officer_Attend_Scene_of_Accident','LSOA_of_Accident_Location',\n",
    "                             '1st_Road_Class','1st_Road_Number','Junction_Detail','Junction_Control','2nd_Road_Class','2nd_Road_Number',\n",
    "                             'Number_of_Vehicles','Local_Authority_(District)','Local_Authority_(Highway)','Road_Type','Time','Number_of_Casualties',\n",
    "                             'Weather_Conditions']\n",
    "\n",
    "df_accidents.drop(columns = atrib_to_drop_df_accidents, inplace=True)"
   ]
  },
  {
   "cell_type": "code",
   "execution_count": 105,
   "metadata": {},
   "outputs": [],
   "source": [
    "df_vehicles = pd.read_csv('Vehicles0514.csv')\n",
    "\n",
    "atrib_to_drop_df_vehicles = ['Towing_and_Articulation','Vehicle_Manoeuvre','Vehicle_Location-Restricted_Lane','Junction_Location',\n",
    "                            'Skidding_and_Overturning','Hit_Object_in_Carriageway','Vehicle_Leaving_Carriageway','Hit_Object_off_Carriageway',\n",
    "                            'Driver_IMD_Decile','Driver_Home_Area_Type','Vehicle_Reference','Was_Vehicle_Left_Hand_Drive?','Journey_Purpose_of_Driver',\n",
    "                            'Age_of_Driver','Propulsion_Code','Engine_Capacity_(CC)']\n",
    "\n",
    "df_vehicles.drop(columns = atrib_to_drop_df_vehicles, inplace=True)"
   ]
  },
  {
   "cell_type": "code",
   "execution_count": 106,
   "metadata": {},
   "outputs": [],
   "source": [
    "df_casualties = pd.read_csv('Casualties0514.csv')\n",
    "\n",
    "atrib_to_drop_df_casualties = ['Casualty_Reference','Sex_of_Casualty','Age_of_Casualty','Age_Band_of_Casualty',\n",
    "                               'Pedestrian_Location','Pedestrian_Movement','Bus_or_Coach_Passenger','Pedestrian_Road_Maintenance_Worker',\n",
    "                               'Casualty_Home_Area_Type','Vehicle_Reference','Casualty_Class','Car_Passenger','Casualty_Type']\n",
    "\n",
    "df_casualties.drop(columns = atrib_to_drop_df_casualties, inplace=True)"
   ]
  },
  {
   "cell_type": "markdown",
   "metadata": {},
   "source": [
    "### 1. Data wrangling"
   ]
  },
  {
   "cell_type": "code",
   "execution_count": 107,
   "metadata": {},
   "outputs": [
    {
     "name": "stdout",
     "output_type": "stream",
     "text": [
      "Accident_Index                   0\n",
      "Vehicle_Type                   554\n",
      "1st_Point_of_Impact           2418\n",
      "Sex_of_Driver                   46\n",
      "Age_Band_of_Driver          405664\n",
      "Age_of_Vehicle             1155488\n",
      "Casualty_Severity                0\n",
      "Accident_Severity                0\n",
      "Date                             0\n",
      "Day_of_Week                      0\n",
      "Speed_limit                      0\n",
      "Light_Conditions                 0\n",
      "Road_Surface_Conditions       4824\n",
      "Urban_or_Rural_Area              0\n",
      "dtype: int64\n"
     ]
    }
   ],
   "source": [
    "# We join dataframes based on key column\n",
    "df = df_vehicles.join(df_casualties.set_index('Accident_Index'), on='Accident_Index')\n",
    "df = df.join(df_accidents.set_index('Accident_Index'), on='Accident_Index')\n",
    "\n",
    "# According to the data \n",
    "df = df.replace(-1,np.NaN)\n",
    "print(df.isna().sum())\n",
    "df.dropna(axis=0,inplace=True)"
   ]
  },
  {
   "cell_type": "code",
   "execution_count": 108,
   "metadata": {},
   "outputs": [
    {
     "name": "stdout",
     "output_type": "stream",
     "text": [
      "3    2469760\n",
      "2     413143\n",
      "1      61518\n",
      "Name: Accident_Severity, dtype: int64\n"
     ]
    }
   ],
   "source": [
    "print(df['Accident_Severity'].value_counts())"
   ]
  },
  {
   "cell_type": "code",
   "execution_count": 109,
   "metadata": {},
   "outputs": [
    {
     "name": "stdout",
     "output_type": "stream",
     "text": [
      "9.0     2399925\n",
      "19.0     134424\n",
      "5.0       82233\n",
      "11.0      80927\n",
      "8.0       55046\n",
      "21.0      54278\n",
      "3.0       53692\n",
      "2.0       29212\n",
      "4.0       21050\n",
      "20.0      14939\n",
      "10.0       6756\n",
      "90.0       6651\n",
      "17.0       5002\n",
      "98.0        149\n",
      "97.0        120\n",
      "22.0         11\n",
      "23.0          6\n",
      "Name: Vehicle_Type, dtype: int64\n"
     ]
    }
   ],
   "source": [
    "# In the data we have information for different kinds of vehicles, keeping only data for cares stored in value = 9\n",
    "print(df['Vehicle_Type'].value_counts())"
   ]
  },
  {
   "cell_type": "code",
   "execution_count": 110,
   "metadata": {},
   "outputs": [
    {
     "data": {
      "text/html": [
       "<div>\n",
       "<style scoped>\n",
       "    .dataframe tbody tr th:only-of-type {\n",
       "        vertical-align: middle;\n",
       "    }\n",
       "\n",
       "    .dataframe tbody tr th {\n",
       "        vertical-align: top;\n",
       "    }\n",
       "\n",
       "    .dataframe thead th {\n",
       "        text-align: right;\n",
       "    }\n",
       "</style>\n",
       "<table border=\"1\" class=\"dataframe\">\n",
       "  <thead>\n",
       "    <tr style=\"text-align: right;\">\n",
       "      <th></th>\n",
       "      <th>Accident_Index</th>\n",
       "      <th>1st_Point_of_Impact</th>\n",
       "      <th>Sex_of_Driver</th>\n",
       "      <th>Age_Band_of_Driver</th>\n",
       "      <th>Age_of_Vehicle</th>\n",
       "      <th>Casualty_Severity</th>\n",
       "      <th>Accident_Severity</th>\n",
       "      <th>Date</th>\n",
       "      <th>Day_of_Week</th>\n",
       "      <th>Speed_limit</th>\n",
       "      <th>Light_Conditions</th>\n",
       "      <th>Road_Surface_Conditions</th>\n",
       "      <th>Urban_or_Rural_Area</th>\n",
       "    </tr>\n",
       "  </thead>\n",
       "  <tbody>\n",
       "    <tr>\n",
       "      <th>3</th>\n",
       "      <td>200501BS00003</td>\n",
       "      <td>3.0</td>\n",
       "      <td>1.0</td>\n",
       "      <td>9.0</td>\n",
       "      <td>6.0</td>\n",
       "      <td>3</td>\n",
       "      <td>3</td>\n",
       "      <td>06/01/2005</td>\n",
       "      <td>5</td>\n",
       "      <td>30</td>\n",
       "      <td>4</td>\n",
       "      <td>1.0</td>\n",
       "      <td>1</td>\n",
       "    </tr>\n",
       "    <tr>\n",
       "      <th>4</th>\n",
       "      <td>200501BS00004</td>\n",
       "      <td>1.0</td>\n",
       "      <td>2.0</td>\n",
       "      <td>8.0</td>\n",
       "      <td>4.0</td>\n",
       "      <td>3</td>\n",
       "      <td>3</td>\n",
       "      <td>07/01/2005</td>\n",
       "      <td>6</td>\n",
       "      <td>30</td>\n",
       "      <td>1</td>\n",
       "      <td>1.0</td>\n",
       "      <td>1</td>\n",
       "    </tr>\n",
       "    <tr>\n",
       "      <th>6</th>\n",
       "      <td>200501BS00006</td>\n",
       "      <td>0.0</td>\n",
       "      <td>1.0</td>\n",
       "      <td>8.0</td>\n",
       "      <td>1.0</td>\n",
       "      <td>3</td>\n",
       "      <td>3</td>\n",
       "      <td>11/01/2005</td>\n",
       "      <td>3</td>\n",
       "      <td>30</td>\n",
       "      <td>1</td>\n",
       "      <td>2.0</td>\n",
       "      <td>1</td>\n",
       "    </tr>\n",
       "    <tr>\n",
       "      <th>9</th>\n",
       "      <td>200501BS00007</td>\n",
       "      <td>2.0</td>\n",
       "      <td>1.0</td>\n",
       "      <td>7.0</td>\n",
       "      <td>4.0</td>\n",
       "      <td>3</td>\n",
       "      <td>3</td>\n",
       "      <td>13/01/2005</td>\n",
       "      <td>5</td>\n",
       "      <td>30</td>\n",
       "      <td>4</td>\n",
       "      <td>1.0</td>\n",
       "      <td>1</td>\n",
       "    </tr>\n",
       "    <tr>\n",
       "      <th>10</th>\n",
       "      <td>200501BS00009</td>\n",
       "      <td>1.0</td>\n",
       "      <td>1.0</td>\n",
       "      <td>10.0</td>\n",
       "      <td>16.0</td>\n",
       "      <td>3</td>\n",
       "      <td>3</td>\n",
       "      <td>14/01/2005</td>\n",
       "      <td>6</td>\n",
       "      <td>30</td>\n",
       "      <td>1</td>\n",
       "      <td>1.0</td>\n",
       "      <td>1</td>\n",
       "    </tr>\n",
       "  </tbody>\n",
       "</table>\n",
       "</div>"
      ],
      "text/plain": [
       "   Accident_Index  1st_Point_of_Impact  Sex_of_Driver  Age_Band_of_Driver  \\\n",
       "3   200501BS00003                  3.0            1.0                 9.0   \n",
       "4   200501BS00004                  1.0            2.0                 8.0   \n",
       "6   200501BS00006                  0.0            1.0                 8.0   \n",
       "9   200501BS00007                  2.0            1.0                 7.0   \n",
       "10  200501BS00009                  1.0            1.0                10.0   \n",
       "\n",
       "    Age_of_Vehicle  Casualty_Severity  Accident_Severity        Date  \\\n",
       "3              6.0                  3                  3  06/01/2005   \n",
       "4              4.0                  3                  3  07/01/2005   \n",
       "6              1.0                  3                  3  11/01/2005   \n",
       "9              4.0                  3                  3  13/01/2005   \n",
       "10            16.0                  3                  3  14/01/2005   \n",
       "\n",
       "    Day_of_Week  Speed_limit  Light_Conditions  Road_Surface_Conditions  \\\n",
       "3             5           30                 4                      1.0   \n",
       "4             6           30                 1                      1.0   \n",
       "6             3           30                 1                      2.0   \n",
       "9             5           30                 4                      1.0   \n",
       "10            6           30                 1                      1.0   \n",
       "\n",
       "    Urban_or_Rural_Area  \n",
       "3                     1  \n",
       "4                     1  \n",
       "6                     1  \n",
       "9                     1  \n",
       "10                    1  "
      ]
     },
     "execution_count": 110,
     "metadata": {},
     "output_type": "execute_result"
    }
   ],
   "source": [
    "# Only taking car, value = 9 according to tables\n",
    "df_cars = df.loc[df['Vehicle_Type'] == 9]\n",
    "df_cars.drop(columns = 'Vehicle_Type', inplace=True)\n",
    "df_cars.head()"
   ]
  },
  {
   "cell_type": "code",
   "execution_count": 111,
   "metadata": {},
   "outputs": [
    {
     "name": "stderr",
     "output_type": "stream",
     "text": [
      "C:\\Users\\Sergio\\anaconda3\\lib\\site-packages\\pandas\\core\\frame.py:3997: SettingWithCopyWarning: \n",
      "A value is trying to be set on a copy of a slice from a DataFrame\n",
      "\n",
      "See the caveats in the documentation: https://pandas.pydata.org/pandas-docs/stable/user_guide/indexing.html#returning-a-view-versus-a-copy\n",
      "  errors=errors,\n"
     ]
    }
   ],
   "source": [
    "# Removing data values in this column that are set as not specified = 3\n",
    "df_cars.drop(df_cars.loc[df_cars['Sex_of_Driver']==3].index, inplace=True)"
   ]
  },
  {
   "cell_type": "code",
   "execution_count": 112,
   "metadata": {},
   "outputs": [],
   "source": [
    "# Keeping cars that are with an age below 30 (based on fq distribution, most data of the dataset will be conserved)\n",
    "df_cars.drop(df_cars.loc[df_cars['Age_of_Vehicle'] > 30].index, inplace=True)"
   ]
  },
  {
   "cell_type": "code",
   "execution_count": 113,
   "metadata": {},
   "outputs": [
    {
     "name": "stderr",
     "output_type": "stream",
     "text": [
      "C:\\Users\\Sergio\\anaconda3\\lib\\site-packages\\pandas\\core\\generic.py:6746: SettingWithCopyWarning: \n",
      "A value is trying to be set on a copy of a slice from a DataFrame\n",
      "\n",
      "See the caveats in the documentation: https://pandas.pydata.org/pandas-docs/stable/user_guide/indexing.html#returning-a-view-versus-a-copy\n",
      "  self._update_inplace(new_data)\n"
     ]
    }
   ],
   "source": [
    "# if 0 there is some kind of darkness situation, if 1 daylight\n",
    "df_cars['Light_Conditions'].replace({1:1 , 4:0 , 5:0, 6:0, 7:0}, inplace=True)"
   ]
  },
  {
   "cell_type": "code",
   "execution_count": 114,
   "metadata": {},
   "outputs": [],
   "source": [
    "# We set new categories (simplified) => 1 = dry , 2 = wet , 3 = ice/snow related\n",
    "df_cars['Road_Surface_Conditions'].replace({1:1 , 2:2 , 3:3, 4:3, 5:2}, inplace=True)"
   ]
  },
  {
   "cell_type": "code",
   "execution_count": 115,
   "metadata": {},
   "outputs": [],
   "source": [
    "# Accident ID can be drop now\n",
    "df_cars.drop(columns = 'Accident_Index', inplace=True)"
   ]
  },
  {
   "cell_type": "code",
   "execution_count": 116,
   "metadata": {},
   "outputs": [
    {
     "data": {
      "text/plain": [
       "1st_Point_of_Impact        float64\n",
       "Sex_of_Driver              float64\n",
       "Age_Band_of_Driver         float64\n",
       "Age_of_Vehicle             float64\n",
       "Casualty_Severity            int64\n",
       "Accident_Severity            int64\n",
       "Date                        object\n",
       "Day_of_Week                  int64\n",
       "Speed_limit                  int64\n",
       "Light_Conditions             int64\n",
       "Road_Surface_Conditions    float64\n",
       "Urban_or_Rural_Area          int64\n",
       "dtype: object"
      ]
     },
     "execution_count": 116,
     "metadata": {},
     "output_type": "execute_result"
    }
   ],
   "source": [
    "# We see the types of data we have and later replace data type accordingly if needed\n",
    "df_cars.dtypes"
   ]
  },
  {
   "cell_type": "code",
   "execution_count": 117,
   "metadata": {},
   "outputs": [
    {
     "name": "stderr",
     "output_type": "stream",
     "text": [
      "C:\\Users\\Sergio\\anaconda3\\lib\\site-packages\\ipykernel_launcher.py:2: SettingWithCopyWarning: \n",
      "A value is trying to be set on a copy of a slice from a DataFrame\n",
      "\n",
      "See the caveats in the documentation: https://pandas.pydata.org/pandas-docs/stable/user_guide/indexing.html#returning-a-view-versus-a-copy\n",
      "  \n"
     ]
    }
   ],
   "source": [
    "# We replace data type float for int\n",
    "df_cars.dropna(axis=0,inplace=True)\n",
    "df_cars = df_cars.astype({'1st_Point_of_Impact': int, \n",
    "                          'Sex_of_Driver': int,\n",
    "                          'Age_Band_of_Driver': int,\n",
    "                          'Age_of_Vehicle': int,\n",
    "                          'Road_Surface_Conditions': int})"
   ]
  },
  {
   "cell_type": "code",
   "execution_count": 118,
   "metadata": {},
   "outputs": [],
   "source": [
    "# Date is object, we make it datetime object in order to later extract month\n",
    "df_cars['Date']= pd.to_datetime(df_cars['Date'])\n",
    "\n",
    "# Extracting month from Date\n",
    "df_cars['Month'] = df_cars['Date'].dt.month\n",
    "\n",
    "# Droping Date now\n",
    "df_cars.drop(columns = ['Date'], inplace=True)"
   ]
  },
  {
   "cell_type": "code",
   "execution_count": 119,
   "metadata": {},
   "outputs": [],
   "source": [
    "# Arranging the order of the columns in the df_cars so that is easier to understand\n",
    "df_cars = df_cars[['Age_Band_of_Driver','Sex_of_Driver',\n",
    "                   'Age_of_Vehicle','Light_Conditions','Road_Surface_Conditions',\n",
    "                   'Urban_or_Rural_Area','Day_of_Week','Month','1st_Point_of_Impact','Speed_limit','Casualty_Severity',\n",
    "                   'Accident_Severity']]"
   ]
  },
  {
   "cell_type": "code",
   "execution_count": 120,
   "metadata": {},
   "outputs": [],
   "source": [
    "# In case some rows would be duplicated we remove them\n",
    "df_cars = df_cars.drop_duplicates()"
   ]
  },
  {
   "cell_type": "code",
   "execution_count": 121,
   "metadata": {},
   "outputs": [
    {
     "name": "stdout",
     "output_type": "stream",
     "text": [
      "False\n"
     ]
    }
   ],
   "source": [
    "# Accident_Severity and Casualty_Severity should be equal, checking to see if we can remove one of the columns\n",
    "print(df_cars['Accident_Severity'].equals(df_cars['Casualty_Severity']))"
   ]
  },
  {
   "cell_type": "code",
   "execution_count": 122,
   "metadata": {},
   "outputs": [
    {
     "name": "stdout",
     "output_type": "stream",
     "text": [
      "3    708523\n",
      "2     93002\n",
      "1      7610\n",
      "Name: Accident_Severity, dtype: int64\n"
     ]
    }
   ],
   "source": [
    "# Accident_Severity and Casualty_Severity are not equal according to analysis, therefore need to remove those rows do not have equal values for those columns\n",
    "df_cars.drop(df_cars.index[df_cars['Accident_Severity'] != df_cars['Casualty_Severity']], inplace = True)\n",
    "df_cars.drop(columns = ['Casualty_Severity'], inplace=True)\n",
    "print(df_cars['Accident_Severity'].value_counts())"
   ]
  },
  {
   "cell_type": "code",
   "execution_count": 123,
   "metadata": {},
   "outputs": [],
   "source": [
    "# Reseting indexes and visualizing final df_cars\n",
    "df_cars.reset_index(drop=True).head()\n",
    "\n",
    "# We save the final dataset cars.csv\n",
    "df_cars.to_csv('cars.csv',index=False)"
   ]
  },
  {
   "cell_type": "markdown",
   "metadata": {},
   "source": [
    "### 2. Data Analysis"
   ]
  },
  {
   "cell_type": "code",
   "execution_count": 124,
   "metadata": {},
   "outputs": [
    {
     "data": {
      "text/html": [
       "<div>\n",
       "<style scoped>\n",
       "    .dataframe tbody tr th:only-of-type {\n",
       "        vertical-align: middle;\n",
       "    }\n",
       "\n",
       "    .dataframe tbody tr th {\n",
       "        vertical-align: top;\n",
       "    }\n",
       "\n",
       "    .dataframe thead th {\n",
       "        text-align: right;\n",
       "    }\n",
       "</style>\n",
       "<table border=\"1\" class=\"dataframe\">\n",
       "  <thead>\n",
       "    <tr style=\"text-align: right;\">\n",
       "      <th></th>\n",
       "      <th>Age_Band_of_Driver</th>\n",
       "      <th>Sex_of_Driver</th>\n",
       "      <th>Age_of_Vehicle</th>\n",
       "      <th>Light_Conditions</th>\n",
       "      <th>Road_Surface_Conditions</th>\n",
       "      <th>Urban_or_Rural_Area</th>\n",
       "      <th>Day_of_Week</th>\n",
       "      <th>Month</th>\n",
       "      <th>1st_Point_of_Impact</th>\n",
       "      <th>Speed_limit</th>\n",
       "      <th>Accident_Severity</th>\n",
       "    </tr>\n",
       "  </thead>\n",
       "  <tbody>\n",
       "    <tr>\n",
       "      <th>0</th>\n",
       "      <td>9</td>\n",
       "      <td>1</td>\n",
       "      <td>6</td>\n",
       "      <td>0</td>\n",
       "      <td>1</td>\n",
       "      <td>1</td>\n",
       "      <td>5</td>\n",
       "      <td>6</td>\n",
       "      <td>3</td>\n",
       "      <td>30</td>\n",
       "      <td>3</td>\n",
       "    </tr>\n",
       "    <tr>\n",
       "      <th>1</th>\n",
       "      <td>8</td>\n",
       "      <td>2</td>\n",
       "      <td>4</td>\n",
       "      <td>1</td>\n",
       "      <td>1</td>\n",
       "      <td>1</td>\n",
       "      <td>6</td>\n",
       "      <td>7</td>\n",
       "      <td>1</td>\n",
       "      <td>30</td>\n",
       "      <td>3</td>\n",
       "    </tr>\n",
       "    <tr>\n",
       "      <th>2</th>\n",
       "      <td>8</td>\n",
       "      <td>1</td>\n",
       "      <td>1</td>\n",
       "      <td>1</td>\n",
       "      <td>2</td>\n",
       "      <td>1</td>\n",
       "      <td>3</td>\n",
       "      <td>11</td>\n",
       "      <td>0</td>\n",
       "      <td>30</td>\n",
       "      <td>3</td>\n",
       "    </tr>\n",
       "    <tr>\n",
       "      <th>3</th>\n",
       "      <td>7</td>\n",
       "      <td>1</td>\n",
       "      <td>4</td>\n",
       "      <td>0</td>\n",
       "      <td>1</td>\n",
       "      <td>1</td>\n",
       "      <td>5</td>\n",
       "      <td>1</td>\n",
       "      <td>2</td>\n",
       "      <td>30</td>\n",
       "      <td>3</td>\n",
       "    </tr>\n",
       "    <tr>\n",
       "      <th>4</th>\n",
       "      <td>10</td>\n",
       "      <td>1</td>\n",
       "      <td>16</td>\n",
       "      <td>1</td>\n",
       "      <td>1</td>\n",
       "      <td>1</td>\n",
       "      <td>6</td>\n",
       "      <td>1</td>\n",
       "      <td>1</td>\n",
       "      <td>30</td>\n",
       "      <td>3</td>\n",
       "    </tr>\n",
       "  </tbody>\n",
       "</table>\n",
       "</div>"
      ],
      "text/plain": [
       "   Age_Band_of_Driver  Sex_of_Driver  Age_of_Vehicle  Light_Conditions  \\\n",
       "0                   9              1               6                 0   \n",
       "1                   8              2               4                 1   \n",
       "2                   8              1               1                 1   \n",
       "3                   7              1               4                 0   \n",
       "4                  10              1              16                 1   \n",
       "\n",
       "   Road_Surface_Conditions  Urban_or_Rural_Area  Day_of_Week  Month  \\\n",
       "0                        1                    1            5      6   \n",
       "1                        1                    1            6      7   \n",
       "2                        2                    1            3     11   \n",
       "3                        1                    1            5      1   \n",
       "4                        1                    1            6      1   \n",
       "\n",
       "   1st_Point_of_Impact  Speed_limit  Accident_Severity  \n",
       "0                    3           30                  3  \n",
       "1                    1           30                  3  \n",
       "2                    0           30                  3  \n",
       "3                    2           30                  3  \n",
       "4                    1           30                  3  "
      ]
     },
     "execution_count": 124,
     "metadata": {},
     "output_type": "execute_result"
    }
   ],
   "source": [
    "# Visualizing the final df_cars\n",
    "df_cars = pd.read_csv('cars.csv')\n",
    "df_cars.head()"
   ]
  },
  {
   "cell_type": "code",
   "execution_count": 125,
   "metadata": {},
   "outputs": [
    {
     "data": {
      "text/html": [
       "<div>\n",
       "<style scoped>\n",
       "    .dataframe tbody tr th:only-of-type {\n",
       "        vertical-align: middle;\n",
       "    }\n",
       "\n",
       "    .dataframe tbody tr th {\n",
       "        vertical-align: top;\n",
       "    }\n",
       "\n",
       "    .dataframe thead th {\n",
       "        text-align: right;\n",
       "    }\n",
       "</style>\n",
       "<table border=\"1\" class=\"dataframe\">\n",
       "  <thead>\n",
       "    <tr style=\"text-align: right;\">\n",
       "      <th></th>\n",
       "      <th>Age_Band_of_Driver</th>\n",
       "      <th>Sex_of_Driver</th>\n",
       "      <th>Age_of_Vehicle</th>\n",
       "      <th>Light_Conditions</th>\n",
       "      <th>Road_Surface_Conditions</th>\n",
       "      <th>Urban_or_Rural_Area</th>\n",
       "      <th>Day_of_Week</th>\n",
       "      <th>Month</th>\n",
       "      <th>1st_Point_of_Impact</th>\n",
       "      <th>Speed_limit</th>\n",
       "      <th>Accident_Severity</th>\n",
       "    </tr>\n",
       "  </thead>\n",
       "  <tbody>\n",
       "    <tr>\n",
       "      <th>Age_Band_of_Driver</th>\n",
       "      <td>1.000000</td>\n",
       "      <td>-0.039053</td>\n",
       "      <td>-0.052373</td>\n",
       "      <td>0.128171</td>\n",
       "      <td>-0.058627</td>\n",
       "      <td>-0.010523</td>\n",
       "      <td>0.004666</td>\n",
       "      <td>0.006886</td>\n",
       "      <td>0.007731</td>\n",
       "      <td>-0.038900</td>\n",
       "      <td>-0.018924</td>\n",
       "    </tr>\n",
       "    <tr>\n",
       "      <th>Sex_of_Driver</th>\n",
       "      <td>-0.039053</td>\n",
       "      <td>1.000000</td>\n",
       "      <td>-0.068005</td>\n",
       "      <td>0.075983</td>\n",
       "      <td>0.003147</td>\n",
       "      <td>-0.007172</td>\n",
       "      <td>0.001114</td>\n",
       "      <td>-0.000074</td>\n",
       "      <td>0.012925</td>\n",
       "      <td>-0.021697</td>\n",
       "      <td>0.050586</td>\n",
       "    </tr>\n",
       "    <tr>\n",
       "      <th>Age_of_Vehicle</th>\n",
       "      <td>-0.052373</td>\n",
       "      <td>-0.068005</td>\n",
       "      <td>1.000000</td>\n",
       "      <td>0.000734</td>\n",
       "      <td>-0.015993</td>\n",
       "      <td>-0.030965</td>\n",
       "      <td>0.002975</td>\n",
       "      <td>-0.007275</td>\n",
       "      <td>-0.027582</td>\n",
       "      <td>-0.055071</td>\n",
       "      <td>0.007477</td>\n",
       "    </tr>\n",
       "    <tr>\n",
       "      <th>Light_Conditions</th>\n",
       "      <td>0.128171</td>\n",
       "      <td>0.075983</td>\n",
       "      <td>0.000734</td>\n",
       "      <td>1.000000</td>\n",
       "      <td>-0.127609</td>\n",
       "      <td>0.061716</td>\n",
       "      <td>-0.007152</td>\n",
       "      <td>-0.035643</td>\n",
       "      <td>0.024299</td>\n",
       "      <td>0.025685</td>\n",
       "      <td>0.020454</td>\n",
       "    </tr>\n",
       "    <tr>\n",
       "      <th>Road_Surface_Conditions</th>\n",
       "      <td>-0.058627</td>\n",
       "      <td>0.003147</td>\n",
       "      <td>-0.015993</td>\n",
       "      <td>-0.127609</td>\n",
       "      <td>1.000000</td>\n",
       "      <td>0.043077</td>\n",
       "      <td>-0.005593</td>\n",
       "      <td>0.043678</td>\n",
       "      <td>-0.049309</td>\n",
       "      <td>0.042093</td>\n",
       "      <td>0.059870</td>\n",
       "    </tr>\n",
       "    <tr>\n",
       "      <th>Urban_or_Rural_Area</th>\n",
       "      <td>-0.010523</td>\n",
       "      <td>-0.007172</td>\n",
       "      <td>-0.030965</td>\n",
       "      <td>0.061716</td>\n",
       "      <td>0.043077</td>\n",
       "      <td>1.000000</td>\n",
       "      <td>-0.004530</td>\n",
       "      <td>0.002986</td>\n",
       "      <td>-0.071309</td>\n",
       "      <td>0.547173</td>\n",
       "      <td>0.031530</td>\n",
       "    </tr>\n",
       "    <tr>\n",
       "      <th>Day_of_Week</th>\n",
       "      <td>0.004666</td>\n",
       "      <td>0.001114</td>\n",
       "      <td>0.002975</td>\n",
       "      <td>-0.007152</td>\n",
       "      <td>-0.005593</td>\n",
       "      <td>-0.004530</td>\n",
       "      <td>1.000000</td>\n",
       "      <td>0.000507</td>\n",
       "      <td>0.002095</td>\n",
       "      <td>-0.005977</td>\n",
       "      <td>-0.003270</td>\n",
       "    </tr>\n",
       "    <tr>\n",
       "      <th>Month</th>\n",
       "      <td>0.006886</td>\n",
       "      <td>-0.000074</td>\n",
       "      <td>-0.007275</td>\n",
       "      <td>-0.035643</td>\n",
       "      <td>0.043678</td>\n",
       "      <td>0.002986</td>\n",
       "      <td>0.000507</td>\n",
       "      <td>1.000000</td>\n",
       "      <td>-0.001602</td>\n",
       "      <td>0.003408</td>\n",
       "      <td>-0.000796</td>\n",
       "    </tr>\n",
       "    <tr>\n",
       "      <th>1st_Point_of_Impact</th>\n",
       "      <td>0.007731</td>\n",
       "      <td>0.012925</td>\n",
       "      <td>-0.027582</td>\n",
       "      <td>0.024299</td>\n",
       "      <td>-0.049309</td>\n",
       "      <td>-0.071309</td>\n",
       "      <td>0.002095</td>\n",
       "      <td>-0.001602</td>\n",
       "      <td>1.000000</td>\n",
       "      <td>-0.064987</td>\n",
       "      <td>0.023439</td>\n",
       "    </tr>\n",
       "    <tr>\n",
       "      <th>Speed_limit</th>\n",
       "      <td>-0.038900</td>\n",
       "      <td>-0.021697</td>\n",
       "      <td>-0.055071</td>\n",
       "      <td>0.025685</td>\n",
       "      <td>0.042093</td>\n",
       "      <td>0.547173</td>\n",
       "      <td>-0.005977</td>\n",
       "      <td>0.003408</td>\n",
       "      <td>-0.064987</td>\n",
       "      <td>1.000000</td>\n",
       "      <td>0.040120</td>\n",
       "    </tr>\n",
       "    <tr>\n",
       "      <th>Accident_Severity</th>\n",
       "      <td>-0.018924</td>\n",
       "      <td>0.050586</td>\n",
       "      <td>0.007477</td>\n",
       "      <td>0.020454</td>\n",
       "      <td>0.059870</td>\n",
       "      <td>0.031530</td>\n",
       "      <td>-0.003270</td>\n",
       "      <td>-0.000796</td>\n",
       "      <td>0.023439</td>\n",
       "      <td>0.040120</td>\n",
       "      <td>1.000000</td>\n",
       "    </tr>\n",
       "  </tbody>\n",
       "</table>\n",
       "</div>"
      ],
      "text/plain": [
       "                         Age_Band_of_Driver  Sex_of_Driver  Age_of_Vehicle  \\\n",
       "Age_Band_of_Driver                 1.000000      -0.039053       -0.052373   \n",
       "Sex_of_Driver                     -0.039053       1.000000       -0.068005   \n",
       "Age_of_Vehicle                    -0.052373      -0.068005        1.000000   \n",
       "Light_Conditions                   0.128171       0.075983        0.000734   \n",
       "Road_Surface_Conditions           -0.058627       0.003147       -0.015993   \n",
       "Urban_or_Rural_Area               -0.010523      -0.007172       -0.030965   \n",
       "Day_of_Week                        0.004666       0.001114        0.002975   \n",
       "Month                              0.006886      -0.000074       -0.007275   \n",
       "1st_Point_of_Impact                0.007731       0.012925       -0.027582   \n",
       "Speed_limit                       -0.038900      -0.021697       -0.055071   \n",
       "Accident_Severity                 -0.018924       0.050586        0.007477   \n",
       "\n",
       "                         Light_Conditions  Road_Surface_Conditions  \\\n",
       "Age_Band_of_Driver               0.128171                -0.058627   \n",
       "Sex_of_Driver                    0.075983                 0.003147   \n",
       "Age_of_Vehicle                   0.000734                -0.015993   \n",
       "Light_Conditions                 1.000000                -0.127609   \n",
       "Road_Surface_Conditions         -0.127609                 1.000000   \n",
       "Urban_or_Rural_Area              0.061716                 0.043077   \n",
       "Day_of_Week                     -0.007152                -0.005593   \n",
       "Month                           -0.035643                 0.043678   \n",
       "1st_Point_of_Impact              0.024299                -0.049309   \n",
       "Speed_limit                      0.025685                 0.042093   \n",
       "Accident_Severity                0.020454                 0.059870   \n",
       "\n",
       "                         Urban_or_Rural_Area  Day_of_Week     Month  \\\n",
       "Age_Band_of_Driver                 -0.010523     0.004666  0.006886   \n",
       "Sex_of_Driver                      -0.007172     0.001114 -0.000074   \n",
       "Age_of_Vehicle                     -0.030965     0.002975 -0.007275   \n",
       "Light_Conditions                    0.061716    -0.007152 -0.035643   \n",
       "Road_Surface_Conditions             0.043077    -0.005593  0.043678   \n",
       "Urban_or_Rural_Area                 1.000000    -0.004530  0.002986   \n",
       "Day_of_Week                        -0.004530     1.000000  0.000507   \n",
       "Month                               0.002986     0.000507  1.000000   \n",
       "1st_Point_of_Impact                -0.071309     0.002095 -0.001602   \n",
       "Speed_limit                         0.547173    -0.005977  0.003408   \n",
       "Accident_Severity                   0.031530    -0.003270 -0.000796   \n",
       "\n",
       "                         1st_Point_of_Impact  Speed_limit  Accident_Severity  \n",
       "Age_Band_of_Driver                  0.007731    -0.038900          -0.018924  \n",
       "Sex_of_Driver                       0.012925    -0.021697           0.050586  \n",
       "Age_of_Vehicle                     -0.027582    -0.055071           0.007477  \n",
       "Light_Conditions                    0.024299     0.025685           0.020454  \n",
       "Road_Surface_Conditions            -0.049309     0.042093           0.059870  \n",
       "Urban_or_Rural_Area                -0.071309     0.547173           0.031530  \n",
       "Day_of_Week                         0.002095    -0.005977          -0.003270  \n",
       "Month                              -0.001602     0.003408          -0.000796  \n",
       "1st_Point_of_Impact                 1.000000    -0.064987           0.023439  \n",
       "Speed_limit                        -0.064987     1.000000           0.040120  \n",
       "Accident_Severity                   0.023439     0.040120           1.000000  "
      ]
     },
     "execution_count": 125,
     "metadata": {},
     "output_type": "execute_result"
    }
   ],
   "source": [
    "# We prove that the variables conserved have an interesting correlation with the outcome of the accident = severity\n",
    "# Note that Age_Band_of_Driver and Age_of_vehicle have a significant negative correlation with Accident_Severity\n",
    "# Note also that Sex_of_Driver and Light_Conditions have a significant positive impact in the Accident_Severity\n",
    "df_cars.corr()"
   ]
  },
  {
   "cell_type": "markdown",
   "metadata": {},
   "source": [
    "We need now to analyze the selected variables vs Accident_Severity to decide thresholding and improve categorization of the data"
   ]
  },
  {
   "cell_type": "markdown",
   "metadata": {},
   "source": [
    "#### 2.0. Accdent_Severity"
   ]
  },
  {
   "cell_type": "code",
   "execution_count": 126,
   "metadata": {},
   "outputs": [
    {
     "name": "stdout",
     "output_type": "stream",
     "text": [
      "3    708523\n",
      "2     93002\n",
      "1      7610\n",
      "Name: Accident_Severity, dtype: int64\n"
     ]
    }
   ],
   "source": [
    "# We verify the distribution we have for Accident_Severity\n",
    "print(df_cars['Accident_Severity'].value_counts())"
   ]
  },
  {
   "cell_type": "markdown",
   "metadata": {},
   "source": [
    "#### 2.1. Age_Band_of_Driver"
   ]
  },
  {
   "cell_type": "code",
   "execution_count": 127,
   "metadata": {},
   "outputs": [],
   "source": [
    "x = df_cars['Accident_Severity'].values\n",
    "y = df_cars['Age_Band_of_Driver'].values"
   ]
  },
  {
   "cell_type": "code",
   "execution_count": 128,
   "metadata": {},
   "outputs": [
    {
     "data": {
      "text/plain": [
       "(array([3.00000e+00, 1.00000e+01, 3.45000e+02, 9.85790e+04, 1.15612e+05,\n",
       "        1.56185e+05, 1.46305e+05, 1.20545e+05, 8.51130e+04, 8.64380e+04]),\n",
       " array([ 1.,  2.,  3.,  4.,  5.,  6.,  7.,  8.,  9., 10., 11.]),\n",
       " <a list of 10 Patch objects>)"
      ]
     },
     "execution_count": 128,
     "metadata": {},
     "output_type": "execute_result"
    },
    {
     "data": {
      "image/png": "[encoded data removed]",
      "text/plain": [
       "<Figure size 432x288 with 1 Axes>"
      ]
     },
     "metadata": {
      "needs_background": "light"
     },
     "output_type": "display_data"
    }
   ],
   "source": [
    "#plt.subplot(121)\n",
    "plt.hist(df_cars['Age_Band_of_Driver'])"
   ]
  },
  {
   "cell_type": "code",
   "execution_count": 129,
   "metadata": {},
   "outputs": [
    {
     "data": {
      "text/plain": [
       "<matplotlib.axes._subplots.AxesSubplot at 0x17f19085748>"
      ]
     },
     "execution_count": 129,
     "metadata": {},
     "output_type": "execute_result"
    },
    {
     "data": {
      "image/png": "[encoded data removed]",
      "text/plain": [
       "<Figure size 432x288 with 1 Axes>"
      ]
     },
     "metadata": {
      "needs_background": "light"
     },
     "output_type": "display_data"
    }
   ],
   "source": [
    "sns.boxplot(x=x, y=y)"
   ]
  },
  {
   "cell_type": "code",
   "execution_count": 130,
   "metadata": {},
   "outputs": [
    {
     "data": {
      "text/plain": [
       "Accident_Severity  Age_Band_of_Driver\n",
       "1                  3                          7\n",
       "                   4                        869\n",
       "                   5                       1115\n",
       "                   6                       1541\n",
       "                   7                       1288\n",
       "                   8                       1076\n",
       "                   9                        737\n",
       "                   10                       493\n",
       "                   11                       484\n",
       "2                  2                          3\n",
       "                   3                         39\n",
       "                   4                       9902\n",
       "                   5                      12523\n",
       "                   6                      18297\n",
       "                   7                      17197\n",
       "                   8                      14144\n",
       "                   9                      10017\n",
       "                   10                      6091\n",
       "                   11                      4789\n",
       "3                  1                          3\n",
       "                   2                          7\n",
       "                   3                        299\n",
       "                   4                      87808\n",
       "                   5                     101974\n",
       "                   6                     136347\n",
       "                   7                     127820\n",
       "                   8                     105325\n",
       "                   9                      74359\n",
       "                   10                     44688\n",
       "                   11                     29893\n",
       "dtype: int64"
      ]
     },
     "execution_count": 130,
     "metadata": {},
     "output_type": "execute_result"
    }
   ],
   "source": [
    "df_cars.groupby(['Accident_Severity','Age_Band_of_Driver']).size()"
   ]
  },
  {
   "cell_type": "code",
   "execution_count": 131,
   "metadata": {},
   "outputs": [],
   "source": [
    "df_cars['Age_Band_of_Driver'].replace({1:0 , 2:0 , 3:0, 4:1, 5:1, 6:1, 7:1, 8:1, 9:1, 10:2, 11:2}, inplace=True)"
   ]
  },
  {
   "cell_type": "markdown",
   "metadata": {},
   "source": [
    "#### 2.2. Sex_of_Driver"
   ]
  },
  {
   "cell_type": "code",
   "execution_count": 132,
   "metadata": {},
   "outputs": [],
   "source": [
    "y = df_cars['Sex_of_Driver'].values"
   ]
  },
  {
   "cell_type": "code",
   "execution_count": 133,
   "metadata": {},
   "outputs": [
    {
     "data": {
      "text/plain": [
       "Accident_Severity  Sex_of_Driver\n",
       "1                  1                  5686\n",
       "                   2                  1924\n",
       "2                  1                 59228\n",
       "                   2                 33774\n",
       "3                  1                407581\n",
       "                   2                300942\n",
       "dtype: int64"
      ]
     },
     "execution_count": 133,
     "metadata": {},
     "output_type": "execute_result"
    }
   ],
   "source": [
    "df_cars.groupby(['Accident_Severity','Sex_of_Driver']).size()"
   ]
  },
  {
   "cell_type": "markdown",
   "metadata": {},
   "source": [
    "#### 2.4. Age_of_Vehicle"
   ]
  },
  {
   "cell_type": "code",
   "execution_count": 134,
   "metadata": {},
   "outputs": [
    {
     "data": {
      "text/plain": [
       "(array([170426., 177871., 179832., 153373.,  84966.,  30086.,   8492.,\n",
       "          2691.,    970.,    428.]),\n",
       " array([ 1. ,  3.9,  6.8,  9.7, 12.6, 15.5, 18.4, 21.3, 24.2, 27.1, 30. ]),\n",
       " <a list of 10 Patch objects>)"
      ]
     },
     "execution_count": 134,
     "metadata": {},
     "output_type": "execute_result"
    },
    {
     "data": {
      "image/png": "[encoded data removed]",
      "text/plain": [
       "<Figure size 432x288 with 1 Axes>"
      ]
     },
     "metadata": {
      "needs_background": "light"
     },
     "output_type": "display_data"
    }
   ],
   "source": [
    "plt.hist(df_cars['Age_of_Vehicle'])"
   ]
  },
  {
   "cell_type": "code",
   "execution_count": 135,
   "metadata": {},
   "outputs": [],
   "source": [
    "y = df_cars['Age_of_Vehicle'].values"
   ]
  },
  {
   "cell_type": "code",
   "execution_count": 136,
   "metadata": {},
   "outputs": [
    {
     "data": {
      "text/plain": [
       "Accident_Severity  Age_of_Vehicle\n",
       "1                  1                 521\n",
       "                   2                 498\n",
       "                   3                 507\n",
       "                   4                 545\n",
       "                   5                 544\n",
       "                                    ... \n",
       "3                  26                248\n",
       "                   27                204\n",
       "                   28                163\n",
       "                   29                127\n",
       "                   30                 93\n",
       "Length: 88, dtype: int64"
      ]
     },
     "execution_count": 136,
     "metadata": {},
     "output_type": "execute_result"
    }
   ],
   "source": [
    "df_cars.groupby(['Accident_Severity','Age_of_Vehicle']).size()"
   ]
  },
  {
   "cell_type": "code",
   "execution_count": 137,
   "metadata": {},
   "outputs": [],
   "source": [
    "df_cars['Age_of_Vehicle'].replace({1:0 , 2:0 , 3:0, 4:0, 5:0, 6:0, 7:0, 8:0, 9:0, 10:0,\n",
    "                                 11:0, 12:0, 13:0, 14:0, 15:0, 16:1, 17:1, 18:1, 19:1, 20:1,\n",
    "                                  21:1, 22:1, 23:1, 24:1, 25:1, 26:1, 27:1, 28:1, 29:1, 30:1}, inplace=True)"
   ]
  },
  {
   "cell_type": "code",
   "execution_count": 138,
   "metadata": {},
   "outputs": [
    {
     "data": {
      "text/plain": [
       "Accident_Severity  Age_of_Vehicle\n",
       "1                  0                   7268\n",
       "                   1                    342\n",
       "2                  0                  88870\n",
       "                   1                   4132\n",
       "3                  0                 670330\n",
       "                   1                  38193\n",
       "dtype: int64"
      ]
     },
     "execution_count": 138,
     "metadata": {},
     "output_type": "execute_result"
    }
   ],
   "source": [
    "df_cars.groupby(['Accident_Severity','Age_of_Vehicle']).size()"
   ]
  },
  {
   "cell_type": "markdown",
   "metadata": {},
   "source": [
    "#### 2.5. Urban or rural area"
   ]
  },
  {
   "cell_type": "code",
   "execution_count": 139,
   "metadata": {},
   "outputs": [
    {
     "data": {
      "text/plain": [
       "2    405485\n",
       "1    403550\n",
       "3       100\n",
       "Name: Urban_or_Rural_Area, dtype: int64"
      ]
     },
     "execution_count": 139,
     "metadata": {},
     "output_type": "execute_result"
    }
   ],
   "source": [
    "df_cars['Urban_or_Rural_Area'].value_counts()"
   ]
  },
  {
   "cell_type": "markdown",
   "metadata": {},
   "source": [
    "We will group big cities accidents in 0 and the rest small cities and rural in 1"
   ]
  },
  {
   "cell_type": "code",
   "execution_count": 140,
   "metadata": {},
   "outputs": [],
   "source": [
    "df_cars['Urban_or_Rural_Area'].replace({1:0 , 2:1, 3:1}, inplace=True)"
   ]
  },
  {
   "cell_type": "markdown",
   "metadata": {},
   "source": [
    "#### 2.6. Day of the week"
   ]
  },
  {
   "cell_type": "code",
   "execution_count": 141,
   "metadata": {},
   "outputs": [
    {
     "data": {
      "text/plain": [
       "6    127781\n",
       "4    119215\n",
       "5    118679\n",
       "3    117875\n",
       "2    114413\n",
       "7    111415\n",
       "1     99757\n",
       "Name: Day_of_Week, dtype: int64"
      ]
     },
     "execution_count": 141,
     "metadata": {},
     "output_type": "execute_result"
    }
   ],
   "source": [
    "df_cars['Day_of_Week'].value_counts()"
   ]
  },
  {
   "cell_type": "code",
   "execution_count": 142,
   "metadata": {},
   "outputs": [
    {
     "data": {
      "text/plain": [
       "Accident_Severity  Day_of_Week\n",
       "1                  1                1236\n",
       "                   2                 937\n",
       "                   3                 950\n",
       "                   4                 982\n",
       "                   5                 995\n",
       "                   6                1176\n",
       "                   7                1334\n",
       "2                  1               11649\n",
       "                   2               12839\n",
       "                   3               13500\n",
       "                   4               13409\n",
       "                   5               13660\n",
       "                   6               14742\n",
       "                   7               13203\n",
       "3                  1               86872\n",
       "                   2              100637\n",
       "                   3              103425\n",
       "                   4              104824\n",
       "                   5              104024\n",
       "                   6              111863\n",
       "                   7               96878\n",
       "dtype: int64"
      ]
     },
     "execution_count": 142,
     "metadata": {},
     "output_type": "execute_result"
    }
   ],
   "source": [
    "df_cars.groupby(['Accident_Severity','Day_of_Week']).size()"
   ]
  },
  {
   "cell_type": "code",
   "execution_count": 143,
   "metadata": {},
   "outputs": [],
   "source": [
    "df_cars['Day_of_Week'].replace({1:0 , 2:1 , 3:1, 4:1, 5:1, 6:0, 7:0}, inplace=True)"
   ]
  },
  {
   "cell_type": "markdown",
   "metadata": {},
   "source": [
    "#### 2.7. Month"
   ]
  },
  {
   "cell_type": "code",
   "execution_count": 144,
   "metadata": {},
   "outputs": [
    {
     "data": {
      "text/plain": [
       "11    75906\n",
       "1     75002\n",
       "12    72793\n",
       "10    70708\n",
       "9     65415\n",
       "2     65091\n",
       "3     65001\n",
       "8     64922\n",
       "5     64789\n",
       "7     64154\n",
       "6     63231\n",
       "4     62123\n",
       "Name: Month, dtype: int64"
      ]
     },
     "execution_count": 144,
     "metadata": {},
     "output_type": "execute_result"
    }
   ],
   "source": [
    "df_cars['Month'].value_counts()"
   ]
  },
  {
   "cell_type": "code",
   "execution_count": 145,
   "metadata": {},
   "outputs": [
    {
     "data": {
      "text/plain": [
       "Accident_Severity  Month\n",
       "1                  1          671\n",
       "                   2          591\n",
       "                   3          616\n",
       "                   4          547\n",
       "                   5          604\n",
       "                   6          555\n",
       "                   7          634\n",
       "                   8          605\n",
       "                   9          662\n",
       "                   10         713\n",
       "                   11         710\n",
       "                   12         702\n",
       "2                  1         8182\n",
       "                   2         7075\n",
       "                   3         7451\n",
       "                   4         7325\n",
       "                   5         7754\n",
       "                   6         7688\n",
       "                   7         7695\n",
       "                   8         7596\n",
       "                   9         7981\n",
       "                   10        8365\n",
       "                   11        8330\n",
       "                   12        7560\n",
       "3                  1        66149\n",
       "                   2        57425\n",
       "                   3        56934\n",
       "                   4        54251\n",
       "                   5        56431\n",
       "                   6        54988\n",
       "                   7        55825\n",
       "                   8        56721\n",
       "                   9        56772\n",
       "                   10       61630\n",
       "                   11       66866\n",
       "                   12       64531\n",
       "dtype: int64"
      ]
     },
     "execution_count": 145,
     "metadata": {},
     "output_type": "execute_result"
    }
   ],
   "source": [
    "df_cars.groupby(['Accident_Severity','Month']).size()"
   ]
  },
  {
   "cell_type": "code",
   "execution_count": 146,
   "metadata": {},
   "outputs": [],
   "source": [
    "df_cars['Month'].replace({1:1 , 2:1 , 3:2, 4:2, 5:2, 6:3, 7:3, 8:3, 9:4, 10:4, 11:4, 12:1}, inplace=True)"
   ]
  },
  {
   "cell_type": "markdown",
   "metadata": {},
   "source": [
    "#### 2.8. Point of impact"
   ]
  },
  {
   "cell_type": "code",
   "execution_count": 147,
   "metadata": {},
   "outputs": [
    {
     "data": {
      "text/plain": [
       "1    337100\n",
       "2    178609\n",
       "3    135209\n",
       "4    116588\n",
       "0     41629\n",
       "Name: 1st_Point_of_Impact, dtype: int64"
      ]
     },
     "execution_count": 147,
     "metadata": {},
     "output_type": "execute_result"
    }
   ],
   "source": [
    "df_cars['1st_Point_of_Impact'].value_counts()"
   ]
  },
  {
   "cell_type": "code",
   "execution_count": 148,
   "metadata": {},
   "outputs": [
    {
     "data": {
      "text/plain": [
       "Accident_Severity  1st_Point_of_Impact\n",
       "1                  0                         649\n",
       "                   1                        4462\n",
       "                   2                         398\n",
       "                   3                        1172\n",
       "                   4                         929\n",
       "2                  0                        5146\n",
       "                   1                       46465\n",
       "                   2                        9403\n",
       "                   3                       16832\n",
       "                   4                       15156\n",
       "3                  0                       35834\n",
       "                   1                      286173\n",
       "                   2                      168808\n",
       "                   3                      117205\n",
       "                   4                      100503\n",
       "dtype: int64"
      ]
     },
     "execution_count": 148,
     "metadata": {},
     "output_type": "execute_result"
    }
   ],
   "source": [
    "df_cars.groupby(['Accident_Severity','1st_Point_of_Impact']).size()"
   ]
  },
  {
   "cell_type": "code",
   "execution_count": 149,
   "metadata": {},
   "outputs": [],
   "source": [
    "df_cars['1st_Point_of_Impact'].replace({0:0, 1:1 , 2:1, 3:1, 4:1}, inplace=True)"
   ]
  },
  {
   "cell_type": "markdown",
   "metadata": {},
   "source": [
    "#### 2.9. Speed limit"
   ]
  },
  {
   "cell_type": "code",
   "execution_count": 150,
   "metadata": {},
   "outputs": [
    {
     "data": {
      "text/plain": [
       "Accident_Severity  Speed_limit\n",
       "1                  10                  1\n",
       "                   20                 36\n",
       "                   30               2768\n",
       "                   40                768\n",
       "                   50                372\n",
       "                   60               2637\n",
       "                   70               1028\n",
       "2                  20               1241\n",
       "                   30              53202\n",
       "                   40               9020\n",
       "                   50               3724\n",
       "                   60              19207\n",
       "                   70               6608\n",
       "3                  10                  5\n",
       "                   15                 13\n",
       "                   20              10699\n",
       "                   30             315925\n",
       "                   40             105370\n",
       "                   50              47820\n",
       "                   60             136854\n",
       "                   70              91837\n",
       "dtype: int64"
      ]
     },
     "execution_count": 150,
     "metadata": {},
     "output_type": "execute_result"
    }
   ],
   "source": [
    "df_cars.groupby(['Accident_Severity','Speed_limit']).size()"
   ]
  },
  {
   "cell_type": "code",
   "execution_count": 151,
   "metadata": {},
   "outputs": [],
   "source": [
    "df_cars['Speed_limit'].replace({10:0, 15:0 , 20:0, 30:1, 40:1, 50:1, 60:2, 70:2}, inplace=True)"
   ]
  },
  {
   "cell_type": "code",
   "execution_count": 152,
   "metadata": {},
   "outputs": [
    {
     "data": {
      "text/html": [
       "<div>\n",
       "<style scoped>\n",
       "    .dataframe tbody tr th:only-of-type {\n",
       "        vertical-align: middle;\n",
       "    }\n",
       "\n",
       "    .dataframe tbody tr th {\n",
       "        vertical-align: top;\n",
       "    }\n",
       "\n",
       "    .dataframe thead th {\n",
       "        text-align: right;\n",
       "    }\n",
       "</style>\n",
       "<table border=\"1\" class=\"dataframe\">\n",
       "  <thead>\n",
       "    <tr style=\"text-align: right;\">\n",
       "      <th></th>\n",
       "      <th>Age_Band_of_Driver</th>\n",
       "      <th>Sex_of_Driver</th>\n",
       "      <th>Age_of_Vehicle</th>\n",
       "      <th>Light_Conditions</th>\n",
       "      <th>Road_Surface_Conditions</th>\n",
       "      <th>Urban_or_Rural_Area</th>\n",
       "      <th>Day_of_Week</th>\n",
       "      <th>Month</th>\n",
       "      <th>1st_Point_of_Impact</th>\n",
       "      <th>Speed_limit</th>\n",
       "      <th>Accident_Severity</th>\n",
       "    </tr>\n",
       "  </thead>\n",
       "  <tbody>\n",
       "    <tr>\n",
       "      <th>Age_Band_of_Driver</th>\n",
       "      <td>1.000000</td>\n",
       "      <td>-0.054383</td>\n",
       "      <td>0.015957</td>\n",
       "      <td>0.094545</td>\n",
       "      <td>-0.060263</td>\n",
       "      <td>-0.007543</td>\n",
       "      <td>0.010267</td>\n",
       "      <td>0.005563</td>\n",
       "      <td>0.019807</td>\n",
       "      <td>-0.026505</td>\n",
       "      <td>-0.013751</td>\n",
       "    </tr>\n",
       "    <tr>\n",
       "      <th>Sex_of_Driver</th>\n",
       "      <td>-0.054383</td>\n",
       "      <td>1.000000</td>\n",
       "      <td>-0.060846</td>\n",
       "      <td>0.075983</td>\n",
       "      <td>0.003147</td>\n",
       "      <td>-0.007143</td>\n",
       "      <td>0.037496</td>\n",
       "      <td>0.000081</td>\n",
       "      <td>0.018838</td>\n",
       "      <td>-0.017044</td>\n",
       "      <td>0.050586</td>\n",
       "    </tr>\n",
       "    <tr>\n",
       "      <th>Age_of_Vehicle</th>\n",
       "      <td>0.015957</td>\n",
       "      <td>-0.060846</td>\n",
       "      <td>1.000000</td>\n",
       "      <td>0.019645</td>\n",
       "      <td>-0.027374</td>\n",
       "      <td>-0.025483</td>\n",
       "      <td>-0.002628</td>\n",
       "      <td>-0.001950</td>\n",
       "      <td>0.015524</td>\n",
       "      <td>-0.018148</td>\n",
       "      <td>0.013422</td>\n",
       "    </tr>\n",
       "    <tr>\n",
       "      <th>Light_Conditions</th>\n",
       "      <td>0.094545</td>\n",
       "      <td>0.075983</td>\n",
       "      <td>0.019645</td>\n",
       "      <td>1.000000</td>\n",
       "      <td>-0.127609</td>\n",
       "      <td>0.061692</td>\n",
       "      <td>0.024650</td>\n",
       "      <td>0.031292</td>\n",
       "      <td>-0.018539</td>\n",
       "      <td>0.008611</td>\n",
       "      <td>0.020454</td>\n",
       "    </tr>\n",
       "    <tr>\n",
       "      <th>Road_Surface_Conditions</th>\n",
       "      <td>-0.060263</td>\n",
       "      <td>0.003147</td>\n",
       "      <td>-0.027374</td>\n",
       "      <td>-0.127609</td>\n",
       "      <td>1.000000</td>\n",
       "      <td>0.043163</td>\n",
       "      <td>0.017815</td>\n",
       "      <td>-0.074241</td>\n",
       "      <td>0.035871</td>\n",
       "      <td>0.068568</td>\n",
       "      <td>0.059870</td>\n",
       "    </tr>\n",
       "    <tr>\n",
       "      <th>Urban_or_Rural_Area</th>\n",
       "      <td>-0.007543</td>\n",
       "      <td>-0.007143</td>\n",
       "      <td>-0.025483</td>\n",
       "      <td>0.061692</td>\n",
       "      <td>0.043163</td>\n",
       "      <td>1.000000</td>\n",
       "      <td>-0.010868</td>\n",
       "      <td>0.005851</td>\n",
       "      <td>0.015585</td>\n",
       "      <td>0.515318</td>\n",
       "      <td>0.031516</td>\n",
       "    </tr>\n",
       "    <tr>\n",
       "      <th>Day_of_Week</th>\n",
       "      <td>0.010267</td>\n",
       "      <td>0.037496</td>\n",
       "      <td>-0.002628</td>\n",
       "      <td>0.024650</td>\n",
       "      <td>0.017815</td>\n",
       "      <td>-0.010868</td>\n",
       "      <td>1.000000</td>\n",
       "      <td>-0.005842</td>\n",
       "      <td>0.004902</td>\n",
       "      <td>-0.010687</td>\n",
       "      <td>0.011952</td>\n",
       "    </tr>\n",
       "    <tr>\n",
       "      <th>Month</th>\n",
       "      <td>0.005563</td>\n",
       "      <td>0.000081</td>\n",
       "      <td>-0.001950</td>\n",
       "      <td>0.031292</td>\n",
       "      <td>-0.074241</td>\n",
       "      <td>0.005851</td>\n",
       "      <td>-0.005842</td>\n",
       "      <td>1.000000</td>\n",
       "      <td>-0.006258</td>\n",
       "      <td>-0.002700</td>\n",
       "      <td>-0.010480</td>\n",
       "    </tr>\n",
       "    <tr>\n",
       "      <th>1st_Point_of_Impact</th>\n",
       "      <td>0.019807</td>\n",
       "      <td>0.018838</td>\n",
       "      <td>0.015524</td>\n",
       "      <td>-0.018539</td>\n",
       "      <td>0.035871</td>\n",
       "      <td>0.015585</td>\n",
       "      <td>0.004902</td>\n",
       "      <td>-0.006258</td>\n",
       "      <td>1.000000</td>\n",
       "      <td>-0.000325</td>\n",
       "      <td>0.013356</td>\n",
       "    </tr>\n",
       "    <tr>\n",
       "      <th>Speed_limit</th>\n",
       "      <td>-0.026505</td>\n",
       "      <td>-0.017044</td>\n",
       "      <td>-0.018148</td>\n",
       "      <td>0.008611</td>\n",
       "      <td>0.068568</td>\n",
       "      <td>0.515318</td>\n",
       "      <td>-0.010687</td>\n",
       "      <td>-0.002700</td>\n",
       "      <td>-0.000325</td>\n",
       "      <td>1.000000</td>\n",
       "      <td>0.007514</td>\n",
       "    </tr>\n",
       "    <tr>\n",
       "      <th>Accident_Severity</th>\n",
       "      <td>-0.013751</td>\n",
       "      <td>0.050586</td>\n",
       "      <td>0.013422</td>\n",
       "      <td>0.020454</td>\n",
       "      <td>0.059870</td>\n",
       "      <td>0.031516</td>\n",
       "      <td>0.011952</td>\n",
       "      <td>-0.010480</td>\n",
       "      <td>0.013356</td>\n",
       "      <td>0.007514</td>\n",
       "      <td>1.000000</td>\n",
       "    </tr>\n",
       "  </tbody>\n",
       "</table>\n",
       "</div>"
      ],
      "text/plain": [
       "                         Age_Band_of_Driver  Sex_of_Driver  Age_of_Vehicle  \\\n",
       "Age_Band_of_Driver                 1.000000      -0.054383        0.015957   \n",
       "Sex_of_Driver                     -0.054383       1.000000       -0.060846   \n",
       "Age_of_Vehicle                     0.015957      -0.060846        1.000000   \n",
       "Light_Conditions                   0.094545       0.075983        0.019645   \n",
       "Road_Surface_Conditions           -0.060263       0.003147       -0.027374   \n",
       "Urban_or_Rural_Area               -0.007543      -0.007143       -0.025483   \n",
       "Day_of_Week                        0.010267       0.037496       -0.002628   \n",
       "Month                              0.005563       0.000081       -0.001950   \n",
       "1st_Point_of_Impact                0.019807       0.018838        0.015524   \n",
       "Speed_limit                       -0.026505      -0.017044       -0.018148   \n",
       "Accident_Severity                 -0.013751       0.050586        0.013422   \n",
       "\n",
       "                         Light_Conditions  Road_Surface_Conditions  \\\n",
       "Age_Band_of_Driver               0.094545                -0.060263   \n",
       "Sex_of_Driver                    0.075983                 0.003147   \n",
       "Age_of_Vehicle                   0.019645                -0.027374   \n",
       "Light_Conditions                 1.000000                -0.127609   \n",
       "Road_Surface_Conditions         -0.127609                 1.000000   \n",
       "Urban_or_Rural_Area              0.061692                 0.043163   \n",
       "Day_of_Week                      0.024650                 0.017815   \n",
       "Month                            0.031292                -0.074241   \n",
       "1st_Point_of_Impact             -0.018539                 0.035871   \n",
       "Speed_limit                      0.008611                 0.068568   \n",
       "Accident_Severity                0.020454                 0.059870   \n",
       "\n",
       "                         Urban_or_Rural_Area  Day_of_Week     Month  \\\n",
       "Age_Band_of_Driver                 -0.007543     0.010267  0.005563   \n",
       "Sex_of_Driver                      -0.007143     0.037496  0.000081   \n",
       "Age_of_Vehicle                     -0.025483    -0.002628 -0.001950   \n",
       "Light_Conditions                    0.061692     0.024650  0.031292   \n",
       "Road_Surface_Conditions             0.043163     0.017815 -0.074241   \n",
       "Urban_or_Rural_Area                 1.000000    -0.010868  0.005851   \n",
       "Day_of_Week                        -0.010868     1.000000 -0.005842   \n",
       "Month                               0.005851    -0.005842  1.000000   \n",
       "1st_Point_of_Impact                 0.015585     0.004902 -0.006258   \n",
       "Speed_limit                         0.515318    -0.010687 -0.002700   \n",
       "Accident_Severity                   0.031516     0.011952 -0.010480   \n",
       "\n",
       "                         1st_Point_of_Impact  Speed_limit  Accident_Severity  \n",
       "Age_Band_of_Driver                  0.019807    -0.026505          -0.013751  \n",
       "Sex_of_Driver                       0.018838    -0.017044           0.050586  \n",
       "Age_of_Vehicle                      0.015524    -0.018148           0.013422  \n",
       "Light_Conditions                   -0.018539     0.008611           0.020454  \n",
       "Road_Surface_Conditions             0.035871     0.068568           0.059870  \n",
       "Urban_or_Rural_Area                 0.015585     0.515318           0.031516  \n",
       "Day_of_Week                         0.004902    -0.010687           0.011952  \n",
       "Month                              -0.006258    -0.002700          -0.010480  \n",
       "1st_Point_of_Impact                 1.000000    -0.000325           0.013356  \n",
       "Speed_limit                        -0.000325     1.000000           0.007514  \n",
       "Accident_Severity                   0.013356     0.007514           1.000000  "
      ]
     },
     "execution_count": 152,
     "metadata": {},
     "output_type": "execute_result"
    }
   ],
   "source": [
    "df_cars.corr()"
   ]
  },
  {
   "cell_type": "markdown",
   "metadata": {},
   "source": [
    "### 3. Modeling"
   ]
  },
  {
   "cell_type": "markdown",
   "metadata": {},
   "source": [
    "### 3.1. Logistic regression"
   ]
  },
  {
   "cell_type": "markdown",
   "metadata": {},
   "source": [
    "#### 3.1.1. Logistic regression: with all values"
   ]
  },
  {
   "cell_type": "markdown",
   "metadata": {},
   "source": [
    "If we take all the values we will get a model that is good to predict low severity accidents BUT will not predict other scenarios:"
   ]
  },
  {
   "cell_type": "code",
   "execution_count": 153,
   "metadata": {},
   "outputs": [
    {
     "name": "stdout",
     "output_type": "stream",
     "text": [
      "[[     0   2351]\n",
      " [     1  27874]\n",
      " [     2 212516]]\n",
      "Logistic regression f1_score:  0.3112029761943986\n",
      "Logistic Regression Accuracy:  0.875484569973758\n"
     ]
    },
    {
     "data": {
      "image/png": "[encoded data removed]",
      "text/plain": [
       "<Figure size 432x288 with 2 Axes>"
      ]
     },
     "metadata": {
      "needs_background": "light"
     },
     "output_type": "display_data"
    }
   ],
   "source": [
    "df_cars['Accident_Severity'].replace({1:0 , 2:1 , 3:2}, inplace=True)\n",
    "\n",
    "# We prepare X and y\n",
    "cars = df_cars.values\n",
    "n,m = cars.shape\n",
    "\n",
    "X = cars[:,0:m-1]\n",
    "y = cars[:,m-1]\n",
    "\n",
    "# We normalize X\n",
    "X = StandardScaler().fit(X).transform(X)\n",
    "\n",
    "# We make a partition of the X and y data, to have training and test data --> we use 20% of the data for test purposes and we take them randomly with shuffle = True\n",
    "X_train, X_test, y_train, y_test = train_test_split(X, y, test_size = 0.3, shuffle=True)\n",
    "\n",
    "# Let's verify that in the training set we have variety of data between 0 (fatal) and 2 (low severity)\n",
    "(unique, counts) = np.unique(y_test, return_counts=True)\n",
    "frequencies = np.asarray((unique, counts)).T\n",
    "print(frequencies)\n",
    "\n",
    "# We create the logistic regression model for this multiclass case, and we train it \n",
    "clf = LogisticRegression(multi_class = 'multinomial', solver='lbfgs').fit(X, y)\n",
    "\n",
    "# We use the model to calculate the y_hat values\n",
    "y_hat = clf.predict(X_test)\n",
    "y_hat\n",
    "\n",
    "# We calculate metrics: f1_score and accuracy:\n",
    "print(\"Logistic regression f1_score: \", f1_score(y_test,y_hat, average = 'macro'))\n",
    "print(\"Logistic Regression Accuracy: \", accuracy_score(y_test, y_hat))\n",
    "\n",
    "# We display the confusion matrix for visibility:\n",
    "cm = confusion_matrix(y_test, y_hat)\n",
    "plot_confusion_matrix(clf, X_test, y_test)\n",
    "plt.show()"
   ]
  },
  {
   "cell_type": "markdown",
   "metadata": {},
   "source": [
    "#### 3.1.2. Logistic regression and decision tree: taking equilibrated subset of data"
   ]
  },
  {
   "cell_type": "code",
   "execution_count": 154,
   "metadata": {},
   "outputs": [
    {
     "name": "stdout",
     "output_type": "stream",
     "text": [
      "logisticRegression f1_score:  0.3312244750998459\n",
      "logisticRegression Accuracy:  0.397037037037037\n"
     ]
    },
    {
     "data": {
      "image/png": "[encoded data removed]",
      "text/plain": [
       "<Figure size 432x288 with 2 Axes>"
      ]
     },
     "metadata": {
      "needs_background": "light"
     },
     "output_type": "display_data"
    }
   ],
   "source": [
    "# We now just take a subset of the data so that we have now equilibrated amount of severity accidents between 0, 1 and 2\n",
    "a = df_cars.loc[df_cars['Accident_Severity'] == 0]\n",
    "b = df_cars.loc[df_cars['Accident_Severity'] == 1]\n",
    "c = df_cars.loc[df_cars['Accident_Severity'] == 2]\n",
    "\n",
    "a = a.sample(n = 7500)\n",
    "b = b.sample(n = 7500)\n",
    "c = c.sample(n = 7500)\n",
    "\n",
    "new_cars = np.concatenate([a,b,c],axis=0)\n",
    "n,m = new_cars.shape\n",
    "X = new_cars[:,0:m-1]\n",
    "y = new_cars[:,m-1]\n",
    "\n",
    "# Logistic Regression\n",
    "# We create the logistic regression model for this multiclass case, and we train it \n",
    "# We use the model to calculate the y_hat values\n",
    "# We calculate metrics: f1_score\n",
    "X = StandardScaler().fit(X).transform(X)\n",
    "X_train, X_test, y_train, y_test = train_test_split(X, y, test_size = 0.3, shuffle=True)\n",
    "clf = LogisticRegression(multi_class = 'multinomial', solver='lbfgs', class_weight={0:2,1:1,2:1}).fit(X, y)\n",
    "y_hat = clf.predict(X_test)\n",
    "print(\"logisticRegression f1_score: \", f1_score(y_test,y_hat, average = 'macro'))\n",
    "print(\"logisticRegression Accuracy: \", accuracy_score(y_test, y_hat))\n",
    "\n",
    "cm = confusion_matrix(y_test, y_hat)\n",
    "plot_confusion_matrix(clf, X_test, y_test)\n",
    "plt.show()"
   ]
  },
  {
   "cell_type": "markdown",
   "metadata": {},
   "source": [
    "#### 3.1.3. Logistic regression binarizing the Accident_Severity"
   ]
  },
  {
   "cell_type": "code",
   "execution_count": null,
   "metadata": {},
   "outputs": [
    {
     "name": "stdout",
     "output_type": "stream",
     "text": [
      "1    801525\n",
      "0      7610\n",
      "Name: Accident_Severity, dtype: int64\n",
      "logisticRegression f1_score:  0.6339803162747862\n",
      "logisticRegression Accuracy:  0.634\n",
      "crossValidationScore:  [0.6238 0.6254 0.6262]\n"
     ]
    }
   ],
   "source": [
    "# We binarize Accident_Severity: fatal = 0, severe & slight = 1\n",
    "df_cars['Accident_Severity'].replace({0:0 , 1:1 , 2:1}, inplace=True)\n",
    "print(df_cars['Accident_Severity'].value_counts())\n",
    "\n",
    "a = df_cars.loc[df_cars['Accident_Severity'] == 0]\n",
    "b = df_cars.loc[df_cars['Accident_Severity'] == 1]\n",
    "\n",
    "a = a.sample(n = 7500)\n",
    "b = b.sample(n = 7500)\n",
    "\n",
    "new_cars = np.concatenate([a,b],axis=0)\n",
    "n,m = new_cars.shape\n",
    "X = new_cars[:,1:m-1]\n",
    "y = new_cars[:,m-1]\n",
    "X = StandardScaler().fit(X).transform(X)\n",
    "X_train, X_test, y_train, y_test = train_test_split(X, y, test_size = 0.2, shuffle=True)\n",
    "clf = LogisticRegression(solver='lbfgs').fit(X, y)\n",
    "y_hat = clf.predict(X_test)\n",
    "\n",
    "print(\"logisticRegression f1_score: \", f1_score(y_test,y_hat, average = 'macro'))\n",
    "print(\"logisticRegression Accuracy: \", accuracy_score(y_test, y_hat))\n",
    "print(\"crossValidationScore: \", cross_val_score(clf, X, y, cv=3))\n",
    "\n",
    "# Confusion matrix visualuzation\n",
    "cm = confusion_matrix(y_test, y_hat)\n",
    "plot_confusion_matrix(clf, X_test, y_test)\n",
    "plt.show()\n",
    "\n",
    "# y_hat_prob = clf.predict_proba(X_test)\n",
    "\n",
    "# Learn to predict each class against the other\n",
    "y_score = clf.fit(X_train, y_train).decision_function(X_test)\n",
    "\n",
    "# Compute ROC curve, ROC area and plot\n",
    "fpr, tpr, _ = roc_curve(y_test, y_score)\n",
    "roc_auc = auc(fpr, tpr)\n",
    "\n",
    "plt.figure()\n",
    "lw = 2\n",
    "plt.plot(fpr, tpr, color='red',\n",
    "         lw=lw, label='ROC curve (area = %0.2f)' % roc_auc)\n",
    "plt.plot([0, 1], [0, 1], color='navy', lw=lw, linestyle='--')\n",
    "plt.xlim([0.0, 1.0])\n",
    "plt.ylim([0.0, 1.05])\n",
    "plt.xlabel('False Positive Rate')\n",
    "plt.ylabel('True Positive Rate')\n",
    "plt.title('ROC logistic regression using binarized and balanced subset of data')\n",
    "plt.legend(loc=\"lower right\")\n",
    "plt.show()"
   ]
  },
  {
   "cell_type": "markdown",
   "metadata": {},
   "source": [
    "Note that, in general, an AUC of 0.5 suggests no discrimination (i.e., ability to diagnose patients with and without the disease or condition based on the test), 0.7 to 0.8 is considered acceptable, 0.8 to 0.9 is considered excellent, and more than 0.9 is considered outstanding."
   ]
  },
  {
   "cell_type": "markdown",
   "metadata": {},
   "source": [
    "### 3.3. Decision tree"
   ]
  },
  {
   "cell_type": "code",
   "execution_count": 56,
   "metadata": {},
   "outputs": [
    {
     "name": "stdout",
     "output_type": "stream",
     "text": [
      "DecisionTrees's f1_score:  0.6335368592200469\n",
      "DecisionTrees's Accuracy:  0.6353896103896104\n"
     ]
    },
    {
     "data": {
      "image/png": "[encoded data removed]",
      "text/plain": [
       "<Figure size 432x288 with 2 Axes>"
      ]
     },
     "metadata": {
      "needs_background": "light"
     },
     "output_type": "display_data"
    },
    {
     "name": "stdout",
     "output_type": "stream",
     "text": [
      "0.5855795148247979\n",
      "0.681704260651629\n"
     ]
    }
   ],
   "source": [
    "# Decision tree\n",
    "DT = tree.DecisionTreeClassifier(criterion=\"entropy\")\n",
    "DT = clf.fit(X_train,y_train)\n",
    "print(\"DecisionTrees's f1_score: \", f1_score(y_test,y_hat, average = 'macro'))\n",
    "print(\"DecisionTrees's Accuracy: \", accuracy_score(y_test, y_hat))\n",
    "cm = confusion_matrix(y_test, y_hat)\n",
    "plot_confusion_matrix(DT, X_test, y_test)\n",
    "plt.show()\n",
    "cmfor0 = cm[0,0]/np.sum(cm[0,]); print(cmfor0)\n",
    "cmfor1 = cm[1,1]/np.sum(cm[1,]); print(cmfor1)"
   ]
  },
  {
   "cell_type": "markdown",
   "metadata": {},
   "source": [
    "### 3.4. Support Vector Machine (SVM)"
   ]
  },
  {
   "cell_type": "code",
   "execution_count": 57,
   "metadata": {},
   "outputs": [
    {
     "name": "stdout",
     "output_type": "stream",
     "text": [
      "SVM's f1_score:  0.6359037800687286\n",
      "SVM's Accuracy:  0.637012987012987\n"
     ]
    },
    {
     "data": {
      "image/png": "[encoded data removed]",
      "text/plain": [
       "<Figure size 432x288 with 2 Axes>"
      ]
     },
     "metadata": {
      "needs_background": "light"
     },
     "output_type": "display_data"
    }
   ],
   "source": [
    "clf = svm.SVC(kernel='rbf')\n",
    "clf.fit(X_train, y_train)\n",
    "y_hat = clf.predict(X_test)\n",
    "print(\"SVM's f1_score: \", f1_score(y_test,y_hat, average = 'macro'))\n",
    "print(\"SVM's Accuracy: \", accuracy_score(y_test, y_hat))\n",
    "cm = confusion_matrix(y_test, y_hat)\n",
    "plot_confusion_matrix(clf, X_test, y_test)\n",
    "plt.show()"
   ]
  },
  {
   "cell_type": "code",
   "execution_count": 58,
   "metadata": {},
   "outputs": [
    {
     "name": "stdout",
     "output_type": "stream",
     "text": [
      "Age_Band_of_Driver         0\n",
      "Sex_of_Driver              0\n",
      "Engine_Capacity_(CC)       0\n",
      "Age_of_Vehicle             0\n",
      "Light_Conditions           0\n",
      "Road_Surface_Conditions    0\n",
      "Urban_or_Rural_Area        0\n",
      "Day_of_Week                0\n",
      "Month                      0\n",
      "1st_Point_of_Impact        0\n",
      "Speed_limit                0\n",
      "Accident_Severity          0\n",
      "dtype: int64\n"
     ]
    }
   ],
   "source": [
    "print(df_cars.isna().sum())"
   ]
  },
  {
   "cell_type": "code",
   "execution_count": null,
   "metadata": {},
   "outputs": [],
   "source": []
  }
 ],
 "metadata": {
  "kernelspec": {
   "display_name": "Python 3",
   "language": "python",
   "name": "python3"
  },
  "language_info": {
   "codemirror_mode": {
    "name": "ipython",
    "version": 3
   },
   "file_extension": ".py",
   "mimetype": "text/x-python",
   "name": "python",
   "nbconvert_exporter": "python",
   "pygments_lexer": "ipython3",
   "version": "3.7.6"
  }
 },
 "nbformat": 4,
 "nbformat_minor": 4
}
