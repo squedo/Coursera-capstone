{
 "cells": [
  {
   "cell_type": "markdown",
   "metadata": {},
   "source": [
    "# Capstone project\n",
    "\n",
    "---\n",
    "\n",
    "Car accident model - based on Data from the UK Department for Transport (2005-2014)\n",
    "\n",
    "Data files provide detailed road safety data about the circumstances of personal injury road accidents in GB from 2005 to 2014:\n",
    "\n",
    "- Accident file: main data set contains information about accident severity, weather, location, date, hour, day of week, road type…\n",
    "- Vehicle file: contains information about vehicle type, vehicle model, engine size, driver sex, driver age, car age…\n",
    "- Casualty file: contains information about casualty severity, age, sex social class, casualty type, pedestrian or car passenger…\n",
    "\n",
    "---\n",
    "\n",
    "# Introduction\n",
    "\n",
    "Unfortunately, car accidents happen.\n",
    "\n",
    "Would it be possible to understand/predict the severity of an eventual accident if ever happening?\n",
    "\n",
    "Such a predictive model could be interesting for instance:\n",
    "\n",
    "- For insurance companies to set a final price for an inssurance.\n",
    "- For government authorities to forcast casualties that may occur during a year based on vehicles registered and drivers records an plan measures to reduce those casualties numbers.\n",
    "- For generate awareness in individuals so that they are aware of the need of replacing their car, be even more careful when it rains or when it's a foggy day, etc.\n",
    "\n",
    "We will be exploring the feasibility of creating such a predictive model based on variables that could be stored into the following catergories:\n",
    "\n",
    "- Driver data (age, etc.)\n",
    "- Time, road and environmental conditions (visibility, weather conditions, moment of the year, etc.)\n",
    "- Car specifications (Engine capacity, driver side, etc)\n",
    "- Parameters of the accident (speed, point of impact, etc.)\n",
    "\n",
    "Based on those variables the model would predict if ever having an accident if it's going to be \"fatal\", \"Serious\" or \"Slight\" a certain probability (multiclass classification problem). We could also for simplicity, make the model to assist a binary classification model where based on the same variables we would be looking to predict between \"fatal accidents\" and \"serious/slight\" accidents.\n",
    "\n",
    "To proceed we will be using the database published on Kaggle.com called \"UK Accidents 10 years history with many variables\" that collects accidents that took place from 2005-2014 in UK roads. Data are stored in 3 tables: accidents, vehicles and casualties and can be found in the following link: https://www.kaggle.com/benoit72/uk-accidents-10-years-history-with-many-variables\n",
    "\n",
    "NOTE: this database is likely to give insights / prediction model to be used only for countries like UK, Japan, Australia, India (more that 50 countries) where traffic happens from left side.\n",
    "\n",
    "---\n"
   ]
  },
  {
   "cell_type": "markdown",
   "metadata": {},
   "source": [
    "### 0. Loading data and packages"
   ]
  },
  {
   "cell_type": "code",
   "execution_count": 104,
   "metadata": {},
   "outputs": [
    {
     "name": "stdout",
     "output_type": "stream",
     "text": [
      "Requirement already satisfied: scikit-learn in c:\\users\\sergio\\anaconda3\\lib\\site-packages (0.23.2)\n",
      "Requirement already satisfied: joblib>=0.11 in c:\\users\\sergio\\anaconda3\\lib\\site-packages (from scikit-learn) (0.14.1)\n",
      "Requirement already satisfied: scipy>=0.19.1 in c:\\users\\sergio\\anaconda3\\lib\\site-packages (from scikit-learn) (1.4.1)\n",
      "Requirement already satisfied: numpy>=1.13.3 in c:\\users\\sergio\\anaconda3\\lib\\site-packages (from scikit-learn) (1.18.1)\n",
      "Requirement already satisfied: threadpoolctl>=2.0.0 in c:\\users\\sergio\\anaconda3\\lib\\site-packages (from scikit-learn) (2.1.0)\n",
      "Scikit-learn lib Installed!\n"
     ]
    },
    {
     "name": "stderr",
     "output_type": "stream",
     "text": [
      "C:\\Users\\Sergio\\anaconda3\\lib\\site-packages\\IPython\\core\\interactiveshell.py:3063: DtypeWarning: Columns (31) have mixed types.Specify dtype option on import or set low_memory=False.\n",
      "  interactivity=interactivity, compiler=compiler, result=result)\n"
     ]
    }
   ],
   "source": [
    "import numpy as np\n",
    "import pandas as pd\n",
    "import seaborn as sns\n",
    "import matplotlib.pyplot as plt\n",
    "\n",
    "!pip install scikit-learn\n",
    "print('Scikit-learn lib Installed!')\n",
    "from sklearn.preprocessing import StandardScaler\n",
    "from sklearn.model_selection import train_test_split\n",
    "from sklearn.linear_model import LogisticRegression\n",
    "from sklearn.metrics import f1_score\n",
    "from sklearn.metrics import confusion_matrix\n",
    "from sklearn.metrics import plot_confusion_matrix\n",
    "from sklearn.tree import DecisionTreeClassifier\n",
    "from sklearn.metrics import accuracy_score\n",
    "from sklearn import tree\n",
    "from sklearn.metrics import roc_auc_score\n",
    "from sklearn.metrics import roc_curve, auc\n",
    "from sklearn.model_selection import cross_val_score\n",
    "from sklearn import svm\n",
    "\n",
    "# Loading data for each .csv data file available and dropping columns that wouldn't \n",
    "# look as adequate or specially relevant to build a model.\n",
    "\n",
    "df_accidents = pd.read_csv('Accidents0514.csv')\n",
    "\n",
    "atrib_to_drop_df_accidents = ['Location_Easting_OSGR','Location_Northing_OSGR','Longitude','Latitude',\n",
    "                             'Police_Force','Pedestrian_Crossing-Human_Control','Pedestrian_Crossing-Physical_Facilities',\n",
    "                             'Special_Conditions_at_Site','Carriageway_Hazards','Did_Police_Officer_Attend_Scene_of_Accident','LSOA_of_Accident_Location',\n",
    "                             '1st_Road_Class','1st_Road_Number','Junction_Detail','Junction_Control','2nd_Road_Class','2nd_Road_Number',\n",
    "                             'Number_of_Vehicles','Local_Authority_(District)','Local_Authority_(Highway)','Road_Type','Time','Number_of_Casualties',\n",
    "                             'Weather_Conditions']\n",
    "\n",
    "df_accidents.drop(columns = atrib_to_drop_df_accidents, inplace=True)\n",
    "\n",
    "df_vehicles = pd.read_csv('Vehicles0514.csv')\n",
    "\n",
    "atrib_to_drop_df_vehicles = ['Towing_and_Articulation','Vehicle_Manoeuvre','Vehicle_Location-Restricted_Lane','Junction_Location',\n",
    "                            'Skidding_and_Overturning','Hit_Object_in_Carriageway','Vehicle_Leaving_Carriageway','Hit_Object_off_Carriageway',\n",
    "                            'Driver_IMD_Decile','Driver_Home_Area_Type','Vehicle_Reference','Was_Vehicle_Left_Hand_Drive?','Journey_Purpose_of_Driver',\n",
    "                            'Age_of_Driver','Propulsion_Code','Engine_Capacity_(CC)']\n",
    "\n",
    "df_vehicles.drop(columns = atrib_to_drop_df_vehicles, inplace=True)\n",
    "\n",
    "df_casualties = pd.read_csv('Casualties0514.csv')\n",
    "\n",
    "atrib_to_drop_df_casualties = ['Casualty_Reference','Sex_of_Casualty','Age_of_Casualty','Age_Band_of_Casualty',\n",
    "                               'Pedestrian_Location','Pedestrian_Movement','Bus_or_Coach_Passenger','Pedestrian_Road_Maintenance_Worker',\n",
    "                               'Casualty_Home_Area_Type','Vehicle_Reference','Casualty_Class','Car_Passenger','Casualty_Type']\n",
    "\n",
    "df_casualties.drop(columns = atrib_to_drop_df_casualties, inplace=True)"
   ]
  },
  {
   "cell_type": "markdown",
   "metadata": {},
   "source": [
    "### 1. Data wrangling"
   ]
  },
  {
   "cell_type": "code",
   "execution_count": 105,
   "metadata": {},
   "outputs": [
    {
     "name": "stdout",
     "output_type": "stream",
     "text": [
      "Shape after join of tables and drop of a priori no needed variables : (4287593, 13)\n",
      "Vehicle_Type                   554\n",
      "1st_Point_of_Impact           2418\n",
      "Sex_of_Driver                   46\n",
      "Age_Band_of_Driver          405664\n",
      "Age_of_Vehicle             1155488\n",
      "Casualty_Severity                0\n",
      "Accident_Severity                0\n",
      "Date                             0\n",
      "Day_of_Week                      0\n",
      "Speed_limit                      0\n",
      "Light_Conditions                 0\n",
      "Road_Surface_Conditions       4824\n",
      "Urban_or_Rural_Area              0\n",
      "dtype: int64\n",
      "Shape after drop of rows contaning NaN values: (2944421, 13)\n",
      "Shape after drop of duplicated:  (2944421, 13)\n",
      "Distribution of Accident_Severity after join tables:  3    2469760\n",
      "2     413143\n",
      "1      61518\n",
      "Name: Accident_Severity, dtype: int64\n"
     ]
    }
   ],
   "source": [
    "# We join dataframes based on key column Accident_Index\n",
    "df = df_vehicles.join(df_casualties.set_index('Accident_Index'), on='Accident_Index')\n",
    "df = df.join(df_accidents.set_index('Accident_Index'), on='Accident_Index')\n",
    "\n",
    "# After joining the tables, Accident_Index can be drop now\n",
    "df.drop(columns = 'Accident_Index', inplace=True)\n",
    "print('Shape after join of tables and drop of a priori no needed variables :', df.shape)\n",
    "\n",
    "# According to the data \n",
    "df = df.replace(-1,np.NaN)\n",
    "print(df.isna().sum())\n",
    "df.dropna(axis=0,inplace=True)\n",
    "print('Shape after drop of rows contaning NaN values:', df.shape)\n",
    "\n",
    "# In case some rows would be duplicated we remove them\n",
    "df_cars.drop_duplicates()\n",
    "print('Shape after drop of duplicated: ', df.shape)\n",
    "\n",
    "# We want to check at this point the distribution of the Accident_Severity in our dataset\n",
    "print('Distribution of Accident_Severity after join tables: ',df['Accident_Severity'].value_counts())"
   ]
  },
  {
   "cell_type": "markdown",
   "metadata": {},
   "source": [
    "We will develop the model only for cars, therefore in the dataset we will only conserve events related to car accidents."
   ]
  },
  {
   "cell_type": "code",
   "execution_count": 106,
   "metadata": {},
   "outputs": [
    {
     "name": "stdout",
     "output_type": "stream",
     "text": [
      "9.0     2399925\n",
      "19.0     134424\n",
      "5.0       82233\n",
      "11.0      80927\n",
      "8.0       55046\n",
      "21.0      54278\n",
      "3.0       53692\n",
      "2.0       29212\n",
      "4.0       21050\n",
      "20.0      14939\n",
      "10.0       6756\n",
      "90.0       6651\n",
      "17.0       5002\n",
      "98.0        149\n",
      "97.0        120\n",
      "22.0         11\n",
      "23.0          6\n",
      "Name: Vehicle_Type, dtype: int64\n",
      "(2399925, 12)\n"
     ]
    },
    {
     "name": "stderr",
     "output_type": "stream",
     "text": [
      "C:\\Users\\Sergio\\anaconda3\\lib\\site-packages\\pandas\\core\\frame.py:3997: SettingWithCopyWarning: \n",
      "A value is trying to be set on a copy of a slice from a DataFrame\n",
      "\n",
      "See the caveats in the documentation: https://pandas.pydata.org/pandas-docs/stable/user_guide/indexing.html#returning-a-view-versus-a-copy\n",
      "  errors=errors,\n"
     ]
    }
   ],
   "source": [
    "# In the data we have information for different kinds of vehicles, keeping only data for cares stored in value = 9\n",
    "print(df['Vehicle_Type'].value_counts())\n",
    "\n",
    "# Only taking car, value = 9 according to tables\n",
    "df_cars = df.loc[df['Vehicle_Type'] == 9]\n",
    "df_cars.drop(columns = 'Vehicle_Type', inplace=True)\n",
    "print(df_cars.shape)"
   ]
  },
  {
   "cell_type": "markdown",
   "metadata": {},
   "source": [
    "We have Accident_Severity (from Accidents table) and Casualty_Severity (from Casualties table), that seem to be the same. However after testing, we see they are different.\n",
    "In order to keep data that are reliable, we remove any row where Accident_Severity and Casualty_Severity value would be different.\n",
    "Afterwards, we will drop the column Casualty_Severity."
   ]
  },
  {
   "cell_type": "code",
   "execution_count": 107,
   "metadata": {},
   "outputs": [
    {
     "name": "stdout",
     "output_type": "stream",
     "text": [
      "False\n",
      "3    2049825\n",
      "2     123561\n",
      "1       8337\n",
      "Name: Accident_Severity, dtype: int64\n",
      "(2181723, 11)\n"
     ]
    },
    {
     "data": {
      "text/html": [
       "<div>\n",
       "<style scoped>\n",
       "    .dataframe tbody tr th:only-of-type {\n",
       "        vertical-align: middle;\n",
       "    }\n",
       "\n",
       "    .dataframe tbody tr th {\n",
       "        vertical-align: top;\n",
       "    }\n",
       "\n",
       "    .dataframe thead th {\n",
       "        text-align: right;\n",
       "    }\n",
       "</style>\n",
       "<table border=\"1\" class=\"dataframe\">\n",
       "  <thead>\n",
       "    <tr style=\"text-align: right;\">\n",
       "      <th></th>\n",
       "      <th>1st_Point_of_Impact</th>\n",
       "      <th>Sex_of_Driver</th>\n",
       "      <th>Age_Band_of_Driver</th>\n",
       "      <th>Age_of_Vehicle</th>\n",
       "      <th>Accident_Severity</th>\n",
       "      <th>Date</th>\n",
       "      <th>Day_of_Week</th>\n",
       "      <th>Speed_limit</th>\n",
       "      <th>Light_Conditions</th>\n",
       "      <th>Road_Surface_Conditions</th>\n",
       "      <th>Urban_or_Rural_Area</th>\n",
       "    </tr>\n",
       "  </thead>\n",
       "  <tbody>\n",
       "    <tr>\n",
       "      <th>3</th>\n",
       "      <td>3.0</td>\n",
       "      <td>1.0</td>\n",
       "      <td>9.0</td>\n",
       "      <td>6.0</td>\n",
       "      <td>3</td>\n",
       "      <td>06/01/2005</td>\n",
       "      <td>5</td>\n",
       "      <td>30</td>\n",
       "      <td>4</td>\n",
       "      <td>1.0</td>\n",
       "      <td>1</td>\n",
       "    </tr>\n",
       "    <tr>\n",
       "      <th>4</th>\n",
       "      <td>1.0</td>\n",
       "      <td>2.0</td>\n",
       "      <td>8.0</td>\n",
       "      <td>4.0</td>\n",
       "      <td>3</td>\n",
       "      <td>07/01/2005</td>\n",
       "      <td>6</td>\n",
       "      <td>30</td>\n",
       "      <td>1</td>\n",
       "      <td>1.0</td>\n",
       "      <td>1</td>\n",
       "    </tr>\n",
       "    <tr>\n",
       "      <th>6</th>\n",
       "      <td>0.0</td>\n",
       "      <td>1.0</td>\n",
       "      <td>8.0</td>\n",
       "      <td>1.0</td>\n",
       "      <td>3</td>\n",
       "      <td>11/01/2005</td>\n",
       "      <td>3</td>\n",
       "      <td>30</td>\n",
       "      <td>1</td>\n",
       "      <td>2.0</td>\n",
       "      <td>1</td>\n",
       "    </tr>\n",
       "    <tr>\n",
       "      <th>9</th>\n",
       "      <td>2.0</td>\n",
       "      <td>1.0</td>\n",
       "      <td>7.0</td>\n",
       "      <td>4.0</td>\n",
       "      <td>3</td>\n",
       "      <td>13/01/2005</td>\n",
       "      <td>5</td>\n",
       "      <td>30</td>\n",
       "      <td>4</td>\n",
       "      <td>1.0</td>\n",
       "      <td>1</td>\n",
       "    </tr>\n",
       "    <tr>\n",
       "      <th>10</th>\n",
       "      <td>1.0</td>\n",
       "      <td>1.0</td>\n",
       "      <td>10.0</td>\n",
       "      <td>16.0</td>\n",
       "      <td>3</td>\n",
       "      <td>14/01/2005</td>\n",
       "      <td>6</td>\n",
       "      <td>30</td>\n",
       "      <td>1</td>\n",
       "      <td>1.0</td>\n",
       "      <td>1</td>\n",
       "    </tr>\n",
       "  </tbody>\n",
       "</table>\n",
       "</div>"
      ],
      "text/plain": [
       "    1st_Point_of_Impact  Sex_of_Driver  Age_Band_of_Driver  Age_of_Vehicle  \\\n",
       "3                   3.0            1.0                 9.0             6.0   \n",
       "4                   1.0            2.0                 8.0             4.0   \n",
       "6                   0.0            1.0                 8.0             1.0   \n",
       "9                   2.0            1.0                 7.0             4.0   \n",
       "10                  1.0            1.0                10.0            16.0   \n",
       "\n",
       "    Accident_Severity        Date  Day_of_Week  Speed_limit  Light_Conditions  \\\n",
       "3                   3  06/01/2005            5           30                 4   \n",
       "4                   3  07/01/2005            6           30                 1   \n",
       "6                   3  11/01/2005            3           30                 1   \n",
       "9                   3  13/01/2005            5           30                 4   \n",
       "10                  3  14/01/2005            6           30                 1   \n",
       "\n",
       "    Road_Surface_Conditions  Urban_or_Rural_Area  \n",
       "3                       1.0                    1  \n",
       "4                       1.0                    1  \n",
       "6                       2.0                    1  \n",
       "9                       1.0                    1  \n",
       "10                      1.0                    1  "
      ]
     },
     "execution_count": 107,
     "metadata": {},
     "output_type": "execute_result"
    }
   ],
   "source": [
    "# Accident_Severity and Casualty_Severity should be equal, checking to see if we can remove one of the columns\n",
    "print(df_cars['Accident_Severity'].equals(df_cars['Casualty_Severity']))\n",
    "\n",
    "# Accident_Severity and Casualty_Severity are not equal according to analysis, therefore need to remove those rows do not have equal values for those columns\n",
    "df_cars.drop(df_cars.index[df_cars['Accident_Severity'] != df_cars['Casualty_Severity']], inplace = True)\n",
    "df_cars.drop(columns = ['Casualty_Severity'], inplace=True)\n",
    "print(df_cars['Accident_Severity'].value_counts())\n",
    "\n",
    "print(df_cars.shape)\n",
    "df_cars.head()"
   ]
  },
  {
   "cell_type": "code",
   "execution_count": 108,
   "metadata": {},
   "outputs": [],
   "source": [
    "# Arranging the order of the columns in the df_cars so that is easier to understand\n",
    "df_cars = df_cars[['Age_Band_of_Driver','Sex_of_Driver',\n",
    "                   'Age_of_Vehicle','Light_Conditions','Road_Surface_Conditions','Urban_or_Rural_Area',\n",
    "                   '1st_Point_of_Impact','Speed_limit',\n",
    "                   'Date','Day_of_Week',\n",
    "                   'Accident_Severity']]"
   ]
  },
  {
   "cell_type": "code",
   "execution_count": 109,
   "metadata": {},
   "outputs": [],
   "source": [
    "# Reseting indexes and visualizing final df_cars\n",
    "df_cars.reset_index(drop=True).head()\n",
    "\n",
    "# We save the final dataset cars.csv\n",
    "df_cars.to_csv('carsFinal.csv',index=False)"
   ]
  },
  {
   "cell_type": "markdown",
   "metadata": {},
   "source": [
    "### 2. Data Analysis"
   ]
  },
  {
   "cell_type": "code",
   "execution_count": 110,
   "metadata": {},
   "outputs": [
    {
     "data": {
      "text/html": [
       "<div>\n",
       "<style scoped>\n",
       "    .dataframe tbody tr th:only-of-type {\n",
       "        vertical-align: middle;\n",
       "    }\n",
       "\n",
       "    .dataframe tbody tr th {\n",
       "        vertical-align: top;\n",
       "    }\n",
       "\n",
       "    .dataframe thead th {\n",
       "        text-align: right;\n",
       "    }\n",
       "</style>\n",
       "<table border=\"1\" class=\"dataframe\">\n",
       "  <thead>\n",
       "    <tr style=\"text-align: right;\">\n",
       "      <th></th>\n",
       "      <th>Age_Band_of_Driver</th>\n",
       "      <th>Sex_of_Driver</th>\n",
       "      <th>Age_of_Vehicle</th>\n",
       "      <th>Light_Conditions</th>\n",
       "      <th>Road_Surface_Conditions</th>\n",
       "      <th>Urban_or_Rural_Area</th>\n",
       "      <th>1st_Point_of_Impact</th>\n",
       "      <th>Speed_limit</th>\n",
       "      <th>Date</th>\n",
       "      <th>Day_of_Week</th>\n",
       "      <th>Accident_Severity</th>\n",
       "    </tr>\n",
       "  </thead>\n",
       "  <tbody>\n",
       "    <tr>\n",
       "      <th>0</th>\n",
       "      <td>9.0</td>\n",
       "      <td>1.0</td>\n",
       "      <td>6.0</td>\n",
       "      <td>4</td>\n",
       "      <td>1.0</td>\n",
       "      <td>1</td>\n",
       "      <td>3.0</td>\n",
       "      <td>30</td>\n",
       "      <td>06/01/2005</td>\n",
       "      <td>5</td>\n",
       "      <td>3</td>\n",
       "    </tr>\n",
       "    <tr>\n",
       "      <th>1</th>\n",
       "      <td>8.0</td>\n",
       "      <td>2.0</td>\n",
       "      <td>4.0</td>\n",
       "      <td>1</td>\n",
       "      <td>1.0</td>\n",
       "      <td>1</td>\n",
       "      <td>1.0</td>\n",
       "      <td>30</td>\n",
       "      <td>07/01/2005</td>\n",
       "      <td>6</td>\n",
       "      <td>3</td>\n",
       "    </tr>\n",
       "    <tr>\n",
       "      <th>2</th>\n",
       "      <td>8.0</td>\n",
       "      <td>1.0</td>\n",
       "      <td>1.0</td>\n",
       "      <td>1</td>\n",
       "      <td>2.0</td>\n",
       "      <td>1</td>\n",
       "      <td>0.0</td>\n",
       "      <td>30</td>\n",
       "      <td>11/01/2005</td>\n",
       "      <td>3</td>\n",
       "      <td>3</td>\n",
       "    </tr>\n",
       "    <tr>\n",
       "      <th>3</th>\n",
       "      <td>7.0</td>\n",
       "      <td>1.0</td>\n",
       "      <td>4.0</td>\n",
       "      <td>4</td>\n",
       "      <td>1.0</td>\n",
       "      <td>1</td>\n",
       "      <td>2.0</td>\n",
       "      <td>30</td>\n",
       "      <td>13/01/2005</td>\n",
       "      <td>5</td>\n",
       "      <td>3</td>\n",
       "    </tr>\n",
       "    <tr>\n",
       "      <th>4</th>\n",
       "      <td>10.0</td>\n",
       "      <td>1.0</td>\n",
       "      <td>16.0</td>\n",
       "      <td>1</td>\n",
       "      <td>1.0</td>\n",
       "      <td>1</td>\n",
       "      <td>1.0</td>\n",
       "      <td>30</td>\n",
       "      <td>14/01/2005</td>\n",
       "      <td>6</td>\n",
       "      <td>3</td>\n",
       "    </tr>\n",
       "  </tbody>\n",
       "</table>\n",
       "</div>"
      ],
      "text/plain": [
       "   Age_Band_of_Driver  Sex_of_Driver  Age_of_Vehicle  Light_Conditions  \\\n",
       "0                 9.0            1.0             6.0                 4   \n",
       "1                 8.0            2.0             4.0                 1   \n",
       "2                 8.0            1.0             1.0                 1   \n",
       "3                 7.0            1.0             4.0                 4   \n",
       "4                10.0            1.0            16.0                 1   \n",
       "\n",
       "   Road_Surface_Conditions  Urban_or_Rural_Area  1st_Point_of_Impact  \\\n",
       "0                      1.0                    1                  3.0   \n",
       "1                      1.0                    1                  1.0   \n",
       "2                      2.0                    1                  0.0   \n",
       "3                      1.0                    1                  2.0   \n",
       "4                      1.0                    1                  1.0   \n",
       "\n",
       "   Speed_limit        Date  Day_of_Week  Accident_Severity  \n",
       "0           30  06/01/2005            5                  3  \n",
       "1           30  07/01/2005            6                  3  \n",
       "2           30  11/01/2005            3                  3  \n",
       "3           30  13/01/2005            5                  3  \n",
       "4           30  14/01/2005            6                  3  "
      ]
     },
     "execution_count": 110,
     "metadata": {},
     "output_type": "execute_result"
    }
   ],
   "source": [
    "# Visualizing df_cars after data cleaning and wrangling\n",
    "df_cars = pd.read_csv('carsFinal.csv')\n",
    "df_cars.head()"
   ]
  },
  {
   "cell_type": "code",
   "execution_count": 111,
   "metadata": {},
   "outputs": [
    {
     "data": {
      "text/html": [
       "<div>\n",
       "<style scoped>\n",
       "    .dataframe tbody tr th:only-of-type {\n",
       "        vertical-align: middle;\n",
       "    }\n",
       "\n",
       "    .dataframe tbody tr th {\n",
       "        vertical-align: top;\n",
       "    }\n",
       "\n",
       "    .dataframe thead th {\n",
       "        text-align: right;\n",
       "    }\n",
       "</style>\n",
       "<table border=\"1\" class=\"dataframe\">\n",
       "  <thead>\n",
       "    <tr style=\"text-align: right;\">\n",
       "      <th></th>\n",
       "      <th>Age_Band_of_Driver</th>\n",
       "      <th>Sex_of_Driver</th>\n",
       "      <th>Age_of_Vehicle</th>\n",
       "      <th>Light_Conditions</th>\n",
       "      <th>Road_Surface_Conditions</th>\n",
       "      <th>Urban_or_Rural_Area</th>\n",
       "      <th>1st_Point_of_Impact</th>\n",
       "      <th>Speed_limit</th>\n",
       "      <th>Day_of_Week</th>\n",
       "      <th>Accident_Severity</th>\n",
       "    </tr>\n",
       "  </thead>\n",
       "  <tbody>\n",
       "    <tr>\n",
       "      <th>Age_Band_of_Driver</th>\n",
       "      <td>1.000000</td>\n",
       "      <td>-0.031775</td>\n",
       "      <td>-0.079929</td>\n",
       "      <td>-0.128581</td>\n",
       "      <td>-0.046625</td>\n",
       "      <td>0.018128</td>\n",
       "      <td>0.030858</td>\n",
       "      <td>-0.001292</td>\n",
       "      <td>0.001000</td>\n",
       "      <td>-0.025657</td>\n",
       "    </tr>\n",
       "    <tr>\n",
       "      <th>Sex_of_Driver</th>\n",
       "      <td>-0.031775</td>\n",
       "      <td>1.000000</td>\n",
       "      <td>-0.068730</td>\n",
       "      <td>-0.087021</td>\n",
       "      <td>0.000412</td>\n",
       "      <td>-0.014493</td>\n",
       "      <td>0.024161</td>\n",
       "      <td>-0.031721</td>\n",
       "      <td>-0.001025</td>\n",
       "      <td>0.032874</td>\n",
       "    </tr>\n",
       "    <tr>\n",
       "      <th>Age_of_Vehicle</th>\n",
       "      <td>-0.079929</td>\n",
       "      <td>-0.068730</td>\n",
       "      <td>1.000000</td>\n",
       "      <td>0.031899</td>\n",
       "      <td>0.014168</td>\n",
       "      <td>-0.016714</td>\n",
       "      <td>-0.030055</td>\n",
       "      <td>-0.041266</td>\n",
       "      <td>-0.000407</td>\n",
       "      <td>-0.012945</td>\n",
       "    </tr>\n",
       "    <tr>\n",
       "      <th>Light_Conditions</th>\n",
       "      <td>-0.128581</td>\n",
       "      <td>-0.087021</td>\n",
       "      <td>0.031899</td>\n",
       "      <td>1.000000</td>\n",
       "      <td>0.181736</td>\n",
       "      <td>0.055506</td>\n",
       "      <td>-0.022521</td>\n",
       "      <td>0.078464</td>\n",
       "      <td>0.004963</td>\n",
       "      <td>-0.049134</td>\n",
       "    </tr>\n",
       "    <tr>\n",
       "      <th>Road_Surface_Conditions</th>\n",
       "      <td>-0.046625</td>\n",
       "      <td>0.000412</td>\n",
       "      <td>0.014168</td>\n",
       "      <td>0.181736</td>\n",
       "      <td>1.000000</td>\n",
       "      <td>0.105173</td>\n",
       "      <td>-0.037506</td>\n",
       "      <td>0.100130</td>\n",
       "      <td>-0.009341</td>\n",
       "      <td>0.009354</td>\n",
       "    </tr>\n",
       "    <tr>\n",
       "      <th>Urban_or_Rural_Area</th>\n",
       "      <td>0.018128</td>\n",
       "      <td>-0.014493</td>\n",
       "      <td>-0.016714</td>\n",
       "      <td>0.055506</td>\n",
       "      <td>0.105173</td>\n",
       "      <td>1.000000</td>\n",
       "      <td>-0.057966</td>\n",
       "      <td>0.670915</td>\n",
       "      <td>-0.011380</td>\n",
       "      <td>-0.021701</td>\n",
       "    </tr>\n",
       "    <tr>\n",
       "      <th>1st_Point_of_Impact</th>\n",
       "      <td>0.030858</td>\n",
       "      <td>0.024161</td>\n",
       "      <td>-0.030055</td>\n",
       "      <td>-0.022521</td>\n",
       "      <td>-0.037506</td>\n",
       "      <td>-0.057966</td>\n",
       "      <td>1.000000</td>\n",
       "      <td>-0.048705</td>\n",
       "      <td>-0.000545</td>\n",
       "      <td>0.000141</td>\n",
       "    </tr>\n",
       "    <tr>\n",
       "      <th>Speed_limit</th>\n",
       "      <td>-0.001292</td>\n",
       "      <td>-0.031721</td>\n",
       "      <td>-0.041266</td>\n",
       "      <td>0.078464</td>\n",
       "      <td>0.100130</td>\n",
       "      <td>0.670915</td>\n",
       "      <td>-0.048705</td>\n",
       "      <td>1.000000</td>\n",
       "      <td>-0.008853</td>\n",
       "      <td>-0.008108</td>\n",
       "    </tr>\n",
       "    <tr>\n",
       "      <th>Day_of_Week</th>\n",
       "      <td>0.001000</td>\n",
       "      <td>-0.001025</td>\n",
       "      <td>-0.000407</td>\n",
       "      <td>0.004963</td>\n",
       "      <td>-0.009341</td>\n",
       "      <td>-0.011380</td>\n",
       "      <td>-0.000545</td>\n",
       "      <td>-0.008853</td>\n",
       "      <td>1.000000</td>\n",
       "      <td>0.001642</td>\n",
       "    </tr>\n",
       "    <tr>\n",
       "      <th>Accident_Severity</th>\n",
       "      <td>-0.025657</td>\n",
       "      <td>0.032874</td>\n",
       "      <td>-0.012945</td>\n",
       "      <td>-0.049134</td>\n",
       "      <td>0.009354</td>\n",
       "      <td>-0.021701</td>\n",
       "      <td>0.000141</td>\n",
       "      <td>-0.008108</td>\n",
       "      <td>0.001642</td>\n",
       "      <td>1.000000</td>\n",
       "    </tr>\n",
       "  </tbody>\n",
       "</table>\n",
       "</div>"
      ],
      "text/plain": [
       "                         Age_Band_of_Driver  Sex_of_Driver  Age_of_Vehicle  \\\n",
       "Age_Band_of_Driver                 1.000000      -0.031775       -0.079929   \n",
       "Sex_of_Driver                     -0.031775       1.000000       -0.068730   \n",
       "Age_of_Vehicle                    -0.079929      -0.068730        1.000000   \n",
       "Light_Conditions                  -0.128581      -0.087021        0.031899   \n",
       "Road_Surface_Conditions           -0.046625       0.000412        0.014168   \n",
       "Urban_or_Rural_Area                0.018128      -0.014493       -0.016714   \n",
       "1st_Point_of_Impact                0.030858       0.024161       -0.030055   \n",
       "Speed_limit                       -0.001292      -0.031721       -0.041266   \n",
       "Day_of_Week                        0.001000      -0.001025       -0.000407   \n",
       "Accident_Severity                 -0.025657       0.032874       -0.012945   \n",
       "\n",
       "                         Light_Conditions  Road_Surface_Conditions  \\\n",
       "Age_Band_of_Driver              -0.128581                -0.046625   \n",
       "Sex_of_Driver                   -0.087021                 0.000412   \n",
       "Age_of_Vehicle                   0.031899                 0.014168   \n",
       "Light_Conditions                 1.000000                 0.181736   \n",
       "Road_Surface_Conditions          0.181736                 1.000000   \n",
       "Urban_or_Rural_Area              0.055506                 0.105173   \n",
       "1st_Point_of_Impact             -0.022521                -0.037506   \n",
       "Speed_limit                      0.078464                 0.100130   \n",
       "Day_of_Week                      0.004963                -0.009341   \n",
       "Accident_Severity               -0.049134                 0.009354   \n",
       "\n",
       "                         Urban_or_Rural_Area  1st_Point_of_Impact  \\\n",
       "Age_Band_of_Driver                  0.018128             0.030858   \n",
       "Sex_of_Driver                      -0.014493             0.024161   \n",
       "Age_of_Vehicle                     -0.016714            -0.030055   \n",
       "Light_Conditions                    0.055506            -0.022521   \n",
       "Road_Surface_Conditions             0.105173            -0.037506   \n",
       "Urban_or_Rural_Area                 1.000000            -0.057966   \n",
       "1st_Point_of_Impact                -0.057966             1.000000   \n",
       "Speed_limit                         0.670915            -0.048705   \n",
       "Day_of_Week                        -0.011380            -0.000545   \n",
       "Accident_Severity                  -0.021701             0.000141   \n",
       "\n",
       "                         Speed_limit  Day_of_Week  Accident_Severity  \n",
       "Age_Band_of_Driver         -0.001292     0.001000          -0.025657  \n",
       "Sex_of_Driver              -0.031721    -0.001025           0.032874  \n",
       "Age_of_Vehicle             -0.041266    -0.000407          -0.012945  \n",
       "Light_Conditions            0.078464     0.004963          -0.049134  \n",
       "Road_Surface_Conditions     0.100130    -0.009341           0.009354  \n",
       "Urban_or_Rural_Area         0.670915    -0.011380          -0.021701  \n",
       "1st_Point_of_Impact        -0.048705    -0.000545           0.000141  \n",
       "Speed_limit                 1.000000    -0.008853          -0.008108  \n",
       "Day_of_Week                -0.008853     1.000000           0.001642  \n",
       "Accident_Severity          -0.008108     0.001642           1.000000  "
      ]
     },
     "execution_count": 111,
     "metadata": {},
     "output_type": "execute_result"
    }
   ],
   "source": [
    "# We see now how preselected variables correlate with Accident_Severity\n",
    "df_cars.corr()"
   ]
  },
  {
   "cell_type": "markdown",
   "metadata": {},
   "source": [
    "Let's analyze data type and change it if needed"
   ]
  },
  {
   "cell_type": "markdown",
   "metadata": {},
   "source": [
    "We need now to analyze the selected variables vs Accident_Severity to decide thresholding and improve categorization of the data"
   ]
  },
  {
   "cell_type": "markdown",
   "metadata": {},
   "source": [
    "#### 2.0. Accident Severity"
   ]
  },
  {
   "cell_type": "code",
   "execution_count": 112,
   "metadata": {},
   "outputs": [
    {
     "name": "stdout",
     "output_type": "stream",
     "text": [
      "3    2049825\n",
      "2     123561\n",
      "1       8337\n",
      "Name: Accident_Severity, dtype: int64\n"
     ]
    }
   ],
   "source": [
    "# We verify the distribution we have for Accident_Severity\n",
    "print(df_cars['Accident_Severity'].value_counts())"
   ]
  },
  {
   "cell_type": "markdown",
   "metadata": {},
   "source": [
    "#### 2.1. Age Band of Driver"
   ]
  },
  {
   "cell_type": "code",
   "execution_count": 113,
   "metadata": {},
   "outputs": [],
   "source": [
    "x = df_cars['Accident_Severity'].values\n",
    "y = df_cars['Age_Band_of_Driver'].values"
   ]
  },
  {
   "cell_type": "code",
   "execution_count": 114,
   "metadata": {},
   "outputs": [
    {
     "data": {
      "image/png": "[encoded data removed]",
      "text/plain": [
       "<Figure size 432x288 with 1 Axes>"
      ]
     },
     "metadata": {
      "needs_background": "light"
     },
     "output_type": "display_data"
    }
   ],
   "source": [
    "# Distribution of ages is more or less homogeneous \n",
    "plt.hist(df_cars['Age_Band_of_Driver']);"
   ]
  },
  {
   "cell_type": "code",
   "execution_count": 115,
   "metadata": {},
   "outputs": [
    {
     "name": "stdout",
     "output_type": "stream",
     "text": [
      "Accident_Severity  Age_Band_of_Driver\n",
      "1                  3.0                       14\n",
      "                   4.0                      987\n",
      "                   5.0                     1242\n",
      "                   6.0                     1690\n",
      "                   7.0                     1386\n",
      "                   8.0                     1146\n",
      "                   9.0                      789\n",
      "                   10.0                     545\n",
      "                   11.0                     538\n",
      "2                  2.0                        3\n",
      "                   3.0                       47\n",
      "                   4.0                    13422\n",
      "                   5.0                    16673\n",
      "                   6.0                    25632\n",
      "                   7.0                    23432\n",
      "                   8.0                    18492\n",
      "                   9.0                    12588\n",
      "                   10.0                    7429\n",
      "                   11.0                    5843\n",
      "3                  1.0                        3\n",
      "                   2.0                        7\n",
      "                   3.0                      436\n",
      "                   4.0                   237597\n",
      "                   5.0                   283164\n",
      "                   6.0                   470767\n",
      "                   7.0                   424337\n",
      "                   8.0                   298728\n",
      "                   9.0                   180925\n",
      "                   10.0                   95063\n",
      "                   11.0                   58798\n",
      "dtype: int64\n"
     ]
    },
    {
     "data": {
      "text/plain": [
       "array([    14,    987,   1242,   1690,   1386,   1146,    789,    545,\n",
       "          538,      3,     47,  13422,  16673,  25632,  23432,  18492,\n",
       "        12588,   7429,   5843,      3,      7,    436, 237597, 283164,\n",
       "       470767, 424337, 298728, 180925,  95063,  58798], dtype=int64)"
      ]
     },
     "execution_count": 115,
     "metadata": {},
     "output_type": "execute_result"
    }
   ],
   "source": [
    "print(df_cars.groupby(['Accident_Severity','Age_Band_of_Driver']).size())\n",
    "\n",
    "values_ageDriver = df_cars.groupby(['Accident_Severity','Age_Band_of_Driver']).size().to_numpy()\n",
    "values_ageDriver"
   ]
  },
  {
   "cell_type": "code",
   "execution_count": 116,
   "metadata": {},
   "outputs": [],
   "source": [
    "df_cars['Age_Band_of_Driver'].replace({1:0 , 2:0 , 3:0, 4:1, 5:1, 6:2, 7:2, 8:2, 9:2, 10:3, 11:3}, inplace=True)"
   ]
  },
  {
   "cell_type": "markdown",
   "metadata": {},
   "source": [
    "#### 2.2. Sex of Driver"
   ]
  },
  {
   "cell_type": "code",
   "execution_count": 117,
   "metadata": {},
   "outputs": [
    {
     "name": "stdout",
     "output_type": "stream",
     "text": [
      "(2176452, 11)\n"
     ]
    }
   ],
   "source": [
    "# Removing data values in this column that are set as not specified = 3\n",
    "df_cars.drop(df_cars.loc[df_cars['Sex_of_Driver']==3].index, inplace=True)\n",
    "print(df_cars.shape)"
   ]
  },
  {
   "cell_type": "code",
   "execution_count": 118,
   "metadata": {},
   "outputs": [
    {
     "data": {
      "text/plain": [
       "1.0    1296549\n",
       "2.0     879903\n",
       "Name: Sex_of_Driver, dtype: int64"
      ]
     },
     "execution_count": 118,
     "metadata": {},
     "output_type": "execute_result"
    }
   ],
   "source": [
    "df_cars['Sex_of_Driver'].value_counts()"
   ]
  },
  {
   "cell_type": "code",
   "execution_count": 119,
   "metadata": {},
   "outputs": [
    {
     "data": {
      "text/plain": [
       "Accident_Severity  Sex_of_Driver\n",
       "1                  1.0                 6263\n",
       "                   2.0                 2051\n",
       "2                  1.0                80229\n",
       "                   2.0                42892\n",
       "3                  1.0              1210057\n",
       "                   2.0               834960\n",
       "dtype: int64"
      ]
     },
     "execution_count": 119,
     "metadata": {},
     "output_type": "execute_result"
    }
   ],
   "source": [
    "df_cars.groupby(['Accident_Severity','Sex_of_Driver']).size()"
   ]
  },
  {
   "cell_type": "markdown",
   "metadata": {},
   "source": [
    "#### 2.3. Age of Vehicle"
   ]
  },
  {
   "cell_type": "code",
   "execution_count": 120,
   "metadata": {},
   "outputs": [
    {
     "data": {
      "text/plain": [
       "(array([1.801437e+06, 3.699350e+05, 4.413000e+03, 4.430000e+02,\n",
       "        1.390000e+02, 2.900000e+01, 2.200000e+01, 2.200000e+01,\n",
       "        8.000000e+00, 4.000000e+00]),\n",
       " array([  1.,  12.,  23.,  34.,  45.,  56.,  67.,  78.,  89., 100., 111.]),\n",
       " <a list of 10 Patch objects>)"
      ]
     },
     "execution_count": 120,
     "metadata": {},
     "output_type": "execute_result"
    },
    {
     "data": {
      "image/png": "[encoded data removed]",
      "text/plain": [
       "<Figure size 432x288 with 1 Axes>"
      ]
     },
     "metadata": {
      "needs_background": "light"
     },
     "output_type": "display_data"
    }
   ],
   "source": [
    "plt.hist(df_cars['Age_of_Vehicle'])"
   ]
  },
  {
   "cell_type": "code",
   "execution_count": 121,
   "metadata": {},
   "outputs": [
    {
     "name": "stdout",
     "output_type": "stream",
     "text": [
      "(2175493, 11)\n"
     ]
    },
    {
     "data": {
      "image/png": "[encoded data removed]",
      "text/plain": [
       "<Figure size 432x288 with 1 Axes>"
      ]
     },
     "metadata": {
      "needs_background": "light"
     },
     "output_type": "display_data"
    }
   ],
   "source": [
    "# Keeping cars that are with an age below 30 (based on fq distribution, most data of the dataset will be conserved)\n",
    "df_cars.drop(df_cars.loc[df_cars['Age_of_Vehicle'] > 30].index, inplace=True)\n",
    "print(df_cars.shape)\n",
    "\n",
    "plt.hist(df_cars['Age_of_Vehicle'])\n",
    "\n",
    "df_cars['Age_of_Vehicle'].value_counts()\n",
    "\n",
    "df_cars.groupby(['Accident_Severity','Age_of_Vehicle']).size()\n",
    "\n",
    "df_cars['Age_of_Vehicle'].replace({1:0 , 2:0 , 3:0, 4:0, 5:0, 6:0, 7:0, 8:0, 9:0, 10:0,\n",
    "                                 11:0, 12:0, 13:0, 14:0, 15:0, 16:1, 17:1, 18:1, 19:1, 20:1,\n",
    "                                  21:1, 22:1, 23:1, 24:1, 25:1, 26:1, 27:1, 28:1, 29:1, 30:1}, inplace=True)"
   ]
  },
  {
   "cell_type": "markdown",
   "metadata": {},
   "source": [
    "#### 2.4. Light Conditions"
   ]
  },
  {
   "cell_type": "code",
   "execution_count": 122,
   "metadata": {},
   "outputs": [
    {
     "name": "stdout",
     "output_type": "stream",
     "text": [
      "Accident_Severity  Light_Conditions\n",
      "1                  0                      3994\n",
      "                   1                      4311\n",
      "2                  0                     39365\n",
      "                   1                     83651\n",
      "3                  0                    527231\n",
      "                   1                   1516941\n",
      "dtype: int64\n"
     ]
    },
    {
     "data": {
      "image/png": "[encoded data removed]",
      "text/plain": [
       "<Figure size 432x288 with 1 Axes>"
      ]
     },
     "metadata": {
      "needs_background": "light"
     },
     "output_type": "display_data"
    }
   ],
   "source": [
    "plt.hist(df_cars['Light_Conditions'])\n",
    "\n",
    "# if 0 there is some kind of darkness situation, if 1 daylight\n",
    "df_cars['Light_Conditions'].replace({1:1 , 4:0 , 5:0, 6:0, 7:0}, inplace=True)\n",
    "\n",
    "print(df_cars.groupby(['Accident_Severity','Light_Conditions']).size())"
   ]
  },
  {
   "cell_type": "markdown",
   "metadata": {},
   "source": [
    "#### 2.5. Road Surface Conditions"
   ]
  },
  {
   "cell_type": "code",
   "execution_count": 123,
   "metadata": {},
   "outputs": [
    {
     "data": {
      "image/png": "[encoded data removed]",
      "text/plain": [
       "<Figure size 432x288 with 1 Axes>"
      ]
     },
     "metadata": {
      "needs_background": "light"
     },
     "output_type": "display_data"
    }
   ],
   "source": [
    "plt.hist(df_cars['Road_Surface_Conditions'])\n",
    "\n",
    "# We set new categories (simplified) => 1 = dry , 2 = wet / ice / snow related\n",
    "df_cars['Road_Surface_Conditions'].replace({1:1 , 2:2 , 3:2, 4:2, 5:2}, inplace=True)"
   ]
  },
  {
   "cell_type": "code",
   "execution_count": 124,
   "metadata": {},
   "outputs": [
    {
     "name": "stdout",
     "output_type": "stream",
     "text": [
      "Accident_Severity  Road_Surface_Conditions\n",
      "1                  1.0                           5320\n",
      "                   2.0                           2985\n",
      "2                  1.0                          83731\n",
      "                   2.0                          39285\n",
      "3                  1.0                        1341752\n",
      "                   2.0                         702420\n",
      "dtype: int64\n"
     ]
    }
   ],
   "source": [
    "print(df_cars.groupby(['Accident_Severity','Road_Surface_Conditions']).size())"
   ]
  },
  {
   "cell_type": "markdown",
   "metadata": {},
   "source": [
    "#### 2.6. Urban or rural area"
   ]
  },
  {
   "cell_type": "code",
   "execution_count": 125,
   "metadata": {},
   "outputs": [
    {
     "data": {
      "text/plain": [
       "1    1285856\n",
       "2     889506\n",
       "3        131\n",
       "Name: Urban_or_Rural_Area, dtype: int64"
      ]
     },
     "execution_count": 125,
     "metadata": {},
     "output_type": "execute_result"
    }
   ],
   "source": [
    "df_cars['Urban_or_Rural_Area'].value_counts()"
   ]
  },
  {
   "cell_type": "markdown",
   "metadata": {},
   "source": [
    "We will group big cities accidents in 0 and the rest small cities and rural in 1"
   ]
  },
  {
   "cell_type": "code",
   "execution_count": 126,
   "metadata": {},
   "outputs": [
    {
     "name": "stdout",
     "output_type": "stream",
     "text": [
      "Accident_Severity  Urban_or_Rural_Area\n",
      "1                  0                         3140\n",
      "                   1                         5165\n",
      "2                  0                        70179\n",
      "                   1                        52837\n",
      "3                  0                      1212537\n",
      "                   1                       831635\n",
      "dtype: int64\n"
     ]
    }
   ],
   "source": [
    "df_cars['Urban_or_Rural_Area'].replace({1:0 , 2:1, 3:1}, inplace=True)\n",
    "\n",
    "print(df_cars.groupby(['Accident_Severity','Urban_or_Rural_Area']).size())"
   ]
  },
  {
   "cell_type": "markdown",
   "metadata": {},
   "source": [
    "#### 2.7. First point of impact"
   ]
  },
  {
   "cell_type": "code",
   "execution_count": 127,
   "metadata": {},
   "outputs": [
    {
     "name": "stdout",
     "output_type": "stream",
     "text": [
      "1.0    1081815\n",
      "2.0     511180\n",
      "3.0     285266\n",
      "4.0     233807\n",
      "0.0      63425\n",
      "Name: 1st_Point_of_Impact, dtype: int64\n",
      "Accident_Severity  1st_Point_of_Impact\n",
      "1                  0.0                        706\n",
      "                   1.0                       7599\n",
      "2                  0.0                       5867\n",
      "                   1.0                     117149\n",
      "3                  0.0                      56852\n",
      "                   1.0                    1987320\n",
      "dtype: int64\n"
     ]
    },
    {
     "data": {
      "image/png": "[encoded data removed]",
      "text/plain": [
       "<Figure size 432x288 with 1 Axes>"
      ]
     },
     "metadata": {
      "needs_background": "light"
     },
     "output_type": "display_data"
    }
   ],
   "source": [
    "plt.hist(df_cars['1st_Point_of_Impact'])\n",
    "\n",
    "print(df_cars['1st_Point_of_Impact'].value_counts())\n",
    "\n",
    "df_cars['1st_Point_of_Impact'].replace({0:0, 1:1 , 2:1, 3:1, 4:1}, inplace=True)\n",
    "\n",
    "print(df_cars.groupby(['Accident_Severity','1st_Point_of_Impact']).size())"
   ]
  },
  {
   "cell_type": "markdown",
   "metadata": {},
   "source": [
    "#### 2.8. Speed limit"
   ]
  },
  {
   "cell_type": "code",
   "execution_count": 128,
   "metadata": {},
   "outputs": [
    {
     "name": "stdout",
     "output_type": "stream",
     "text": [
      "Accident_Severity  Speed_limit\n",
      "1                  10                   1\n",
      "                   20                  39\n",
      "                   30                2921\n",
      "                   40                 838\n",
      "                   50                 394\n",
      "                   60                2966\n",
      "                   70                1146\n",
      "2                  20                1281\n",
      "                   30               71006\n",
      "                   40               10415\n",
      "                   50                4573\n",
      "                   60               27679\n",
      "                   70                8062\n",
      "3                  10                   6\n",
      "                   15                  14\n",
      "                   20               14153\n",
      "                   30             1167391\n",
      "                   40              207618\n",
      "                   50               87072\n",
      "                   60              346905\n",
      "                   70              221013\n",
      "dtype: int64\n",
      "Accident_Severity  Speed_limit\n",
      "1                  0                 2961\n",
      "                   1                 5344\n",
      "2                  0                72287\n",
      "                   1                50729\n",
      "3                  0              1181564\n",
      "                   1               862608\n",
      "dtype: int64\n"
     ]
    },
    {
     "data": {
      "image/png": "[encoded data removed]",
      "text/plain": [
       "<Figure size 432x288 with 1 Axes>"
      ]
     },
     "metadata": {
      "needs_background": "light"
     },
     "output_type": "display_data"
    }
   ],
   "source": [
    "plt.hist(df_cars['1st_Point_of_Impact'])\n",
    "\n",
    "print(df_cars.groupby(['Accident_Severity','Speed_limit']).size())\n",
    "\n",
    "df_cars['Speed_limit'].replace({10:0, 15:0 , 20:0, 30:0, 40:1, 50:1, 60:1, 70:1}, inplace=True)\n",
    "\n",
    "print(df_cars.groupby(['Accident_Severity','Speed_limit']).size())"
   ]
  },
  {
   "cell_type": "markdown",
   "metadata": {},
   "source": [
    "#### 2.9. Date: month and day of the week"
   ]
  },
  {
   "cell_type": "code",
   "execution_count": 129,
   "metadata": {},
   "outputs": [],
   "source": [
    "# Date is object, we make it datetime object in order to later extract month\n",
    "df_cars['Date']= pd.to_datetime(df_cars['Date'])\n",
    "\n",
    "# Extracting month from Date\n",
    "df_cars['Month'] = df_cars['Date'].dt.month\n",
    "\n",
    "# Droping Date now\n",
    "df_cars.drop(columns = ['Date'], inplace=True)"
   ]
  },
  {
   "cell_type": "code",
   "execution_count": 130,
   "metadata": {},
   "outputs": [
    {
     "data": {
      "text/plain": [
       "11    192563\n",
       "10    190137\n",
       "1     187532\n",
       "5     185563\n",
       "7     184811\n",
       "8     183607\n",
       "9     181405\n",
       "6     181226\n",
       "3     176013\n",
       "12    175225\n",
       "4     175078\n",
       "2     162333\n",
       "Name: Month, dtype: int64"
      ]
     },
     "execution_count": 130,
     "metadata": {},
     "output_type": "execute_result"
    }
   ],
   "source": [
    "df_cars['Month'].value_counts()"
   ]
  },
  {
   "cell_type": "code",
   "execution_count": 131,
   "metadata": {},
   "outputs": [
    {
     "data": {
      "text/plain": [
       "Accident_Severity  Month\n",
       "1                  1           737\n",
       "                   2           651\n",
       "                   3           667\n",
       "                   4           604\n",
       "                   5           655\n",
       "                   6           603\n",
       "                   7           710\n",
       "                   8           658\n",
       "                   9           716\n",
       "                   10          783\n",
       "                   11          757\n",
       "                   12          764\n",
       "2                  1         10571\n",
       "                   2          9026\n",
       "                   3          9911\n",
       "                   4          9800\n",
       "                   5         10377\n",
       "                   6         10461\n",
       "                   7         10447\n",
       "                   8         10132\n",
       "                   9         10800\n",
       "                   10        11071\n",
       "                   11        10759\n",
       "                   12         9661\n",
       "3                  1        176224\n",
       "                   2        152656\n",
       "                   3        165435\n",
       "                   4        164674\n",
       "                   5        174531\n",
       "                   6        170162\n",
       "                   7        173654\n",
       "                   8        172817\n",
       "                   9        169889\n",
       "                   10       178283\n",
       "                   11       181047\n",
       "                   12       164800\n",
       "dtype: int64"
      ]
     },
     "execution_count": 131,
     "metadata": {},
     "output_type": "execute_result"
    }
   ],
   "source": [
    "df_cars.groupby(['Accident_Severity','Month']).size()"
   ]
  },
  {
   "cell_type": "code",
   "execution_count": 132,
   "metadata": {},
   "outputs": [],
   "source": [
    "df_cars['Month'].replace({1:1 , 2:1 , 3:2, 4:2, 5:2, 6:3, 7:3, 8:3, 9:4, 10:4, 11:4, 12:1}, inplace=True)"
   ]
  },
  {
   "cell_type": "code",
   "execution_count": 133,
   "metadata": {},
   "outputs": [
    {
     "data": {
      "text/plain": [
       "6    359496\n",
       "4    316770\n",
       "5    315498\n",
       "3    311974\n",
       "7    310497\n",
       "2    300094\n",
       "1    261164\n",
       "Name: Day_of_Week, dtype: int64"
      ]
     },
     "execution_count": 133,
     "metadata": {},
     "output_type": "execute_result"
    }
   ],
   "source": [
    "df_cars['Day_of_Week'].value_counts()"
   ]
  },
  {
   "cell_type": "code",
   "execution_count": 134,
   "metadata": {},
   "outputs": [
    {
     "data": {
      "text/plain": [
       "Accident_Severity  Day_of_Week\n",
       "1                  1                1364\n",
       "                   2                 999\n",
       "                   3                1011\n",
       "                   4                1074\n",
       "                   5                1071\n",
       "                   6                1290\n",
       "                   7                1496\n",
       "2                  1               15649\n",
       "                   2               16611\n",
       "                   3               17641\n",
       "                   4               17466\n",
       "                   5               18040\n",
       "                   6               19648\n",
       "                   7               17961\n",
       "3                  1              244151\n",
       "                   2              282484\n",
       "                   3              293322\n",
       "                   4              298230\n",
       "                   5              296387\n",
       "                   6              338558\n",
       "                   7              291040\n",
       "dtype: int64"
      ]
     },
     "execution_count": 134,
     "metadata": {},
     "output_type": "execute_result"
    }
   ],
   "source": [
    "df_cars.groupby(['Accident_Severity','Day_of_Week']).size()"
   ]
  },
  {
   "cell_type": "code",
   "execution_count": 135,
   "metadata": {},
   "outputs": [],
   "source": [
    "df_cars['Day_of_Week'].replace({1:0 , 2:1 , 3:1, 4:1, 5:1, 6:0, 7:0}, inplace=True)"
   ]
  },
  {
   "cell_type": "markdown",
   "metadata": {},
   "source": [
    "We replace data type as needed"
   ]
  },
  {
   "cell_type": "code",
   "execution_count": 136,
   "metadata": {},
   "outputs": [
    {
     "name": "stdout",
     "output_type": "stream",
     "text": [
      "Age_Band_of_Driver         float64\n",
      "Sex_of_Driver              float64\n",
      "Age_of_Vehicle             float64\n",
      "Light_Conditions             int64\n",
      "Road_Surface_Conditions    float64\n",
      "Urban_or_Rural_Area          int64\n",
      "1st_Point_of_Impact        float64\n",
      "Speed_limit                  int64\n",
      "Day_of_Week                  int64\n",
      "Accident_Severity            int64\n",
      "Month                        int64\n",
      "dtype: object\n"
     ]
    }
   ],
   "source": [
    "# We see the types of data we have and later replace data type accordingly if needed\n",
    "print(df_cars.dtypes)"
   ]
  },
  {
   "cell_type": "code",
   "execution_count": 137,
   "metadata": {},
   "outputs": [],
   "source": [
    "# We replace data type float for int, NOTE: Date column is a date object and will be treated differently\n",
    "# df_cars.dropna(axis=0,inplace=True)\n",
    "# df_cars = df_cars.astype({'Age_Band_of_Driver': int, \n",
    "#                          'Sex_of_Driver': int,\n",
    "#                          'Age_of_Vehicle': int,\n",
    "#                          'Road_Surface_Conditions ': int,\n",
    "#                          '1st_Point_of_Impact': int})\n",
    "#\n",
    "# We see afterwards the data types\n",
    "# print(df_cars.dtypes)"
   ]
  },
  {
   "cell_type": "code",
   "execution_count": 138,
   "metadata": {},
   "outputs": [],
   "source": [
    "# Arranging the order of the columns in the df_cars so that is easier to understand\n",
    "df_cars = df_cars[['Age_Band_of_Driver','Sex_of_Driver',\n",
    "                   'Age_of_Vehicle','Light_Conditions','Road_Surface_Conditions','Urban_or_Rural_Area',\n",
    "                   '1st_Point_of_Impact','Speed_limit',\n",
    "                   'Month','Day_of_Week',\n",
    "                   'Accident_Severity']]"
   ]
  },
  {
   "cell_type": "code",
   "execution_count": 139,
   "metadata": {},
   "outputs": [
    {
     "data": {
      "text/html": [
       "<div>\n",
       "<style scoped>\n",
       "    .dataframe tbody tr th:only-of-type {\n",
       "        vertical-align: middle;\n",
       "    }\n",
       "\n",
       "    .dataframe tbody tr th {\n",
       "        vertical-align: top;\n",
       "    }\n",
       "\n",
       "    .dataframe thead th {\n",
       "        text-align: right;\n",
       "    }\n",
       "</style>\n",
       "<table border=\"1\" class=\"dataframe\">\n",
       "  <thead>\n",
       "    <tr style=\"text-align: right;\">\n",
       "      <th></th>\n",
       "      <th>Age_Band_of_Driver</th>\n",
       "      <th>Sex_of_Driver</th>\n",
       "      <th>Age_of_Vehicle</th>\n",
       "      <th>Light_Conditions</th>\n",
       "      <th>Road_Surface_Conditions</th>\n",
       "      <th>Urban_or_Rural_Area</th>\n",
       "      <th>1st_Point_of_Impact</th>\n",
       "      <th>Speed_limit</th>\n",
       "      <th>Month</th>\n",
       "      <th>Day_of_Week</th>\n",
       "      <th>Accident_Severity</th>\n",
       "    </tr>\n",
       "  </thead>\n",
       "  <tbody>\n",
       "    <tr>\n",
       "      <th>Age_Band_of_Driver</th>\n",
       "      <td>1.000000</td>\n",
       "      <td>-0.021988</td>\n",
       "      <td>0.004660</td>\n",
       "      <td>0.126930</td>\n",
       "      <td>-0.049387</td>\n",
       "      <td>-0.000425</td>\n",
       "      <td>-0.006667</td>\n",
       "      <td>-0.009943</td>\n",
       "      <td>0.001764</td>\n",
       "      <td>0.030579</td>\n",
       "      <td>-0.017810</td>\n",
       "    </tr>\n",
       "    <tr>\n",
       "      <th>Sex_of_Driver</th>\n",
       "      <td>-0.021988</td>\n",
       "      <td>1.000000</td>\n",
       "      <td>-0.048495</td>\n",
       "      <td>0.093003</td>\n",
       "      <td>-0.002358</td>\n",
       "      <td>-0.012132</td>\n",
       "      <td>0.014114</td>\n",
       "      <td>-0.021257</td>\n",
       "      <td>0.003490</td>\n",
       "      <td>0.058250</td>\n",
       "      <td>0.034136</td>\n",
       "    </tr>\n",
       "    <tr>\n",
       "      <th>Age_of_Vehicle</th>\n",
       "      <td>0.004660</td>\n",
       "      <td>-0.048495</td>\n",
       "      <td>1.000000</td>\n",
       "      <td>-0.003253</td>\n",
       "      <td>0.001452</td>\n",
       "      <td>0.010751</td>\n",
       "      <td>-0.000424</td>\n",
       "      <td>0.001532</td>\n",
       "      <td>-0.006427</td>\n",
       "      <td>-0.003207</td>\n",
       "      <td>-0.011055</td>\n",
       "    </tr>\n",
       "    <tr>\n",
       "      <th>Light_Conditions</th>\n",
       "      <td>0.126930</td>\n",
       "      <td>0.093003</td>\n",
       "      <td>-0.003253</td>\n",
       "      <td>1.000000</td>\n",
       "      <td>-0.192313</td>\n",
       "      <td>0.024554</td>\n",
       "      <td>0.004130</td>\n",
       "      <td>0.004395</td>\n",
       "      <td>0.040828</td>\n",
       "      <td>0.039396</td>\n",
       "      <td>0.043102</td>\n",
       "    </tr>\n",
       "    <tr>\n",
       "      <th>Road_Surface_Conditions</th>\n",
       "      <td>-0.049387</td>\n",
       "      <td>-0.002358</td>\n",
       "      <td>0.001452</td>\n",
       "      <td>-0.192313</td>\n",
       "      <td>1.000000</td>\n",
       "      <td>0.090240</td>\n",
       "      <td>0.008867</td>\n",
       "      <td>0.087783</td>\n",
       "      <td>-0.051678</td>\n",
       "      <td>0.015660</td>\n",
       "      <td>0.009458</td>\n",
       "    </tr>\n",
       "    <tr>\n",
       "      <th>Urban_or_Rural_Area</th>\n",
       "      <td>-0.000425</td>\n",
       "      <td>-0.012132</td>\n",
       "      <td>0.010751</td>\n",
       "      <td>0.024554</td>\n",
       "      <td>0.090240</td>\n",
       "      <td>1.000000</td>\n",
       "      <td>-0.017646</td>\n",
       "      <td>0.637425</td>\n",
       "      <td>0.000764</td>\n",
       "      <td>-0.018527</td>\n",
       "      <td>-0.021808</td>\n",
       "    </tr>\n",
       "    <tr>\n",
       "      <th>1st_Point_of_Impact</th>\n",
       "      <td>-0.006667</td>\n",
       "      <td>0.014114</td>\n",
       "      <td>-0.000424</td>\n",
       "      <td>0.004130</td>\n",
       "      <td>0.008867</td>\n",
       "      <td>-0.017646</td>\n",
       "      <td>1.000000</td>\n",
       "      <td>-0.010120</td>\n",
       "      <td>-0.001119</td>\n",
       "      <td>0.004295</td>\n",
       "      <td>0.033690</td>\n",
       "    </tr>\n",
       "    <tr>\n",
       "      <th>Speed_limit</th>\n",
       "      <td>-0.009943</td>\n",
       "      <td>-0.021257</td>\n",
       "      <td>0.001532</td>\n",
       "      <td>0.004395</td>\n",
       "      <td>0.087783</td>\n",
       "      <td>0.637425</td>\n",
       "      <td>-0.010120</td>\n",
       "      <td>1.000000</td>\n",
       "      <td>-0.000783</td>\n",
       "      <td>-0.015356</td>\n",
       "      <td>-0.008781</td>\n",
       "    </tr>\n",
       "    <tr>\n",
       "      <th>Month</th>\n",
       "      <td>0.001764</td>\n",
       "      <td>0.003490</td>\n",
       "      <td>-0.006427</td>\n",
       "      <td>0.040828</td>\n",
       "      <td>-0.051678</td>\n",
       "      <td>0.000764</td>\n",
       "      <td>-0.001119</td>\n",
       "      <td>-0.000783</td>\n",
       "      <td>1.000000</td>\n",
       "      <td>-0.007175</td>\n",
       "      <td>-0.002714</td>\n",
       "    </tr>\n",
       "    <tr>\n",
       "      <th>Day_of_Week</th>\n",
       "      <td>0.030579</td>\n",
       "      <td>0.058250</td>\n",
       "      <td>-0.003207</td>\n",
       "      <td>0.039396</td>\n",
       "      <td>0.015660</td>\n",
       "      <td>-0.018527</td>\n",
       "      <td>0.004295</td>\n",
       "      <td>-0.015356</td>\n",
       "      <td>-0.007175</td>\n",
       "      <td>1.000000</td>\n",
       "      <td>0.006410</td>\n",
       "    </tr>\n",
       "    <tr>\n",
       "      <th>Accident_Severity</th>\n",
       "      <td>-0.017810</td>\n",
       "      <td>0.034136</td>\n",
       "      <td>-0.011055</td>\n",
       "      <td>0.043102</td>\n",
       "      <td>0.009458</td>\n",
       "      <td>-0.021808</td>\n",
       "      <td>0.033690</td>\n",
       "      <td>-0.008781</td>\n",
       "      <td>-0.002714</td>\n",
       "      <td>0.006410</td>\n",
       "      <td>1.000000</td>\n",
       "    </tr>\n",
       "  </tbody>\n",
       "</table>\n",
       "</div>"
      ],
      "text/plain": [
       "                         Age_Band_of_Driver  Sex_of_Driver  Age_of_Vehicle  \\\n",
       "Age_Band_of_Driver                 1.000000      -0.021988        0.004660   \n",
       "Sex_of_Driver                     -0.021988       1.000000       -0.048495   \n",
       "Age_of_Vehicle                     0.004660      -0.048495        1.000000   \n",
       "Light_Conditions                   0.126930       0.093003       -0.003253   \n",
       "Road_Surface_Conditions           -0.049387      -0.002358        0.001452   \n",
       "Urban_or_Rural_Area               -0.000425      -0.012132        0.010751   \n",
       "1st_Point_of_Impact               -0.006667       0.014114       -0.000424   \n",
       "Speed_limit                       -0.009943      -0.021257        0.001532   \n",
       "Month                              0.001764       0.003490       -0.006427   \n",
       "Day_of_Week                        0.030579       0.058250       -0.003207   \n",
       "Accident_Severity                 -0.017810       0.034136       -0.011055   \n",
       "\n",
       "                         Light_Conditions  Road_Surface_Conditions  \\\n",
       "Age_Band_of_Driver               0.126930                -0.049387   \n",
       "Sex_of_Driver                    0.093003                -0.002358   \n",
       "Age_of_Vehicle                  -0.003253                 0.001452   \n",
       "Light_Conditions                 1.000000                -0.192313   \n",
       "Road_Surface_Conditions         -0.192313                 1.000000   \n",
       "Urban_or_Rural_Area              0.024554                 0.090240   \n",
       "1st_Point_of_Impact              0.004130                 0.008867   \n",
       "Speed_limit                      0.004395                 0.087783   \n",
       "Month                            0.040828                -0.051678   \n",
       "Day_of_Week                      0.039396                 0.015660   \n",
       "Accident_Severity                0.043102                 0.009458   \n",
       "\n",
       "                         Urban_or_Rural_Area  1st_Point_of_Impact  \\\n",
       "Age_Band_of_Driver                 -0.000425            -0.006667   \n",
       "Sex_of_Driver                      -0.012132             0.014114   \n",
       "Age_of_Vehicle                      0.010751            -0.000424   \n",
       "Light_Conditions                    0.024554             0.004130   \n",
       "Road_Surface_Conditions             0.090240             0.008867   \n",
       "Urban_or_Rural_Area                 1.000000            -0.017646   \n",
       "1st_Point_of_Impact                -0.017646             1.000000   \n",
       "Speed_limit                         0.637425            -0.010120   \n",
       "Month                               0.000764            -0.001119   \n",
       "Day_of_Week                        -0.018527             0.004295   \n",
       "Accident_Severity                  -0.021808             0.033690   \n",
       "\n",
       "                         Speed_limit     Month  Day_of_Week  Accident_Severity  \n",
       "Age_Band_of_Driver         -0.009943  0.001764     0.030579          -0.017810  \n",
       "Sex_of_Driver              -0.021257  0.003490     0.058250           0.034136  \n",
       "Age_of_Vehicle              0.001532 -0.006427    -0.003207          -0.011055  \n",
       "Light_Conditions            0.004395  0.040828     0.039396           0.043102  \n",
       "Road_Surface_Conditions     0.087783 -0.051678     0.015660           0.009458  \n",
       "Urban_or_Rural_Area         0.637425  0.000764    -0.018527          -0.021808  \n",
       "1st_Point_of_Impact        -0.010120 -0.001119     0.004295           0.033690  \n",
       "Speed_limit                 1.000000 -0.000783    -0.015356          -0.008781  \n",
       "Month                      -0.000783  1.000000    -0.007175          -0.002714  \n",
       "Day_of_Week                -0.015356 -0.007175     1.000000           0.006410  \n",
       "Accident_Severity          -0.008781 -0.002714     0.006410           1.000000  "
      ]
     },
     "execution_count": 139,
     "metadata": {},
     "output_type": "execute_result"
    }
   ],
   "source": [
    "# We check now correlation values with Accident_Severity\n",
    "df_cars.corr()"
   ]
  },
  {
   "cell_type": "markdown",
   "metadata": {},
   "source": [
    "### 3. Modeling"
   ]
  },
  {
   "cell_type": "markdown",
   "metadata": {},
   "source": [
    "### 3.1. Logistic regression"
   ]
  },
  {
   "cell_type": "markdown",
   "metadata": {},
   "source": [
    "#### 3.1.1. Logistic regression: with all values"
   ]
  },
  {
   "cell_type": "markdown",
   "metadata": {},
   "source": [
    "If we take all the values we will get a model that is good to predict low severity accidents BUT will not predict other scenarios:"
   ]
  },
  {
   "cell_type": "code",
   "execution_count": 140,
   "metadata": {},
   "outputs": [
    {
     "name": "stdout",
     "output_type": "stream",
     "text": [
      "[[0.0000e+00 2.5640e+03]\n",
      " [1.0000e+00 3.6914e+04]\n",
      " [2.0000e+00 6.1317e+05]]\n",
      "Logistic regression f1_score:  0.3229374207034503\n",
      "Logistic Regression Accuracy:  0.9395110381093636\n"
     ]
    },
    {
     "data": {
      "image/png": "[encoded data removed]",
      "text/plain": [
       "<Figure size 432x288 with 2 Axes>"
      ]
     },
     "metadata": {
      "needs_background": "light"
     },
     "output_type": "display_data"
    }
   ],
   "source": [
    "df_cars['Accident_Severity'].replace({1:0 , 2:1 , 3:2}, inplace=True)\n",
    "\n",
    "# We prepare X and y\n",
    "cars = df_cars.values\n",
    "n,m = cars.shape\n",
    "\n",
    "X = cars[:,0:m-1]\n",
    "y = cars[:,m-1]\n",
    "\n",
    "# We normalize X\n",
    "X = StandardScaler().fit(X).transform(X)\n",
    "\n",
    "# We make a partition of the X and y data, to have training and test data --> we use 20% of the data for test purposes and we take them randomly with shuffle = True\n",
    "X_train, X_test, y_train, y_test = train_test_split(X, y, test_size = 0.3, shuffle=True)\n",
    "\n",
    "# Let's verify that in the training set we have variety of data between 0 (fatal) and 2 (low severity)\n",
    "(unique, counts) = np.unique(y_test, return_counts=True)\n",
    "frequencies = np.asarray((unique, counts)).T\n",
    "print(frequencies)\n",
    "\n",
    "# We create the logistic regression model for this multiclass case, and we train it \n",
    "clf = LogisticRegression(multi_class = 'multinomial', solver='lbfgs').fit(X, y)\n",
    "\n",
    "# We use the model to calculate the y_hat values\n",
    "y_hat = clf.predict(X_test)\n",
    "y_hat\n",
    "\n",
    "# We calculate metrics: f1_score and accuracy:\n",
    "print(\"Logistic regression f1_score: \", f1_score(y_test,y_hat, average = 'macro'))\n",
    "print(\"Logistic Regression Accuracy: \", accuracy_score(y_test, y_hat))\n",
    "\n",
    "# We display the confusion matrix for visibility:\n",
    "cm = confusion_matrix(y_test, y_hat)\n",
    "plot_confusion_matrix(clf, X_test, y_test)\n",
    "plt.show()"
   ]
  },
  {
   "cell_type": "markdown",
   "metadata": {},
   "source": [
    "#### 3.1.2. Logistic regression and decision tree: taking equilibrated subset of data"
   ]
  },
  {
   "cell_type": "code",
   "execution_count": 141,
   "metadata": {},
   "outputs": [
    {
     "name": "stdout",
     "output_type": "stream",
     "text": [
      "logisticRegression f1_score:  0.35222825995759877\n",
      "logisticRegression Accuracy:  0.4175368139223561\n"
     ]
    },
    {
     "data": {
      "image/png": "[encoded data removed]",
      "text/plain": [
       "<Figure size 432x288 with 2 Axes>"
      ]
     },
     "metadata": {
      "needs_background": "light"
     },
     "output_type": "display_data"
    }
   ],
   "source": [
    "# We now just take a subset of the data so that we have now equilibrated amount of severity accidents between 0, 1 and 2\n",
    "a = df_cars.loc[df_cars['Accident_Severity'] == 0]\n",
    "b = df_cars.loc[df_cars['Accident_Severity'] == 1]\n",
    "c = df_cars.loc[df_cars['Accident_Severity'] == 2]\n",
    "\n",
    "a = a.sample(n = 8300)\n",
    "b = b.sample(n = 8300)\n",
    "c = c.sample(n = 8300)\n",
    "\n",
    "new_cars = np.concatenate([a,b,c],axis=0)\n",
    "n,m = new_cars.shape\n",
    "X = new_cars[:,0:m-1]\n",
    "y = new_cars[:,m-1]\n",
    "\n",
    "# Logistic Regression\n",
    "# We create the logistic regression model for this multiclass case, and we train it \n",
    "# We use the model to calculate the y_hat values\n",
    "# We calculate metrics: f1_score\n",
    "X = StandardScaler().fit(X).transform(X)\n",
    "X_train, X_test, y_train, y_test = train_test_split(X, y, test_size = 0.3, shuffle=True)\n",
    "clf = LogisticRegression(multi_class = 'multinomial', solver='lbfgs', class_weight={0:2,1:1,2:1}).fit(X, y)\n",
    "y_hat = clf.predict(X_test)\n",
    "print(\"logisticRegression f1_score: \", f1_score(y_test,y_hat, average = 'macro'))\n",
    "print(\"logisticRegression Accuracy: \", accuracy_score(y_test, y_hat))\n",
    "\n",
    "cm = confusion_matrix(y_test, y_hat)\n",
    "plot_confusion_matrix(clf, X_test, y_test)\n",
    "plt.show()"
   ]
  },
  {
   "cell_type": "markdown",
   "metadata": {},
   "source": [
    "#### 3.1.3. Logistic regression binarizing the Accident_Severity"
   ]
  },
  {
   "cell_type": "code",
   "execution_count": 142,
   "metadata": {},
   "outputs": [
    {
     "name": "stdout",
     "output_type": "stream",
     "text": [
      "1    2167188\n",
      "0       8305\n",
      "Name: Accident_Severity, dtype: int64\n",
      "logisticRegression f1_score:  0.6626299116181824\n",
      "logisticRegression Accuracy:  0.6626506024096386\n",
      "crossValidationScore:  [0.65341525 0.65769022 0.66491957]\n"
     ]
    },
    {
     "data": {
      "image/png": "[encoded data removed]",
      "text/plain": [
       "<Figure size 432x288 with 2 Axes>"
      ]
     },
     "metadata": {
      "needs_background": "light"
     },
     "output_type": "display_data"
    },
    {
     "data": {
      "image/png": "[encoded data removed]",
      "text/plain": [
       "<Figure size 432x288 with 1 Axes>"
      ]
     },
     "metadata": {
      "needs_background": "light"
     },
     "output_type": "display_data"
    }
   ],
   "source": [
    "# We binarize Accident_Severity: fatal = 0, severe & slight = 1\n",
    "df_cars['Accident_Severity'].replace({0:0 , 1:1 , 2:1}, inplace=True)\n",
    "print(df_cars['Accident_Severity'].value_counts())\n",
    "\n",
    "a = df_cars.loc[df_cars['Accident_Severity'] == 0]\n",
    "b = df_cars.loc[df_cars['Accident_Severity'] == 1]\n",
    "\n",
    "a = a.sample(n = 8300)\n",
    "b = b.sample(n = 8300)\n",
    "\n",
    "new_cars = np.concatenate([a,b],axis=0)\n",
    "n,m = new_cars.shape\n",
    "X = new_cars[:,1:m-1]\n",
    "y = new_cars[:,m-1]\n",
    "X = StandardScaler().fit(X).transform(X)\n",
    "X_train, X_test, y_train, y_test = train_test_split(X, y, test_size = 0.2, shuffle=True)\n",
    "clf = LogisticRegression(solver='lbfgs').fit(X, y)\n",
    "y_hat = clf.predict(X_test)\n",
    "\n",
    "print(\"logisticRegression f1_score: \", f1_score(y_test,y_hat, average = 'macro'))\n",
    "print(\"logisticRegression Accuracy: \", accuracy_score(y_test, y_hat))\n",
    "print(\"crossValidationScore: \", cross_val_score(clf, X, y, cv=3))\n",
    "\n",
    "# Confusion matrix visualuzation\n",
    "cm = confusion_matrix(y_test, y_hat)\n",
    "plot_confusion_matrix(clf, X_test, y_test)\n",
    "plt.show()\n",
    "\n",
    "# y_hat_prob = clf.predict_proba(X_test)\n",
    "\n",
    "# Learn to predict each class against the other\n",
    "y_score = clf.fit(X_train, y_train).decision_function(X_test)\n",
    "\n",
    "# Compute ROC curve, ROC area and plot\n",
    "fpr, tpr, _ = roc_curve(y_test, y_score)\n",
    "roc_auc = auc(fpr, tpr)\n",
    "\n",
    "plt.figure()\n",
    "lw = 2\n",
    "plt.plot(fpr, tpr, color='red',\n",
    "         lw=lw, label='ROC curve (area = %0.2f)' % roc_auc)\n",
    "plt.plot([0, 1], [0, 1], color='navy', lw=lw, linestyle='--')\n",
    "plt.xlim([0.0, 1.0])\n",
    "plt.ylim([0.0, 1.05])\n",
    "plt.xlabel('False Positive Rate')\n",
    "plt.ylabel('True Positive Rate')\n",
    "plt.title('ROC logistic regression using binarized and balanced subset of data')\n",
    "plt.legend(loc=\"lower right\")\n",
    "plt.show()"
   ]
  },
  {
   "cell_type": "markdown",
   "metadata": {},
   "source": [
    "Note that, in general, an AUC of 0.5 suggests no discrimination (i.e., ability to diagnose patients with and without the disease or condition based on the test), 0.7 to 0.8 is considered acceptable, 0.8 to 0.9 is considered excellent, and more than 0.9 is considered outstanding."
   ]
  },
  {
   "cell_type": "markdown",
   "metadata": {},
   "source": [
    "### 3.3. Decision tree"
   ]
  },
  {
   "cell_type": "code",
   "execution_count": 143,
   "metadata": {},
   "outputs": [
    {
     "name": "stdout",
     "output_type": "stream",
     "text": [
      "DecisionTrees's f1_score:  0.6626299116181824\n",
      "DecisionTrees's Accuracy:  0.6626506024096386\n"
     ]
    },
    {
     "data": {
      "image/png": "[encoded data removed]",
      "text/plain": [
       "<Figure size 432x288 with 2 Axes>"
      ]
     },
     "metadata": {
      "needs_background": "light"
     },
     "output_type": "display_data"
    },
    {
     "name": "stdout",
     "output_type": "stream",
     "text": [
      "0.6757741347905283\n",
      "0.6497310221159593\n"
     ]
    }
   ],
   "source": [
    "# Decision tree\n",
    "DT = tree.DecisionTreeClassifier(criterion=\"entropy\")\n",
    "DT = clf.fit(X_train,y_train)\n",
    "print(\"DecisionTrees's f1_score: \", f1_score(y_test,y_hat, average = 'macro'))\n",
    "print(\"DecisionTrees's Accuracy: \", accuracy_score(y_test, y_hat))\n",
    "cm = confusion_matrix(y_test, y_hat)\n",
    "plot_confusion_matrix(DT, X_test, y_test)\n",
    "plt.show()\n",
    "cmfor0 = cm[0,0]/np.sum(cm[0,]); print(cmfor0)\n",
    "cmfor1 = cm[1,1]/np.sum(cm[1,]); print(cmfor1)"
   ]
  },
  {
   "cell_type": "markdown",
   "metadata": {},
   "source": [
    "### 3.4. Support Vector Machine (SVM)"
   ]
  },
  {
   "cell_type": "code",
   "execution_count": 144,
   "metadata": {},
   "outputs": [
    {
     "name": "stdout",
     "output_type": "stream",
     "text": [
      "SVM's f1_score:  0.6646224497547675\n",
      "SVM's Accuracy:  0.6647590361445783\n"
     ]
    },
    {
     "data": {
      "image/png": "[encoded data removed]",
      "text/plain": [
       "<Figure size 432x288 with 2 Axes>"
      ]
     },
     "metadata": {
      "needs_background": "light"
     },
     "output_type": "display_data"
    }
   ],
   "source": [
    "clf = svm.SVC(kernel='rbf')\n",
    "clf.fit(X_train, y_train)\n",
    "y_hat = clf.predict(X_test)\n",
    "print(\"SVM's f1_score: \", f1_score(y_test,y_hat, average = 'macro'))\n",
    "print(\"SVM's Accuracy: \", accuracy_score(y_test, y_hat))\n",
    "cm = confusion_matrix(y_test, y_hat)\n",
    "plot_confusion_matrix(clf, X_test, y_test)\n",
    "plt.show()"
   ]
  },
  {
   "cell_type": "code",
   "execution_count": null,
   "metadata": {},
   "outputs": [],
   "source": []
  }
 ],
 "metadata": {
  "kernelspec": {
   "display_name": "Python 3",
   "language": "python",
   "name": "python3"
  },
  "language_info": {
   "codemirror_mode": {
    "name": "ipython",
    "version": 3
   },
   "file_extension": ".py",
   "mimetype": "text/x-python",
   "name": "python",
   "nbconvert_exporter": "python",
   "pygments_lexer": "ipython3",
   "version": "3.7.6"
  }
 },
 "nbformat": 4,
 "nbformat_minor": 4
}
