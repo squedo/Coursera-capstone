{
 "cells": [
  {
   "cell_type": "markdown",
   "metadata": {},
   "source": [
    "# Capstone project\n",
    "\n",
    "---\n",
    "\n",
    "Car accident model - based on Data from the UK Department for Transport (2005-2014)\n",
    "\n",
    "Data files provide detailed road safety data about the circumstances of personal injury road accidents in GB from 2005 to 2014:\n",
    "\n",
    "- Accident file: main data set contains information about accident severity, weather, location, date, hour, day of week, road type…\n",
    "- Vehicle file: contains information about vehicle type, vehicle model, engine size, driver sex, driver age, car age…\n",
    "- Casualty file: contains information about casualty severity, age, sex social class, casualty type, pedestrian or car passenger…\n",
    "\n",
    "---\n"
   ]
  },
  {
   "cell_type": "code",
   "execution_count": 1,
   "metadata": {},
   "outputs": [
    {
     "name": "stdout",
     "output_type": "stream",
     "text": [
      "Requirement already satisfied: scikit-learn in c:\\users\\sergio\\anaconda3\\lib\\site-packages (0.23.2)\n",
      "Requirement already satisfied: numpy>=1.13.3 in c:\\users\\sergio\\anaconda3\\lib\\site-packages (from scikit-learn) (1.18.1)\n",
      "Requirement already satisfied: joblib>=0.11 in c:\\users\\sergio\\anaconda3\\lib\\site-packages (from scikit-learn) (0.14.1)\n",
      "Requirement already satisfied: threadpoolctl>=2.0.0 in c:\\users\\sergio\\anaconda3\\lib\\site-packages (from scikit-learn) (2.1.0)\n",
      "Requirement already satisfied: scipy>=0.19.1 in c:\\users\\sergio\\anaconda3\\lib\\site-packages (from scikit-learn) (1.4.1)\n",
      "Scikit-learn lib Installed!\n"
     ]
    }
   ],
   "source": [
    "import numpy as np\n",
    "import pandas as pd\n",
    "import seaborn as sns\n",
    "import matplotlib.pyplot as plt\n",
    "\n",
    "!pip install scikit-learn\n",
    "print('Scikit-learn lib Installed!')\n",
    "from sklearn.preprocessing import StandardScaler\n",
    "from sklearn.model_selection import train_test_split\n",
    "from sklearn.linear_model import LogisticRegression\n",
    "from sklearn.metrics import f1_score\n",
    "from sklearn.metrics import confusion_matrix\n",
    "from sklearn.tree import DecisionTreeClassifier\n",
    "from sklearn.metrics import accuracy_score\n",
    "from sklearn import tree"
   ]
  },
  {
   "cell_type": "markdown",
   "metadata": {},
   "source": [
    "### 0. Loading data"
   ]
  },
  {
   "cell_type": "markdown",
   "metadata": {},
   "source": [
    "Loading data for each .csv data file available and dropping columns that wouldn't look as adequate or specially relevant to build a model."
   ]
  },
  {
   "cell_type": "code",
   "execution_count": 2,
   "metadata": {},
   "outputs": [
    {
     "name": "stderr",
     "output_type": "stream",
     "text": [
      "C:\\Users\\Sergio\\anaconda3\\lib\\site-packages\\IPython\\core\\interactiveshell.py:3063: DtypeWarning: Columns (31) have mixed types.Specify dtype option on import or set low_memory=False.\n",
      "  interactivity=interactivity, compiler=compiler, result=result)\n"
     ]
    }
   ],
   "source": [
    "df_accidents = pd.read_csv('Accidents0514.csv')\n",
    "\n",
    "atrib_to_drop_df_accidents = ['Location_Easting_OSGR','Location_Northing_OSGR','Longitude','Latitude',\n",
    "                             'Police_Force','Pedestrian_Crossing-Human_Control','Pedestrian_Crossing-Physical_Facilities',\n",
    "                             'Special_Conditions_at_Site','Carriageway_Hazards','Did_Police_Officer_Attend_Scene_of_Accident','LSOA_of_Accident_Location',\n",
    "                             '1st_Road_Class','1st_Road_Number','Junction_Detail','Junction_Control','2nd_Road_Class','2nd_Road_Number',\n",
    "                             'Number_of_Vehicles','Local_Authority_(District)','Local_Authority_(Highway)','Road_Type']\n",
    "\n",
    "df_accidents.drop(columns = atrib_to_drop_df_accidents, inplace=True)"
   ]
  },
  {
   "cell_type": "code",
   "execution_count": 3,
   "metadata": {},
   "outputs": [],
   "source": [
    "df_vehicles = pd.read_csv('Vehicles0514.csv')\n",
    "\n",
    "atrib_to_drop_df_vehicles = ['Towing_and_Articulation','Vehicle_Manoeuvre','Vehicle_Location-Restricted_Lane','Junction_Location',\n",
    "                            'Skidding_and_Overturning','Hit_Object_in_Carriageway','Vehicle_Leaving_Carriageway','Hit_Object_off_Carriageway',\n",
    "                            'Driver_IMD_Decile','Driver_Home_Area_Type','Vehicle_Reference']\n",
    "\n",
    "df_vehicles.drop(columns = atrib_to_drop_df_vehicles, inplace=True)"
   ]
  },
  {
   "cell_type": "code",
   "execution_count": 4,
   "metadata": {},
   "outputs": [],
   "source": [
    "df_casualties = pd.read_csv('Casualties0514.csv')\n",
    "\n",
    "atrib_to_drop_df_casualties = ['Casualty_Reference','Sex_of_Casualty','Age_of_Casualty','Age_Band_of_Casualty',\n",
    "                               'Pedestrian_Location','Pedestrian_Movement','Bus_or_Coach_Passenger','Pedestrian_Road_Maintenance_Worker',\n",
    "                               'Casualty_Home_Area_Type','Vehicle_Reference']\n",
    "\n",
    "df_casualties.drop(columns = atrib_to_drop_df_casualties, inplace=True)"
   ]
  },
  {
   "cell_type": "markdown",
   "metadata": {},
   "source": [
    "### 1. Data wrangling"
   ]
  },
  {
   "cell_type": "code",
   "execution_count": 5,
   "metadata": {},
   "outputs": [],
   "source": [
    "# We join dataframes based on key column\n",
    "df = df_vehicles.join(df_casualties.set_index('Accident_Index'), on='Accident_Index')\n",
    "df = df.join(df_accidents.set_index('Accident_Index'), on='Accident_Index')\n",
    "\n",
    "# According to the data \n",
    "df = df.replace(-1,np.NaN)\n",
    "df.dropna(axis=0,inplace=True)"
   ]
  },
  {
   "cell_type": "code",
   "execution_count": 6,
   "metadata": {},
   "outputs": [
    {
     "name": "stdout",
     "output_type": "stream",
     "text": [
      "3    2412615\n",
      "2     404590\n",
      "1      59658\n",
      "Name: Accident_Severity, dtype: int64\n"
     ]
    }
   ],
   "source": [
    "print(df['Accident_Severity'].value_counts())"
   ]
  },
  {
   "cell_type": "code",
   "execution_count": 7,
   "metadata": {},
   "outputs": [
    {
     "name": "stdout",
     "output_type": "stream",
     "text": [
      "9.0     2362944\n",
      "19.0     132807\n",
      "5.0       81035\n",
      "11.0      65057\n",
      "8.0       54819\n",
      "3.0       52886\n",
      "21.0      50026\n",
      "2.0       28587\n",
      "4.0       20789\n",
      "20.0      13351\n",
      "10.0       6625\n",
      "90.0       6183\n",
      "17.0       1480\n",
      "98.0        148\n",
      "97.0        120\n",
      "23.0          6\n",
      "Name: Vehicle_Type, dtype: int64\n"
     ]
    }
   ],
   "source": [
    "# In the data we have information for different kinds of vehicles, keeping only data for cares stored in value = 9\n",
    "print(df['Vehicle_Type'].value_counts())"
   ]
  },
  {
   "cell_type": "code",
   "execution_count": 8,
   "metadata": {},
   "outputs": [
    {
     "name": "stderr",
     "output_type": "stream",
     "text": [
      "C:\\Users\\Sergio\\anaconda3\\lib\\site-packages\\pandas\\core\\frame.py:3997: SettingWithCopyWarning: \n",
      "A value is trying to be set on a copy of a slice from a DataFrame\n",
      "\n",
      "See the caveats in the documentation: https://pandas.pydata.org/pandas-docs/stable/user_guide/indexing.html#returning-a-view-versus-a-copy\n",
      "  errors=errors,\n"
     ]
    },
    {
     "data": {
      "text/html": [
       "<div>\n",
       "<style scoped>\n",
       "    .dataframe tbody tr th:only-of-type {\n",
       "        vertical-align: middle;\n",
       "    }\n",
       "\n",
       "    .dataframe tbody tr th {\n",
       "        vertical-align: top;\n",
       "    }\n",
       "\n",
       "    .dataframe thead th {\n",
       "        text-align: right;\n",
       "    }\n",
       "</style>\n",
       "<table border=\"1\" class=\"dataframe\">\n",
       "  <thead>\n",
       "    <tr style=\"text-align: right;\">\n",
       "      <th></th>\n",
       "      <th>Accident_Index</th>\n",
       "      <th>1st_Point_of_Impact</th>\n",
       "      <th>Was_Vehicle_Left_Hand_Drive?</th>\n",
       "      <th>Journey_Purpose_of_Driver</th>\n",
       "      <th>Sex_of_Driver</th>\n",
       "      <th>Age_of_Driver</th>\n",
       "      <th>Age_Band_of_Driver</th>\n",
       "      <th>Engine_Capacity_(CC)</th>\n",
       "      <th>Propulsion_Code</th>\n",
       "      <th>Age_of_Vehicle</th>\n",
       "      <th>...</th>\n",
       "      <th>Accident_Severity</th>\n",
       "      <th>Number_of_Casualties</th>\n",
       "      <th>Date</th>\n",
       "      <th>Day_of_Week</th>\n",
       "      <th>Time</th>\n",
       "      <th>Speed_limit</th>\n",
       "      <th>Light_Conditions</th>\n",
       "      <th>Weather_Conditions</th>\n",
       "      <th>Road_Surface_Conditions</th>\n",
       "      <th>Urban_or_Rural_Area</th>\n",
       "    </tr>\n",
       "  </thead>\n",
       "  <tbody>\n",
       "    <tr>\n",
       "      <th>3</th>\n",
       "      <td>200501BS00003</td>\n",
       "      <td>3.0</td>\n",
       "      <td>1.0</td>\n",
       "      <td>15.0</td>\n",
       "      <td>1.0</td>\n",
       "      <td>62.0</td>\n",
       "      <td>9.0</td>\n",
       "      <td>1762.0</td>\n",
       "      <td>1.0</td>\n",
       "      <td>6.0</td>\n",
       "      <td>...</td>\n",
       "      <td>3</td>\n",
       "      <td>1</td>\n",
       "      <td>06/01/2005</td>\n",
       "      <td>5</td>\n",
       "      <td>00:15</td>\n",
       "      <td>30</td>\n",
       "      <td>4</td>\n",
       "      <td>1.0</td>\n",
       "      <td>1.0</td>\n",
       "      <td>1</td>\n",
       "    </tr>\n",
       "    <tr>\n",
       "      <th>4</th>\n",
       "      <td>200501BS00004</td>\n",
       "      <td>1.0</td>\n",
       "      <td>1.0</td>\n",
       "      <td>15.0</td>\n",
       "      <td>2.0</td>\n",
       "      <td>49.0</td>\n",
       "      <td>8.0</td>\n",
       "      <td>1769.0</td>\n",
       "      <td>1.0</td>\n",
       "      <td>4.0</td>\n",
       "      <td>...</td>\n",
       "      <td>3</td>\n",
       "      <td>1</td>\n",
       "      <td>07/01/2005</td>\n",
       "      <td>6</td>\n",
       "      <td>10:35</td>\n",
       "      <td>30</td>\n",
       "      <td>1</td>\n",
       "      <td>1.0</td>\n",
       "      <td>1.0</td>\n",
       "      <td>1</td>\n",
       "    </tr>\n",
       "    <tr>\n",
       "      <th>6</th>\n",
       "      <td>200501BS00006</td>\n",
       "      <td>0.0</td>\n",
       "      <td>1.0</td>\n",
       "      <td>15.0</td>\n",
       "      <td>1.0</td>\n",
       "      <td>51.0</td>\n",
       "      <td>8.0</td>\n",
       "      <td>2976.0</td>\n",
       "      <td>1.0</td>\n",
       "      <td>1.0</td>\n",
       "      <td>...</td>\n",
       "      <td>3</td>\n",
       "      <td>1</td>\n",
       "      <td>11/01/2005</td>\n",
       "      <td>3</td>\n",
       "      <td>12:40</td>\n",
       "      <td>30</td>\n",
       "      <td>1</td>\n",
       "      <td>2.0</td>\n",
       "      <td>2.0</td>\n",
       "      <td>1</td>\n",
       "    </tr>\n",
       "    <tr>\n",
       "      <th>9</th>\n",
       "      <td>200501BS00007</td>\n",
       "      <td>2.0</td>\n",
       "      <td>1.0</td>\n",
       "      <td>15.0</td>\n",
       "      <td>1.0</td>\n",
       "      <td>41.0</td>\n",
       "      <td>7.0</td>\n",
       "      <td>4266.0</td>\n",
       "      <td>1.0</td>\n",
       "      <td>4.0</td>\n",
       "      <td>...</td>\n",
       "      <td>3</td>\n",
       "      <td>1</td>\n",
       "      <td>13/01/2005</td>\n",
       "      <td>5</td>\n",
       "      <td>20:40</td>\n",
       "      <td>30</td>\n",
       "      <td>4</td>\n",
       "      <td>1.0</td>\n",
       "      <td>1.0</td>\n",
       "      <td>1</td>\n",
       "    </tr>\n",
       "    <tr>\n",
       "      <th>10</th>\n",
       "      <td>200501BS00009</td>\n",
       "      <td>1.0</td>\n",
       "      <td>1.0</td>\n",
       "      <td>15.0</td>\n",
       "      <td>1.0</td>\n",
       "      <td>68.0</td>\n",
       "      <td>10.0</td>\n",
       "      <td>5343.0</td>\n",
       "      <td>1.0</td>\n",
       "      <td>16.0</td>\n",
       "      <td>...</td>\n",
       "      <td>3</td>\n",
       "      <td>2</td>\n",
       "      <td>14/01/2005</td>\n",
       "      <td>6</td>\n",
       "      <td>17:35</td>\n",
       "      <td>30</td>\n",
       "      <td>1</td>\n",
       "      <td>1.0</td>\n",
       "      <td>1.0</td>\n",
       "      <td>1</td>\n",
       "    </tr>\n",
       "  </tbody>\n",
       "</table>\n",
       "<p>5 rows × 24 columns</p>\n",
       "</div>"
      ],
      "text/plain": [
       "   Accident_Index  1st_Point_of_Impact  Was_Vehicle_Left_Hand_Drive?  \\\n",
       "3   200501BS00003                  3.0                           1.0   \n",
       "4   200501BS00004                  1.0                           1.0   \n",
       "6   200501BS00006                  0.0                           1.0   \n",
       "9   200501BS00007                  2.0                           1.0   \n",
       "10  200501BS00009                  1.0                           1.0   \n",
       "\n",
       "    Journey_Purpose_of_Driver  Sex_of_Driver  Age_of_Driver  \\\n",
       "3                        15.0            1.0           62.0   \n",
       "4                        15.0            2.0           49.0   \n",
       "6                        15.0            1.0           51.0   \n",
       "9                        15.0            1.0           41.0   \n",
       "10                       15.0            1.0           68.0   \n",
       "\n",
       "    Age_Band_of_Driver  Engine_Capacity_(CC)  Propulsion_Code  Age_of_Vehicle  \\\n",
       "3                  9.0                1762.0              1.0             6.0   \n",
       "4                  8.0                1769.0              1.0             4.0   \n",
       "6                  8.0                2976.0              1.0             1.0   \n",
       "9                  7.0                4266.0              1.0             4.0   \n",
       "10                10.0                5343.0              1.0            16.0   \n",
       "\n",
       "    ...  Accident_Severity  Number_of_Casualties        Date  Day_of_Week  \\\n",
       "3   ...                  3                     1  06/01/2005            5   \n",
       "4   ...                  3                     1  07/01/2005            6   \n",
       "6   ...                  3                     1  11/01/2005            3   \n",
       "9   ...                  3                     1  13/01/2005            5   \n",
       "10  ...                  3                     2  14/01/2005            6   \n",
       "\n",
       "     Time  Speed_limit Light_Conditions  Weather_Conditions  \\\n",
       "3   00:15           30                4                 1.0   \n",
       "4   10:35           30                1                 1.0   \n",
       "6   12:40           30                1                 2.0   \n",
       "9   20:40           30                4                 1.0   \n",
       "10  17:35           30                1                 1.0   \n",
       "\n",
       "   Road_Surface_Conditions  Urban_or_Rural_Area  \n",
       "3                      1.0                    1  \n",
       "4                      1.0                    1  \n",
       "6                      2.0                    1  \n",
       "9                      1.0                    1  \n",
       "10                     1.0                    1  \n",
       "\n",
       "[5 rows x 24 columns]"
      ]
     },
     "execution_count": 8,
     "metadata": {},
     "output_type": "execute_result"
    }
   ],
   "source": [
    "# Only taking car, value = 9 according to tables\n",
    "df_cars = df.loc[df['Vehicle_Type'] == 9]\n",
    "df_cars.drop(columns = 'Vehicle_Type', inplace=True)\n",
    "df_cars.head()"
   ]
  },
  {
   "cell_type": "code",
   "execution_count": 9,
   "metadata": {},
   "outputs": [
    {
     "name": "stderr",
     "output_type": "stream",
     "text": [
      "C:\\Users\\Sergio\\anaconda3\\lib\\site-packages\\pandas\\core\\generic.py:6746: SettingWithCopyWarning: \n",
      "A value is trying to be set on a copy of a slice from a DataFrame\n",
      "\n",
      "See the caveats in the documentation: https://pandas.pydata.org/pandas-docs/stable/user_guide/indexing.html#returning-a-view-versus-a-copy\n",
      "  self._update_inplace(new_data)\n"
     ]
    }
   ],
   "source": [
    "# if 0 = driving from right , 1 = left driving\n",
    "df_cars['Was_Vehicle_Left_Hand_Drive?'].replace({1:0 , 2:1}, inplace=True)"
   ]
  },
  {
   "cell_type": "code",
   "execution_count": 10,
   "metadata": {},
   "outputs": [
    {
     "name": "stderr",
     "output_type": "stream",
     "text": [
      "C:\\Users\\Sergio\\anaconda3\\lib\\site-packages\\pandas\\core\\frame.py:3997: SettingWithCopyWarning: \n",
      "A value is trying to be set on a copy of a slice from a DataFrame\n",
      "\n",
      "See the caveats in the documentation: https://pandas.pydata.org/pandas-docs/stable/user_guide/indexing.html#returning-a-view-versus-a-copy\n",
      "  errors=errors,\n"
     ]
    }
   ],
   "source": [
    "# This column wouldn't bring very much info and brings complexity, and reduces generality of the model we want to build\n",
    "df_cars.drop(columns = 'Journey_Purpose_of_Driver', inplace=True)"
   ]
  },
  {
   "cell_type": "code",
   "execution_count": 11,
   "metadata": {},
   "outputs": [],
   "source": [
    "# Removing data values in this column that are set as not specified = 3\n",
    "df_cars.drop(df_cars.loc[df_cars['Sex_of_Driver']==3].index, inplace=True)"
   ]
  },
  {
   "cell_type": "code",
   "execution_count": 12,
   "metadata": {},
   "outputs": [],
   "source": [
    "# We already have a categorical clasification in Age_Band_of_Driver so removing this column Age_of_Driver\n",
    "df_cars.drop(columns = ['Age_of_Driver'], inplace=True)"
   ]
  },
  {
   "cell_type": "code",
   "execution_count": 13,
   "metadata": {},
   "outputs": [],
   "source": [
    "# This column wouldn't bring very much info and brings complexity, and reduces generality of the model we want to build\n",
    "df_cars.drop(columns = ['Propulsion_Code'], inplace=True)"
   ]
  },
  {
   "cell_type": "code",
   "execution_count": 14,
   "metadata": {},
   "outputs": [
    {
     "name": "stderr",
     "output_type": "stream",
     "text": [
      "C:\\Users\\Sergio\\anaconda3\\lib\\site-packages\\ipykernel_launcher.py:4: SettingWithCopyWarning: \n",
      "A value is trying to be set on a copy of a slice from a DataFrame.\n",
      "Try using .loc[row_indexer,col_indexer] = value instead\n",
      "\n",
      "See the caveats in the documentation: https://pandas.pydata.org/pandas-docs/stable/user_guide/indexing.html#returning-a-view-versus-a-copy\n",
      "  after removing the cwd from sys.path.\n"
     ]
    }
   ],
   "source": [
    "# A car tend to have 0-3000 cc \n",
    "df_cars.drop(df_cars.loc[df_cars['Engine_Capacity_(CC)'] > 3000].index, inplace=True)\n",
    "labels = [\"{0} - {1}\".format(i, i + 999) for i in range(0, 3000, 1000)]\n",
    "df_cars['Engine_Capacity_(CC)'] = pd.cut(df_cars['Engine_Capacity_(CC)'].values, range(0, 3005, 1000), right=False, labels=labels)\n",
    "df_cars['Engine_Capacity_(CC)'].replace({\"0 - 999\": \"1\", \"1000 - 1999\": \"2\" , \"2000 - 2999\": \"3\"}, inplace=True)"
   ]
  },
  {
   "cell_type": "code",
   "execution_count": 15,
   "metadata": {},
   "outputs": [
    {
     "name": "stdout",
     "output_type": "stream",
     "text": [
      "2    1986446\n",
      "3     217177\n",
      "1     114873\n",
      "Name: Engine_Capacity_(CC), dtype: int64\n"
     ]
    }
   ],
   "source": [
    "print(df_cars['Engine_Capacity_(CC)'].value_counts())"
   ]
  },
  {
   "cell_type": "code",
   "execution_count": 16,
   "metadata": {},
   "outputs": [],
   "source": [
    "# Keeping cars that are with an age below 30 (based on fq distribution, most data of the dataset will be conserved)\n",
    "df_cars.drop(df_cars.loc[df_cars['Age_of_Vehicle'] > 30].index, inplace=True)"
   ]
  },
  {
   "cell_type": "code",
   "execution_count": 17,
   "metadata": {},
   "outputs": [],
   "source": [
    "# if 0 there is some kind of darkness situation, if 1 daylight\n",
    "df_cars['Light_Conditions'].replace({1:1 , 4:0 , 5:0, 6:0, 7:0}, inplace=True)"
   ]
  },
  {
   "cell_type": "code",
   "execution_count": 18,
   "metadata": {},
   "outputs": [
    {
     "data": {
      "text/plain": [
       "1.0    1821288\n",
       "2.0     306402\n",
       "5.0      36015\n",
       "4.0      30399\n",
       "3.0      18162\n",
       "7.0      17341\n",
       "6.0       3583\n",
       "Name: Weather_Conditions, dtype: int64"
      ]
     },
     "execution_count": 18,
     "metadata": {},
     "output_type": "execute_result"
    }
   ],
   "source": [
    "# We keep rows that have defined values for Weather_Conditions\n",
    "df_cars.drop(df_cars.loc[df_cars['Weather_Conditions'] > 7].index, inplace=True)\n",
    "df_cars['Weather_Conditions'].value_counts()"
   ]
  },
  {
   "cell_type": "code",
   "execution_count": 19,
   "metadata": {},
   "outputs": [],
   "source": [
    "# We set new categories (simplified) => 1 = dry , 2 = wet , 3 = ice/snow related\n",
    "df_cars['Road_Surface_Conditions'].replace({1:1 , 2:2 , 3:3, 4:3, 5:2}, inplace=True)"
   ]
  },
  {
   "cell_type": "code",
   "execution_count": 20,
   "metadata": {},
   "outputs": [
    {
     "data": {
      "text/plain": [
       "1    1270822\n",
       "2     962245\n",
       "3        123\n",
       "Name: Urban_or_Rural_Area, dtype: int64"
      ]
     },
     "execution_count": 20,
     "metadata": {},
     "output_type": "execute_result"
    }
   ],
   "source": [
    "# 1 = urban, 2 = small town, 3 = rural => most of data are city => will not remove it\n",
    "df_cars['Urban_or_Rural_Area'].value_counts()"
   ]
  },
  {
   "cell_type": "code",
   "execution_count": 21,
   "metadata": {},
   "outputs": [],
   "source": [
    "# Accident ID can be drop now\n",
    "df_cars.drop(columns = 'Accident_Index', inplace=True)"
   ]
  },
  {
   "cell_type": "code",
   "execution_count": 22,
   "metadata": {},
   "outputs": [
    {
     "data": {
      "text/plain": [
       "1st_Point_of_Impact             float64\n",
       "Was_Vehicle_Left_Hand_Drive?    float64\n",
       "Sex_of_Driver                   float64\n",
       "Age_Band_of_Driver              float64\n",
       "Engine_Capacity_(CC)             object\n",
       "Age_of_Vehicle                  float64\n",
       "Casualty_Class                    int64\n",
       "Casualty_Severity                 int64\n",
       "Car_Passenger                   float64\n",
       "Casualty_Type                     int64\n",
       "Accident_Severity                 int64\n",
       "Number_of_Casualties              int64\n",
       "Date                             object\n",
       "Day_of_Week                       int64\n",
       "Time                             object\n",
       "Speed_limit                       int64\n",
       "Light_Conditions                  int64\n",
       "Weather_Conditions              float64\n",
       "Road_Surface_Conditions         float64\n",
       "Urban_or_Rural_Area               int64\n",
       "dtype: object"
      ]
     },
     "execution_count": 22,
     "metadata": {},
     "output_type": "execute_result"
    }
   ],
   "source": [
    "# We see the types of data we have and later replace data type accordingly if needed\n",
    "df_cars.dtypes"
   ]
  },
  {
   "cell_type": "code",
   "execution_count": 23,
   "metadata": {},
   "outputs": [
    {
     "name": "stderr",
     "output_type": "stream",
     "text": [
      "C:\\Users\\Sergio\\anaconda3\\lib\\site-packages\\ipykernel_launcher.py:2: SettingWithCopyWarning: \n",
      "A value is trying to be set on a copy of a slice from a DataFrame\n",
      "\n",
      "See the caveats in the documentation: https://pandas.pydata.org/pandas-docs/stable/user_guide/indexing.html#returning-a-view-versus-a-copy\n",
      "  \n"
     ]
    }
   ],
   "source": [
    "# We replace data type float for int\n",
    "df_cars.dropna(axis=0,inplace=True)\n",
    "df_cars = df_cars.astype({'1st_Point_of_Impact': int, \n",
    "                          'Was_Vehicle_Left_Hand_Drive?': int,\n",
    "                          'Sex_of_Driver': int,\n",
    "                          'Age_Band_of_Driver': int,\n",
    "                          'Age_of_Vehicle': int,\n",
    "                          'Car_Passenger': int,\n",
    "                          'Weather_Conditions': int,\n",
    "                          'Road_Surface_Conditions': int,\n",
    "                          'Engine_Capacity_(CC)': int})"
   ]
  },
  {
   "cell_type": "code",
   "execution_count": 24,
   "metadata": {},
   "outputs": [],
   "source": [
    "# Date is object, we make it datetime object in order to later extract month\n",
    "df_cars['Date']= pd.to_datetime(df_cars['Date'])\n",
    "\n",
    "# Extracting month from Date\n",
    "df_cars['Month'] = df_cars['Date'].dt.month\n",
    "\n",
    "# Droping Date now\n",
    "df_cars.drop(columns = ['Date'], inplace=True)"
   ]
  },
  {
   "cell_type": "code",
   "execution_count": 25,
   "metadata": {},
   "outputs": [],
   "source": [
    "# Arranging the order of the columns in the df_cars so that is easier to understand\n",
    "df_cars = df_cars[['Age_Band_of_Driver','Sex_of_Driver','Was_Vehicle_Left_Hand_Drive?','Engine_Capacity_(CC)',\n",
    "                   'Age_of_Vehicle','Light_Conditions','Weather_Conditions','Road_Surface_Conditions',\n",
    "                   'Urban_or_Rural_Area','Time','Day_of_Week','Month','1st_Point_of_Impact','Speed_limit','Casualty_Class','Casualty_Severity',\n",
    "                   'Car_Passenger','Casualty_Type','Number_of_Casualties','Accident_Severity']]"
   ]
  },
  {
   "cell_type": "code",
   "execution_count": 26,
   "metadata": {},
   "outputs": [],
   "source": [
    "# In case some rows would be duplicated we remove them\n",
    "df_cars = df_cars.drop_duplicates()"
   ]
  },
  {
   "cell_type": "code",
   "execution_count": 27,
   "metadata": {},
   "outputs": [
    {
     "data": {
      "text/html": [
       "<div>\n",
       "<style scoped>\n",
       "    .dataframe tbody tr th:only-of-type {\n",
       "        vertical-align: middle;\n",
       "    }\n",
       "\n",
       "    .dataframe tbody tr th {\n",
       "        vertical-align: top;\n",
       "    }\n",
       "\n",
       "    .dataframe thead th {\n",
       "        text-align: right;\n",
       "    }\n",
       "</style>\n",
       "<table border=\"1\" class=\"dataframe\">\n",
       "  <thead>\n",
       "    <tr style=\"text-align: right;\">\n",
       "      <th></th>\n",
       "      <th>Age_Band_of_Driver</th>\n",
       "      <th>Sex_of_Driver</th>\n",
       "      <th>Was_Vehicle_Left_Hand_Drive?</th>\n",
       "      <th>Engine_Capacity_(CC)</th>\n",
       "      <th>Age_of_Vehicle</th>\n",
       "      <th>Light_Conditions</th>\n",
       "      <th>Weather_Conditions</th>\n",
       "      <th>Road_Surface_Conditions</th>\n",
       "      <th>Urban_or_Rural_Area</th>\n",
       "      <th>Day_of_Week</th>\n",
       "      <th>Month</th>\n",
       "      <th>1st_Point_of_Impact</th>\n",
       "      <th>Speed_limit</th>\n",
       "      <th>Casualty_Class</th>\n",
       "      <th>Casualty_Severity</th>\n",
       "      <th>Accident_Severity</th>\n",
       "    </tr>\n",
       "  </thead>\n",
       "  <tbody>\n",
       "    <tr>\n",
       "      <th>3</th>\n",
       "      <td>9</td>\n",
       "      <td>1</td>\n",
       "      <td>0</td>\n",
       "      <td>2</td>\n",
       "      <td>6</td>\n",
       "      <td>0</td>\n",
       "      <td>1</td>\n",
       "      <td>1</td>\n",
       "      <td>1</td>\n",
       "      <td>5</td>\n",
       "      <td>6</td>\n",
       "      <td>3</td>\n",
       "      <td>30</td>\n",
       "      <td>1</td>\n",
       "      <td>3</td>\n",
       "      <td>3</td>\n",
       "    </tr>\n",
       "    <tr>\n",
       "      <th>4</th>\n",
       "      <td>8</td>\n",
       "      <td>2</td>\n",
       "      <td>0</td>\n",
       "      <td>2</td>\n",
       "      <td>4</td>\n",
       "      <td>1</td>\n",
       "      <td>1</td>\n",
       "      <td>1</td>\n",
       "      <td>1</td>\n",
       "      <td>6</td>\n",
       "      <td>7</td>\n",
       "      <td>1</td>\n",
       "      <td>30</td>\n",
       "      <td>3</td>\n",
       "      <td>3</td>\n",
       "      <td>3</td>\n",
       "    </tr>\n",
       "    <tr>\n",
       "      <th>6</th>\n",
       "      <td>8</td>\n",
       "      <td>1</td>\n",
       "      <td>0</td>\n",
       "      <td>3</td>\n",
       "      <td>1</td>\n",
       "      <td>1</td>\n",
       "      <td>2</td>\n",
       "      <td>2</td>\n",
       "      <td>1</td>\n",
       "      <td>3</td>\n",
       "      <td>11</td>\n",
       "      <td>0</td>\n",
       "      <td>30</td>\n",
       "      <td>1</td>\n",
       "      <td>3</td>\n",
       "      <td>3</td>\n",
       "    </tr>\n",
       "    <tr>\n",
       "      <th>11</th>\n",
       "      <td>6</td>\n",
       "      <td>1</td>\n",
       "      <td>0</td>\n",
       "      <td>2</td>\n",
       "      <td>13</td>\n",
       "      <td>0</td>\n",
       "      <td>1</td>\n",
       "      <td>1</td>\n",
       "      <td>1</td>\n",
       "      <td>7</td>\n",
       "      <td>1</td>\n",
       "      <td>2</td>\n",
       "      <td>30</td>\n",
       "      <td>1</td>\n",
       "      <td>3</td>\n",
       "      <td>3</td>\n",
       "    </tr>\n",
       "    <tr>\n",
       "      <th>15</th>\n",
       "      <td>6</td>\n",
       "      <td>1</td>\n",
       "      <td>0</td>\n",
       "      <td>2</td>\n",
       "      <td>6</td>\n",
       "      <td>0</td>\n",
       "      <td>1</td>\n",
       "      <td>1</td>\n",
       "      <td>1</td>\n",
       "      <td>1</td>\n",
       "      <td>1</td>\n",
       "      <td>1</td>\n",
       "      <td>30</td>\n",
       "      <td>3</td>\n",
       "      <td>3</td>\n",
       "      <td>3</td>\n",
       "    </tr>\n",
       "  </tbody>\n",
       "</table>\n",
       "</div>"
      ],
      "text/plain": [
       "    Age_Band_of_Driver  Sex_of_Driver  Was_Vehicle_Left_Hand_Drive?  \\\n",
       "3                    9              1                             0   \n",
       "4                    8              2                             0   \n",
       "6                    8              1                             0   \n",
       "11                   6              1                             0   \n",
       "15                   6              1                             0   \n",
       "\n",
       "    Engine_Capacity_(CC)  Age_of_Vehicle  Light_Conditions  \\\n",
       "3                      2               6                 0   \n",
       "4                      2               4                 1   \n",
       "6                      3               1                 1   \n",
       "11                     2              13                 0   \n",
       "15                     2               6                 0   \n",
       "\n",
       "    Weather_Conditions  Road_Surface_Conditions  Urban_or_Rural_Area  \\\n",
       "3                    1                        1                    1   \n",
       "4                    1                        1                    1   \n",
       "6                    2                        2                    1   \n",
       "11                   1                        1                    1   \n",
       "15                   1                        1                    1   \n",
       "\n",
       "    Day_of_Week  Month  1st_Point_of_Impact  Speed_limit  Casualty_Class  \\\n",
       "3             5      6                    3           30               1   \n",
       "4             6      7                    1           30               3   \n",
       "6             3     11                    0           30               1   \n",
       "11            7      1                    2           30               1   \n",
       "15            1      1                    1           30               3   \n",
       "\n",
       "    Casualty_Severity  Accident_Severity  \n",
       "3                   3                  3  \n",
       "4                   3                  3  \n",
       "6                   3                  3  \n",
       "11                  3                  3  \n",
       "15                  3                  3  "
      ]
     },
     "execution_count": 27,
     "metadata": {},
     "output_type": "execute_result"
    }
   ],
   "source": [
    "# Casualty_Type, Number_of_Casualties, Car_Passenger => after further analysis those columns seem to contain redundant or not very relevant information\n",
    "df_cars.drop(columns = ['Casualty_Type','Number_of_Casualties','Car_Passenger','Time'], inplace=True)\n",
    "df_cars.head()"
   ]
  },
  {
   "cell_type": "code",
   "execution_count": 28,
   "metadata": {},
   "outputs": [
    {
     "name": "stdout",
     "output_type": "stream",
     "text": [
      "False\n"
     ]
    }
   ],
   "source": [
    "# Accident_Severity and Casualty_Severity should be equal, checking to see if we can remove one of the columns\n",
    "print(df_cars['Accident_Severity'].equals(df_cars['Casualty_Severity']))"
   ]
  },
  {
   "cell_type": "code",
   "execution_count": 29,
   "metadata": {},
   "outputs": [
    {
     "name": "stdout",
     "output_type": "stream",
     "text": [
      "3    2412615\n",
      "2     404590\n",
      "1      59658\n",
      "Name: Accident_Severity, dtype: int64\n"
     ]
    }
   ],
   "source": [
    "# Accident_Severity and Casualty_Severity are not equal according to analysis, therefore need to remove those rows do not have equal values for those columns\n",
    "df_cars.drop(df_cars.index[df_cars['Accident_Severity'] != df_cars['Casualty_Severity']], inplace = True)\n",
    "df_cars.drop(columns = ['Casualty_Severity'], inplace=True)\n",
    "print(df['Accident_Severity'].value_counts())"
   ]
  },
  {
   "cell_type": "code",
   "execution_count": 30,
   "metadata": {},
   "outputs": [
    {
     "data": {
      "text/html": [
       "<div>\n",
       "<style scoped>\n",
       "    .dataframe tbody tr th:only-of-type {\n",
       "        vertical-align: middle;\n",
       "    }\n",
       "\n",
       "    .dataframe tbody tr th {\n",
       "        vertical-align: top;\n",
       "    }\n",
       "\n",
       "    .dataframe thead th {\n",
       "        text-align: right;\n",
       "    }\n",
       "</style>\n",
       "<table border=\"1\" class=\"dataframe\">\n",
       "  <thead>\n",
       "    <tr style=\"text-align: right;\">\n",
       "      <th></th>\n",
       "      <th>Age_Band_of_Driver</th>\n",
       "      <th>Sex_of_Driver</th>\n",
       "      <th>Was_Vehicle_Left_Hand_Drive?</th>\n",
       "      <th>Engine_Capacity_(CC)</th>\n",
       "      <th>Age_of_Vehicle</th>\n",
       "      <th>Light_Conditions</th>\n",
       "      <th>Weather_Conditions</th>\n",
       "      <th>Road_Surface_Conditions</th>\n",
       "      <th>Urban_or_Rural_Area</th>\n",
       "      <th>Day_of_Week</th>\n",
       "      <th>Month</th>\n",
       "      <th>1st_Point_of_Impact</th>\n",
       "      <th>Speed_limit</th>\n",
       "      <th>Casualty_Class</th>\n",
       "      <th>Accident_Severity</th>\n",
       "    </tr>\n",
       "  </thead>\n",
       "  <tbody>\n",
       "    <tr>\n",
       "      <th>0</th>\n",
       "      <td>9</td>\n",
       "      <td>1</td>\n",
       "      <td>0</td>\n",
       "      <td>2</td>\n",
       "      <td>6</td>\n",
       "      <td>0</td>\n",
       "      <td>1</td>\n",
       "      <td>1</td>\n",
       "      <td>1</td>\n",
       "      <td>5</td>\n",
       "      <td>6</td>\n",
       "      <td>3</td>\n",
       "      <td>30</td>\n",
       "      <td>1</td>\n",
       "      <td>3</td>\n",
       "    </tr>\n",
       "    <tr>\n",
       "      <th>1</th>\n",
       "      <td>8</td>\n",
       "      <td>2</td>\n",
       "      <td>0</td>\n",
       "      <td>2</td>\n",
       "      <td>4</td>\n",
       "      <td>1</td>\n",
       "      <td>1</td>\n",
       "      <td>1</td>\n",
       "      <td>1</td>\n",
       "      <td>6</td>\n",
       "      <td>7</td>\n",
       "      <td>1</td>\n",
       "      <td>30</td>\n",
       "      <td>3</td>\n",
       "      <td>3</td>\n",
       "    </tr>\n",
       "    <tr>\n",
       "      <th>2</th>\n",
       "      <td>8</td>\n",
       "      <td>1</td>\n",
       "      <td>0</td>\n",
       "      <td>3</td>\n",
       "      <td>1</td>\n",
       "      <td>1</td>\n",
       "      <td>2</td>\n",
       "      <td>2</td>\n",
       "      <td>1</td>\n",
       "      <td>3</td>\n",
       "      <td>11</td>\n",
       "      <td>0</td>\n",
       "      <td>30</td>\n",
       "      <td>1</td>\n",
       "      <td>3</td>\n",
       "    </tr>\n",
       "    <tr>\n",
       "      <th>3</th>\n",
       "      <td>6</td>\n",
       "      <td>1</td>\n",
       "      <td>0</td>\n",
       "      <td>2</td>\n",
       "      <td>13</td>\n",
       "      <td>0</td>\n",
       "      <td>1</td>\n",
       "      <td>1</td>\n",
       "      <td>1</td>\n",
       "      <td>7</td>\n",
       "      <td>1</td>\n",
       "      <td>2</td>\n",
       "      <td>30</td>\n",
       "      <td>1</td>\n",
       "      <td>3</td>\n",
       "    </tr>\n",
       "    <tr>\n",
       "      <th>4</th>\n",
       "      <td>6</td>\n",
       "      <td>1</td>\n",
       "      <td>0</td>\n",
       "      <td>2</td>\n",
       "      <td>6</td>\n",
       "      <td>0</td>\n",
       "      <td>1</td>\n",
       "      <td>1</td>\n",
       "      <td>1</td>\n",
       "      <td>1</td>\n",
       "      <td>1</td>\n",
       "      <td>1</td>\n",
       "      <td>30</td>\n",
       "      <td>3</td>\n",
       "      <td>3</td>\n",
       "    </tr>\n",
       "  </tbody>\n",
       "</table>\n",
       "</div>"
      ],
      "text/plain": [
       "   Age_Band_of_Driver  Sex_of_Driver  Was_Vehicle_Left_Hand_Drive?  \\\n",
       "0                   9              1                             0   \n",
       "1                   8              2                             0   \n",
       "2                   8              1                             0   \n",
       "3                   6              1                             0   \n",
       "4                   6              1                             0   \n",
       "\n",
       "   Engine_Capacity_(CC)  Age_of_Vehicle  Light_Conditions  Weather_Conditions  \\\n",
       "0                     2               6                 0                   1   \n",
       "1                     2               4                 1                   1   \n",
       "2                     3               1                 1                   2   \n",
       "3                     2              13                 0                   1   \n",
       "4                     2               6                 0                   1   \n",
       "\n",
       "   Road_Surface_Conditions  Urban_or_Rural_Area  Day_of_Week  Month  \\\n",
       "0                        1                    1            5      6   \n",
       "1                        1                    1            6      7   \n",
       "2                        2                    1            3     11   \n",
       "3                        1                    1            7      1   \n",
       "4                        1                    1            1      1   \n",
       "\n",
       "   1st_Point_of_Impact  Speed_limit  Casualty_Class  Accident_Severity  \n",
       "0                    3           30               1                  3  \n",
       "1                    1           30               3                  3  \n",
       "2                    0           30               1                  3  \n",
       "3                    2           30               1                  3  \n",
       "4                    1           30               3                  3  "
      ]
     },
     "execution_count": 30,
     "metadata": {},
     "output_type": "execute_result"
    }
   ],
   "source": [
    "# Reseting indexes and visualizing final df_cars\n",
    "df_cars.reset_index(drop=True).head()"
   ]
  },
  {
   "cell_type": "code",
   "execution_count": 31,
   "metadata": {},
   "outputs": [
    {
     "data": {
      "text/plain": [
       "(1739737, 15)"
      ]
     },
     "execution_count": 31,
     "metadata": {},
     "output_type": "execute_result"
    }
   ],
   "source": [
    "# Checking nº rowns/columns conserved\n",
    "df_cars.shape"
   ]
  },
  {
   "cell_type": "code",
   "execution_count": 32,
   "metadata": {},
   "outputs": [
    {
     "name": "stdout",
     "output_type": "stream",
     "text": [
      "(1739737, 13)\n"
     ]
    }
   ],
   "source": [
    "# We drop some more columns and check shape of the df_cars\n",
    "df_cars.drop(columns = ['Was_Vehicle_Left_Hand_Drive?','Casualty_Class'], inplace=True)\n",
    "\n",
    "print(df_cars.shape)\n",
    "\n",
    "# We save the final dataset cars.csv\n",
    "df_cars.to_csv('cars.csv',index=False)"
   ]
  },
  {
   "cell_type": "markdown",
   "metadata": {},
   "source": [
    "### 2. Data Analysis"
   ]
  },
  {
   "cell_type": "code",
   "execution_count": 33,
   "metadata": {},
   "outputs": [
    {
     "data": {
      "text/html": [
       "<div>\n",
       "<style scoped>\n",
       "    .dataframe tbody tr th:only-of-type {\n",
       "        vertical-align: middle;\n",
       "    }\n",
       "\n",
       "    .dataframe tbody tr th {\n",
       "        vertical-align: top;\n",
       "    }\n",
       "\n",
       "    .dataframe thead th {\n",
       "        text-align: right;\n",
       "    }\n",
       "</style>\n",
       "<table border=\"1\" class=\"dataframe\">\n",
       "  <thead>\n",
       "    <tr style=\"text-align: right;\">\n",
       "      <th></th>\n",
       "      <th>Age_Band_of_Driver</th>\n",
       "      <th>Sex_of_Driver</th>\n",
       "      <th>Engine_Capacity_(CC)</th>\n",
       "      <th>Age_of_Vehicle</th>\n",
       "      <th>Light_Conditions</th>\n",
       "      <th>Weather_Conditions</th>\n",
       "      <th>Road_Surface_Conditions</th>\n",
       "      <th>Urban_or_Rural_Area</th>\n",
       "      <th>Day_of_Week</th>\n",
       "      <th>Month</th>\n",
       "      <th>1st_Point_of_Impact</th>\n",
       "      <th>Speed_limit</th>\n",
       "      <th>Accident_Severity</th>\n",
       "    </tr>\n",
       "  </thead>\n",
       "  <tbody>\n",
       "    <tr>\n",
       "      <th>0</th>\n",
       "      <td>9</td>\n",
       "      <td>1</td>\n",
       "      <td>2</td>\n",
       "      <td>6</td>\n",
       "      <td>0</td>\n",
       "      <td>1</td>\n",
       "      <td>1</td>\n",
       "      <td>1</td>\n",
       "      <td>5</td>\n",
       "      <td>6</td>\n",
       "      <td>3</td>\n",
       "      <td>30</td>\n",
       "      <td>3</td>\n",
       "    </tr>\n",
       "    <tr>\n",
       "      <th>1</th>\n",
       "      <td>8</td>\n",
       "      <td>2</td>\n",
       "      <td>2</td>\n",
       "      <td>4</td>\n",
       "      <td>1</td>\n",
       "      <td>1</td>\n",
       "      <td>1</td>\n",
       "      <td>1</td>\n",
       "      <td>6</td>\n",
       "      <td>7</td>\n",
       "      <td>1</td>\n",
       "      <td>30</td>\n",
       "      <td>3</td>\n",
       "    </tr>\n",
       "    <tr>\n",
       "      <th>2</th>\n",
       "      <td>8</td>\n",
       "      <td>1</td>\n",
       "      <td>3</td>\n",
       "      <td>1</td>\n",
       "      <td>1</td>\n",
       "      <td>2</td>\n",
       "      <td>2</td>\n",
       "      <td>1</td>\n",
       "      <td>3</td>\n",
       "      <td>11</td>\n",
       "      <td>0</td>\n",
       "      <td>30</td>\n",
       "      <td>3</td>\n",
       "    </tr>\n",
       "    <tr>\n",
       "      <th>3</th>\n",
       "      <td>6</td>\n",
       "      <td>1</td>\n",
       "      <td>2</td>\n",
       "      <td>13</td>\n",
       "      <td>0</td>\n",
       "      <td>1</td>\n",
       "      <td>1</td>\n",
       "      <td>1</td>\n",
       "      <td>7</td>\n",
       "      <td>1</td>\n",
       "      <td>2</td>\n",
       "      <td>30</td>\n",
       "      <td>3</td>\n",
       "    </tr>\n",
       "    <tr>\n",
       "      <th>4</th>\n",
       "      <td>6</td>\n",
       "      <td>1</td>\n",
       "      <td>2</td>\n",
       "      <td>6</td>\n",
       "      <td>0</td>\n",
       "      <td>1</td>\n",
       "      <td>1</td>\n",
       "      <td>1</td>\n",
       "      <td>1</td>\n",
       "      <td>1</td>\n",
       "      <td>1</td>\n",
       "      <td>30</td>\n",
       "      <td>3</td>\n",
       "    </tr>\n",
       "  </tbody>\n",
       "</table>\n",
       "</div>"
      ],
      "text/plain": [
       "   Age_Band_of_Driver  Sex_of_Driver  Engine_Capacity_(CC)  Age_of_Vehicle  \\\n",
       "0                   9              1                     2               6   \n",
       "1                   8              2                     2               4   \n",
       "2                   8              1                     3               1   \n",
       "3                   6              1                     2              13   \n",
       "4                   6              1                     2               6   \n",
       "\n",
       "   Light_Conditions  Weather_Conditions  Road_Surface_Conditions  \\\n",
       "0                 0                   1                        1   \n",
       "1                 1                   1                        1   \n",
       "2                 1                   2                        2   \n",
       "3                 0                   1                        1   \n",
       "4                 0                   1                        1   \n",
       "\n",
       "   Urban_or_Rural_Area  Day_of_Week  Month  1st_Point_of_Impact  Speed_limit  \\\n",
       "0                    1            5      6                    3           30   \n",
       "1                    1            6      7                    1           30   \n",
       "2                    1            3     11                    0           30   \n",
       "3                    1            7      1                    2           30   \n",
       "4                    1            1      1                    1           30   \n",
       "\n",
       "   Accident_Severity  \n",
       "0                  3  \n",
       "1                  3  \n",
       "2                  3  \n",
       "3                  3  \n",
       "4                  3  "
      ]
     },
     "execution_count": 33,
     "metadata": {},
     "output_type": "execute_result"
    }
   ],
   "source": [
    "# Visualizing the final df_cars\n",
    "df_cars = pd.read_csv('cars.csv')\n",
    "df_cars.head()"
   ]
  },
  {
   "cell_type": "code",
   "execution_count": 34,
   "metadata": {},
   "outputs": [
    {
     "data": {
      "text/html": [
       "<div>\n",
       "<style scoped>\n",
       "    .dataframe tbody tr th:only-of-type {\n",
       "        vertical-align: middle;\n",
       "    }\n",
       "\n",
       "    .dataframe tbody tr th {\n",
       "        vertical-align: top;\n",
       "    }\n",
       "\n",
       "    .dataframe thead th {\n",
       "        text-align: right;\n",
       "    }\n",
       "</style>\n",
       "<table border=\"1\" class=\"dataframe\">\n",
       "  <thead>\n",
       "    <tr style=\"text-align: right;\">\n",
       "      <th></th>\n",
       "      <th>Age_Band_of_Driver</th>\n",
       "      <th>Sex_of_Driver</th>\n",
       "      <th>Engine_Capacity_(CC)</th>\n",
       "      <th>Age_of_Vehicle</th>\n",
       "      <th>Light_Conditions</th>\n",
       "      <th>Weather_Conditions</th>\n",
       "      <th>Road_Surface_Conditions</th>\n",
       "      <th>Urban_or_Rural_Area</th>\n",
       "      <th>Day_of_Week</th>\n",
       "      <th>Month</th>\n",
       "      <th>1st_Point_of_Impact</th>\n",
       "      <th>Speed_limit</th>\n",
       "      <th>Accident_Severity</th>\n",
       "    </tr>\n",
       "  </thead>\n",
       "  <tbody>\n",
       "    <tr>\n",
       "      <th>Age_Band_of_Driver</th>\n",
       "      <td>1.000000</td>\n",
       "      <td>-0.029886</td>\n",
       "      <td>0.094901</td>\n",
       "      <td>-0.082616</td>\n",
       "      <td>0.134417</td>\n",
       "      <td>-0.023566</td>\n",
       "      <td>-0.049667</td>\n",
       "      <td>0.012485</td>\n",
       "      <td>0.001369</td>\n",
       "      <td>0.005146</td>\n",
       "      <td>0.030895</td>\n",
       "      <td>-0.008498</td>\n",
       "      <td>-0.027291</td>\n",
       "    </tr>\n",
       "    <tr>\n",
       "      <th>Sex_of_Driver</th>\n",
       "      <td>-0.029886</td>\n",
       "      <td>1.000000</td>\n",
       "      <td>-0.113215</td>\n",
       "      <td>-0.068296</td>\n",
       "      <td>0.094398</td>\n",
       "      <td>-0.002108</td>\n",
       "      <td>-0.001621</td>\n",
       "      <td>-0.011080</td>\n",
       "      <td>-0.000699</td>\n",
       "      <td>-0.000955</td>\n",
       "      <td>0.026440</td>\n",
       "      <td>-0.026697</td>\n",
       "      <td>0.034634</td>\n",
       "    </tr>\n",
       "    <tr>\n",
       "      <th>Engine_Capacity_(CC)</th>\n",
       "      <td>0.094901</td>\n",
       "      <td>-0.113215</td>\n",
       "      <td>1.000000</td>\n",
       "      <td>-0.017734</td>\n",
       "      <td>0.005861</td>\n",
       "      <td>-0.002923</td>\n",
       "      <td>-0.008668</td>\n",
       "      <td>0.032434</td>\n",
       "      <td>0.001513</td>\n",
       "      <td>0.000067</td>\n",
       "      <td>0.001683</td>\n",
       "      <td>0.034532</td>\n",
       "      <td>-0.012945</td>\n",
       "    </tr>\n",
       "    <tr>\n",
       "      <th>Age_of_Vehicle</th>\n",
       "      <td>-0.082616</td>\n",
       "      <td>-0.068296</td>\n",
       "      <td>-0.017734</td>\n",
       "      <td>1.000000</td>\n",
       "      <td>-0.033453</td>\n",
       "      <td>0.004195</td>\n",
       "      <td>0.016332</td>\n",
       "      <td>-0.016006</td>\n",
       "      <td>-0.000700</td>\n",
       "      <td>-0.005513</td>\n",
       "      <td>-0.030437</td>\n",
       "      <td>-0.039183</td>\n",
       "      <td>-0.011220</td>\n",
       "    </tr>\n",
       "    <tr>\n",
       "      <th>Light_Conditions</th>\n",
       "      <td>0.134417</td>\n",
       "      <td>0.094398</td>\n",
       "      <td>0.005861</td>\n",
       "      <td>-0.033453</td>\n",
       "      <td>1.000000</td>\n",
       "      <td>-0.117886</td>\n",
       "      <td>-0.189560</td>\n",
       "      <td>0.020060</td>\n",
       "      <td>-0.007927</td>\n",
       "      <td>-0.049415</td>\n",
       "      <td>0.017987</td>\n",
       "      <td>-0.006574</td>\n",
       "      <td>0.043947</td>\n",
       "    </tr>\n",
       "    <tr>\n",
       "      <th>Weather_Conditions</th>\n",
       "      <td>-0.023566</td>\n",
       "      <td>-0.002108</td>\n",
       "      <td>-0.002923</td>\n",
       "      <td>0.004195</td>\n",
       "      <td>-0.117886</td>\n",
       "      <td>1.000000</td>\n",
       "      <td>0.434497</td>\n",
       "      <td>0.065209</td>\n",
       "      <td>-0.001900</td>\n",
       "      <td>0.032006</td>\n",
       "      <td>-0.021132</td>\n",
       "      <td>0.073224</td>\n",
       "      <td>0.008131</td>\n",
       "    </tr>\n",
       "    <tr>\n",
       "      <th>Road_Surface_Conditions</th>\n",
       "      <td>-0.049667</td>\n",
       "      <td>-0.001621</td>\n",
       "      <td>-0.008668</td>\n",
       "      <td>0.016332</td>\n",
       "      <td>-0.189560</td>\n",
       "      <td>0.434497</td>\n",
       "      <td>1.000000</td>\n",
       "      <td>0.098693</td>\n",
       "      <td>-0.006596</td>\n",
       "      <td>0.059840</td>\n",
       "      <td>-0.039249</td>\n",
       "      <td>0.094831</td>\n",
       "      <td>0.010457</td>\n",
       "    </tr>\n",
       "    <tr>\n",
       "      <th>Urban_or_Rural_Area</th>\n",
       "      <td>0.012485</td>\n",
       "      <td>-0.011080</td>\n",
       "      <td>0.032434</td>\n",
       "      <td>-0.016006</td>\n",
       "      <td>0.020060</td>\n",
       "      <td>0.065209</td>\n",
       "      <td>0.098693</td>\n",
       "      <td>1.000000</td>\n",
       "      <td>-0.010765</td>\n",
       "      <td>0.005553</td>\n",
       "      <td>-0.056088</td>\n",
       "      <td>0.671885</td>\n",
       "      <td>-0.023100</td>\n",
       "    </tr>\n",
       "    <tr>\n",
       "      <th>Day_of_Week</th>\n",
       "      <td>0.001369</td>\n",
       "      <td>-0.000699</td>\n",
       "      <td>0.001513</td>\n",
       "      <td>-0.000700</td>\n",
       "      <td>-0.007927</td>\n",
       "      <td>-0.001900</td>\n",
       "      <td>-0.006596</td>\n",
       "      <td>-0.010765</td>\n",
       "      <td>1.000000</td>\n",
       "      <td>-0.000164</td>\n",
       "      <td>-0.000439</td>\n",
       "      <td>-0.008686</td>\n",
       "      <td>0.001660</td>\n",
       "    </tr>\n",
       "    <tr>\n",
       "      <th>Month</th>\n",
       "      <td>0.005146</td>\n",
       "      <td>-0.000955</td>\n",
       "      <td>0.000067</td>\n",
       "      <td>-0.005513</td>\n",
       "      <td>-0.049415</td>\n",
       "      <td>0.032006</td>\n",
       "      <td>0.059840</td>\n",
       "      <td>0.005553</td>\n",
       "      <td>-0.000164</td>\n",
       "      <td>1.000000</td>\n",
       "      <td>-0.003530</td>\n",
       "      <td>0.007643</td>\n",
       "      <td>-0.001936</td>\n",
       "    </tr>\n",
       "    <tr>\n",
       "      <th>1st_Point_of_Impact</th>\n",
       "      <td>0.030895</td>\n",
       "      <td>0.026440</td>\n",
       "      <td>0.001683</td>\n",
       "      <td>-0.030437</td>\n",
       "      <td>0.017987</td>\n",
       "      <td>-0.021132</td>\n",
       "      <td>-0.039249</td>\n",
       "      <td>-0.056088</td>\n",
       "      <td>-0.000439</td>\n",
       "      <td>-0.003530</td>\n",
       "      <td>1.000000</td>\n",
       "      <td>-0.046608</td>\n",
       "      <td>0.000192</td>\n",
       "    </tr>\n",
       "    <tr>\n",
       "      <th>Speed_limit</th>\n",
       "      <td>-0.008498</td>\n",
       "      <td>-0.026697</td>\n",
       "      <td>0.034532</td>\n",
       "      <td>-0.039183</td>\n",
       "      <td>-0.006574</td>\n",
       "      <td>0.073224</td>\n",
       "      <td>0.094831</td>\n",
       "      <td>0.671885</td>\n",
       "      <td>-0.008686</td>\n",
       "      <td>0.007643</td>\n",
       "      <td>-0.046608</td>\n",
       "      <td>1.000000</td>\n",
       "      <td>-0.010804</td>\n",
       "    </tr>\n",
       "    <tr>\n",
       "      <th>Accident_Severity</th>\n",
       "      <td>-0.027291</td>\n",
       "      <td>0.034634</td>\n",
       "      <td>-0.012945</td>\n",
       "      <td>-0.011220</td>\n",
       "      <td>0.043947</td>\n",
       "      <td>0.008131</td>\n",
       "      <td>0.010457</td>\n",
       "      <td>-0.023100</td>\n",
       "      <td>0.001660</td>\n",
       "      <td>-0.001936</td>\n",
       "      <td>0.000192</td>\n",
       "      <td>-0.010804</td>\n",
       "      <td>1.000000</td>\n",
       "    </tr>\n",
       "  </tbody>\n",
       "</table>\n",
       "</div>"
      ],
      "text/plain": [
       "                         Age_Band_of_Driver  Sex_of_Driver  \\\n",
       "Age_Band_of_Driver                 1.000000      -0.029886   \n",
       "Sex_of_Driver                     -0.029886       1.000000   \n",
       "Engine_Capacity_(CC)               0.094901      -0.113215   \n",
       "Age_of_Vehicle                    -0.082616      -0.068296   \n",
       "Light_Conditions                   0.134417       0.094398   \n",
       "Weather_Conditions                -0.023566      -0.002108   \n",
       "Road_Surface_Conditions           -0.049667      -0.001621   \n",
       "Urban_or_Rural_Area                0.012485      -0.011080   \n",
       "Day_of_Week                        0.001369      -0.000699   \n",
       "Month                              0.005146      -0.000955   \n",
       "1st_Point_of_Impact                0.030895       0.026440   \n",
       "Speed_limit                       -0.008498      -0.026697   \n",
       "Accident_Severity                 -0.027291       0.034634   \n",
       "\n",
       "                         Engine_Capacity_(CC)  Age_of_Vehicle  \\\n",
       "Age_Band_of_Driver                   0.094901       -0.082616   \n",
       "Sex_of_Driver                       -0.113215       -0.068296   \n",
       "Engine_Capacity_(CC)                 1.000000       -0.017734   \n",
       "Age_of_Vehicle                      -0.017734        1.000000   \n",
       "Light_Conditions                     0.005861       -0.033453   \n",
       "Weather_Conditions                  -0.002923        0.004195   \n",
       "Road_Surface_Conditions             -0.008668        0.016332   \n",
       "Urban_or_Rural_Area                  0.032434       -0.016006   \n",
       "Day_of_Week                          0.001513       -0.000700   \n",
       "Month                                0.000067       -0.005513   \n",
       "1st_Point_of_Impact                  0.001683       -0.030437   \n",
       "Speed_limit                          0.034532       -0.039183   \n",
       "Accident_Severity                   -0.012945       -0.011220   \n",
       "\n",
       "                         Light_Conditions  Weather_Conditions  \\\n",
       "Age_Band_of_Driver               0.134417           -0.023566   \n",
       "Sex_of_Driver                    0.094398           -0.002108   \n",
       "Engine_Capacity_(CC)             0.005861           -0.002923   \n",
       "Age_of_Vehicle                  -0.033453            0.004195   \n",
       "Light_Conditions                 1.000000           -0.117886   \n",
       "Weather_Conditions              -0.117886            1.000000   \n",
       "Road_Surface_Conditions         -0.189560            0.434497   \n",
       "Urban_or_Rural_Area              0.020060            0.065209   \n",
       "Day_of_Week                     -0.007927           -0.001900   \n",
       "Month                           -0.049415            0.032006   \n",
       "1st_Point_of_Impact              0.017987           -0.021132   \n",
       "Speed_limit                     -0.006574            0.073224   \n",
       "Accident_Severity                0.043947            0.008131   \n",
       "\n",
       "                         Road_Surface_Conditions  Urban_or_Rural_Area  \\\n",
       "Age_Band_of_Driver                     -0.049667             0.012485   \n",
       "Sex_of_Driver                          -0.001621            -0.011080   \n",
       "Engine_Capacity_(CC)                   -0.008668             0.032434   \n",
       "Age_of_Vehicle                          0.016332            -0.016006   \n",
       "Light_Conditions                       -0.189560             0.020060   \n",
       "Weather_Conditions                      0.434497             0.065209   \n",
       "Road_Surface_Conditions                 1.000000             0.098693   \n",
       "Urban_or_Rural_Area                     0.098693             1.000000   \n",
       "Day_of_Week                            -0.006596            -0.010765   \n",
       "Month                                   0.059840             0.005553   \n",
       "1st_Point_of_Impact                    -0.039249            -0.056088   \n",
       "Speed_limit                             0.094831             0.671885   \n",
       "Accident_Severity                       0.010457            -0.023100   \n",
       "\n",
       "                         Day_of_Week     Month  1st_Point_of_Impact  \\\n",
       "Age_Band_of_Driver          0.001369  0.005146             0.030895   \n",
       "Sex_of_Driver              -0.000699 -0.000955             0.026440   \n",
       "Engine_Capacity_(CC)        0.001513  0.000067             0.001683   \n",
       "Age_of_Vehicle             -0.000700 -0.005513            -0.030437   \n",
       "Light_Conditions           -0.007927 -0.049415             0.017987   \n",
       "Weather_Conditions         -0.001900  0.032006            -0.021132   \n",
       "Road_Surface_Conditions    -0.006596  0.059840            -0.039249   \n",
       "Urban_or_Rural_Area        -0.010765  0.005553            -0.056088   \n",
       "Day_of_Week                 1.000000 -0.000164            -0.000439   \n",
       "Month                      -0.000164  1.000000            -0.003530   \n",
       "1st_Point_of_Impact        -0.000439 -0.003530             1.000000   \n",
       "Speed_limit                -0.008686  0.007643            -0.046608   \n",
       "Accident_Severity           0.001660 -0.001936             0.000192   \n",
       "\n",
       "                         Speed_limit  Accident_Severity  \n",
       "Age_Band_of_Driver         -0.008498          -0.027291  \n",
       "Sex_of_Driver              -0.026697           0.034634  \n",
       "Engine_Capacity_(CC)        0.034532          -0.012945  \n",
       "Age_of_Vehicle             -0.039183          -0.011220  \n",
       "Light_Conditions           -0.006574           0.043947  \n",
       "Weather_Conditions          0.073224           0.008131  \n",
       "Road_Surface_Conditions     0.094831           0.010457  \n",
       "Urban_or_Rural_Area         0.671885          -0.023100  \n",
       "Day_of_Week                -0.008686           0.001660  \n",
       "Month                       0.007643          -0.001936  \n",
       "1st_Point_of_Impact        -0.046608           0.000192  \n",
       "Speed_limit                 1.000000          -0.010804  \n",
       "Accident_Severity          -0.010804           1.000000  "
      ]
     },
     "execution_count": 34,
     "metadata": {},
     "output_type": "execute_result"
    }
   ],
   "source": [
    "# We prove that the variables conserved have an interesting correlation with the outcome of the accident = severity\n",
    "# Note that Age_Band_of_Driver and Age_of_vehicle have a significant negative correlation with Accident_Severity\n",
    "# Note also that Sex_of_Driver and Light_Conditions have a significant positive impact in the Accident_Severity\n",
    "df_cars.corr()"
   ]
  },
  {
   "cell_type": "markdown",
   "metadata": {},
   "source": [
    "We need now to analyze the selected variables vs Accident_Severity to decide thresholding and improve categorization of the data"
   ]
  },
  {
   "cell_type": "markdown",
   "metadata": {},
   "source": [
    "#### 2.0. Accdent_Severity"
   ]
  },
  {
   "cell_type": "code",
   "execution_count": 35,
   "metadata": {},
   "outputs": [],
   "source": [
    "# We change arrange the values of Accident_Severity column so that a multiclass model can be built next\n",
    "df_cars['Accident_Severity'].replace({1:0 , 2:1 , 3:2}, inplace=True)"
   ]
  },
  {
   "cell_type": "markdown",
   "metadata": {},
   "source": [
    "#### 2.1. Age_Band_of_Driver"
   ]
  },
  {
   "cell_type": "code",
   "execution_count": 45,
   "metadata": {},
   "outputs": [],
   "source": [
    "x = df_cars['Accident_Severity'].values\n",
    "y = df_cars['Age_Band_of_Driver'].values"
   ]
  },
  {
   "cell_type": "code",
   "execution_count": 46,
   "metadata": {},
   "outputs": [
    {
     "data": {
      "text/plain": [
       "(array([3.00000e+00, 1.00000e+01, 4.19000e+02, 2.02977e+05, 2.41859e+05,\n",
       "        3.95781e+05, 3.54616e+05, 2.51758e+05, 1.54489e+05, 1.37825e+05]),\n",
       " array([ 1.,  2.,  3.,  4.,  5.,  6.,  7.,  8.,  9., 10., 11.]),\n",
       " <a list of 10 Patch objects>)"
      ]
     },
     "execution_count": 46,
     "metadata": {},
     "output_type": "execute_result"
    },
    {
     "data": {
      "image/png": "[encoded data removed]",
      "text/plain": [
       "<Figure size 432x288 with 1 Axes>"
      ]
     },
     "metadata": {
      "needs_background": "light"
     },
     "output_type": "display_data"
    }
   ],
   "source": [
    "#plt.subplot(121)\n",
    "plt.hist(df_cars['Age_Band_of_Driver'])"
   ]
  },
  {
   "cell_type": "code",
   "execution_count": 48,
   "metadata": {},
   "outputs": [
    {
     "data": {
      "text/plain": [
       "<matplotlib.axes._subplots.AxesSubplot at 0x1153008b948>"
      ]
     },
     "execution_count": 48,
     "metadata": {},
     "output_type": "execute_result"
    },
    {
     "data": {
      "image/png": "[encoded data removed]",
      "text/plain": [
       "<Figure size 432x288 with 1 Axes>"
      ]
     },
     "metadata": {
      "needs_background": "light"
     },
     "output_type": "display_data"
    }
   ],
   "source": [
    "sns.boxplot(x=x, y=y)"
   ]
  },
  {
   "cell_type": "code",
   "execution_count": 50,
   "metadata": {},
   "outputs": [],
   "source": [
    "df_cars['Age_Band_of_Driver'].replace({4:0 , 5:0 , 6:1, 7:1, 8:2, 9:2, 10:2, 11:2}, inplace=True)"
   ]
  },
  {
   "cell_type": "markdown",
   "metadata": {},
   "source": [
    "#### Age_of_Vehicle"
   ]
  },
  {
   "cell_type": "code",
   "execution_count": 53,
   "metadata": {},
   "outputs": [
    {
     "data": {
      "text/plain": [
       "(array([373983., 401358., 418609., 340356., 150428.,  40550.,   9931.,\n",
       "          2980.,   1084.,    458.]),\n",
       " array([ 1. ,  3.9,  6.8,  9.7, 12.6, 15.5, 18.4, 21.3, 24.2, 27.1, 30. ]),\n",
       " <a list of 10 Patch objects>)"
      ]
     },
     "execution_count": 53,
     "metadata": {},
     "output_type": "execute_result"
    },
    {
     "data": {
      "image/png": "[encoded data removed]",
      "text/plain": [
       "<Figure size 432x288 with 1 Axes>"
      ]
     },
     "metadata": {
      "needs_background": "light"
     },
     "output_type": "display_data"
    }
   ],
   "source": [
    "plt.hist(df_cars['Age_of_Vehicle'])"
   ]
  },
  {
   "cell_type": "code",
   "execution_count": 52,
   "metadata": {},
   "outputs": [
    {
     "data": {
      "text/plain": [
       "<matplotlib.axes._subplots.AxesSubplot at 0x115301da0c8>"
      ]
     },
     "execution_count": 52,
     "metadata": {},
     "output_type": "execute_result"
    },
    {
     "data": {
      "image/png": "[encoded data removed]",
      "text/plain": [
       "<Figure size 432x288 with 1 Axes>"
      ]
     },
     "metadata": {
      "needs_background": "light"
     },
     "output_type": "display_data"
    }
   ],
   "source": [
    "y = df_cars['Age_of_Vehicle'].values\n",
    "sns.boxplot(x=x, y=y)"
   ]
  },
  {
   "cell_type": "code",
   "execution_count": 54,
   "metadata": {},
   "outputs": [],
   "source": [
    "df_cars['Age_of_Vehicle'].replace({1:0 , 2:0 , 3:0, 4:0, 5:1, 6:1, 7:1, 8:1, 9:1, 10:1,\n",
    "                                 11:1, 12:2, 13:2, 14:2, 15:2, 16:2, 17:2, 18:2, 19:2, 20:2,\n",
    "                                  21:2, 22:2, 23:2, 24:2, 25:2, 26:2, 27:2, 28:2, 29:2, 30:2}, inplace=True)"
   ]
  },
  {
   "cell_type": "markdown",
   "metadata": {},
   "source": [
    "### 3. Modeling"
   ]
  },
  {
   "cell_type": "markdown",
   "metadata": {},
   "source": [
    "#### 3.1. Logistic regression: with all values"
   ]
  },
  {
   "cell_type": "markdown",
   "metadata": {},
   "source": [
    "If we take all the values we will get a model that is good to predict low severity accidents BUT will not predict other scenarios:"
   ]
  },
  {
   "cell_type": "code",
   "execution_count": null,
   "metadata": {},
   "outputs": [],
   "source": [
    "# We prepare X and y\n",
    "cars = df_cars.values\n",
    "n,m = cars.shape\n",
    "\n",
    "X = cars[:,0:m-1]\n",
    "y = cars[:,m-1]\n",
    "\n",
    "# We normalize X\n",
    "X = StandardScaler().fit(X).transform(X)\n",
    "\n",
    "# We make a partition of the X and y data, to have training and test data --> we use 20% of the data for test purposes and we take them randomly with shuffle = True\n",
    "X_train, X_test, y_train, y_test = train_test_split(X, y, test_size = 0.3, shuffle=True)\n",
    "\n",
    "# Let's verify that in the training set we have variety of data between 0 (fatal) and 2 (low severity)\n",
    "(unique, counts) = np.unique(y_test, return_counts=True)\n",
    "frequencies = np.asarray((unique, counts)).T\n",
    "print(frequencies)\n",
    "\n",
    "# We create the logistic regression model for this multiclass case, and we train it \n",
    "clf = LogisticRegression(multi_class = 'multinomial', solver='lbfgs').fit(X, y)\n",
    "\n",
    "# We use the model to calculate the y_hat values\n",
    "y_hat = clf.predict(X_test)\n",
    "y_hat\n",
    "\n",
    "# We calculate metrics: f1_score and accuracy:\n",
    "print(\"Logistic regression f1_score: \", f1_score(y_test,y_hat, average = 'macro'))\n",
    "print(\"Logistic Regression Accuracy: \", accuracy_score(y_test, y_hat))\n",
    "\n",
    "# We display the confusion matrix for visibility:\n",
    "cm = confusion_matrix(y_test, y_hat)\n",
    "cm_display = ConfusionMatrixDisplay(cm).plot()"
   ]
  },
  {
   "cell_type": "markdown",
   "metadata": {},
   "source": [
    "#### 3.2. Logistic regression and decision tree: taking equilibrated subset of data"
   ]
  },
  {
   "cell_type": "code",
   "execution_count": 55,
   "metadata": {},
   "outputs": [],
   "source": [
    "# We now just take a subset of the data so that we have now equilibrated amount of severity accidents between 0, 1 and 2\n",
    "a = df_cars.loc[df_cars['Accident_Severity'] == 0].values\n",
    "b = df_cars.loc[df_cars['Accident_Severity'] == 1].values\n",
    "c = df_cars.loc[df_cars['Accident_Severity'] == 2].values\n",
    "a = a[0:7500,]\n",
    "b = b[0:7500,]\n",
    "c = c[0:7500,]\n",
    "new_cars = np.concatenate([a,b,c],axis=0)\n",
    "n,m = new_cars.shape\n",
    "X = new_cars[:,0:m-1]\n",
    "y = new_cars[:,m-1]"
   ]
  },
  {
   "cell_type": "code",
   "execution_count": 56,
   "metadata": {},
   "outputs": [
    {
     "name": "stdout",
     "output_type": "stream",
     "text": [
      "logisticRegression f1_score:  0.42552929436185405\n",
      "logisticRegression Accuracy:  0.5130370370370371\n"
     ]
    },
    {
     "ename": "NameError",
     "evalue": "name 'ConfusionMatrixDisplay' is not defined",
     "output_type": "error",
     "traceback": [
      "\u001b[1;31m---------------------------------------------------------------------------\u001b[0m",
      "\u001b[1;31mNameError\u001b[0m                                 Traceback (most recent call last)",
      "\u001b[1;32m<ipython-input-56-8b79da5a30ec>\u001b[0m in \u001b[0;36m<module>\u001b[1;34m\u001b[0m\n\u001b[0;32m     10\u001b[0m \u001b[0mprint\u001b[0m\u001b[1;33m(\u001b[0m\u001b[1;34m\"logisticRegression Accuracy: \"\u001b[0m\u001b[1;33m,\u001b[0m \u001b[0maccuracy_score\u001b[0m\u001b[1;33m(\u001b[0m\u001b[0my_test\u001b[0m\u001b[1;33m,\u001b[0m \u001b[0my_hat\u001b[0m\u001b[1;33m)\u001b[0m\u001b[1;33m)\u001b[0m\u001b[1;33m\u001b[0m\u001b[1;33m\u001b[0m\u001b[0m\n\u001b[0;32m     11\u001b[0m \u001b[0mcm\u001b[0m \u001b[1;33m=\u001b[0m \u001b[0mconfusion_matrix\u001b[0m\u001b[1;33m(\u001b[0m\u001b[0my_test\u001b[0m\u001b[1;33m,\u001b[0m \u001b[0my_hat\u001b[0m\u001b[1;33m)\u001b[0m\u001b[1;33m\u001b[0m\u001b[1;33m\u001b[0m\u001b[0m\n\u001b[1;32m---> 12\u001b[1;33m \u001b[0mcm_display\u001b[0m \u001b[1;33m=\u001b[0m \u001b[0mConfusionMatrixDisplay\u001b[0m\u001b[1;33m(\u001b[0m\u001b[0mcm\u001b[0m\u001b[1;33m)\u001b[0m\u001b[1;33m.\u001b[0m\u001b[0mplot\u001b[0m\u001b[1;33m(\u001b[0m\u001b[1;33m)\u001b[0m\u001b[1;33m\u001b[0m\u001b[1;33m\u001b[0m\u001b[0m\n\u001b[0m",
      "\u001b[1;31mNameError\u001b[0m: name 'ConfusionMatrixDisplay' is not defined"
     ]
    }
   ],
   "source": [
    "# Logistic Regression\n",
    "# We create the logistic regression model for this multiclass case, and we train it \n",
    "# We use the model to calculate the y_hat values\n",
    "# We calculate metrics: f1_score\n",
    "X = StandardScaler().fit(X).transform(X)\n",
    "X_train, X_test, y_train, y_test = train_test_split(X, y, test_size = 0.3, shuffle=True)\n",
    "clf = LogisticRegression(multi_class = 'multinomial', solver='lbfgs', class_weight={0:2,1:1,2:1}).fit(X, y)\n",
    "y_hat = clf.predict(X_test)\n",
    "print(\"logisticRegression f1_score: \", f1_score(y_test,y_hat, average = 'macro'))\n",
    "print(\"logisticRegression Accuracy: \", accuracy_score(y_test, y_hat))\n",
    "cm = confusion_matrix(y_test, y_hat)\n",
    "cm_display = ConfusionMatrixDisplay(cm).plot()"
   ]
  },
  {
   "cell_type": "code",
   "execution_count": 687,
   "metadata": {},
   "outputs": [
    {
     "name": "stdout",
     "output_type": "stream",
     "text": [
      "0.7588843904633378\n",
      "0.013531209079004802\n",
      "0.8202146690518783\n"
     ]
    }
   ],
   "source": [
    "cmfor0 = cm[0,0]/np.sum(cm[0,]); print(cmfor0)\n",
    "cmfor1 = cm[1,1]/np.sum(cm[1,]); print(cmfor1)\n",
    "cmfor2 = cm[2,2]/np.sum(cm[2,]); print(cmfor2)"
   ]
  },
  {
   "cell_type": "code",
   "execution_count": 688,
   "metadata": {},
   "outputs": [
    {
     "name": "stdout",
     "output_type": "stream",
     "text": [
      "logisticRegression f1_score:  0.6377365602486327\n",
      "logisticRegression Accuracy:  0.6377777777777778\n",
      "0.6180464301357862\n",
      "0.6580965268380695\n"
     ]
    },
    {
     "data": {
      "image/png": "[encoded data removed]",
      "text/plain": [
       "<Figure size 432x288 with 2 Axes>"
      ]
     },
     "metadata": {
      "needs_background": "light"
     },
     "output_type": "display_data"
    }
   ],
   "source": [
    "df_cars['Accident_Severity'].replace({0:0 , 1:1 , 2:1})\n",
    "a = df_cars.loc[df_cars['Accident_Severity'] == 0].values\n",
    "b = df_cars.loc[df_cars['Accident_Severity'] == 1].values\n",
    "\n",
    "a = a[0:7500,]\n",
    "b = b[0:7500,]\n",
    "\n",
    "new_cars = np.concatenate([a,b],axis=0)\n",
    "n,m = new_cars.shape\n",
    "X = new_cars[:,0:m-1]\n",
    "y = new_cars[:,m-1]\n",
    "X = StandardScaler().fit(X).transform(X)\n",
    "X_train, X_test, y_train, y_test = train_test_split(X, y, test_size = 0.3, shuffle=True)\n",
    "clf = LogisticRegression(solver='lbfgs').fit(X, y)\n",
    "y_hat = clf.predict(X_test)\n",
    "\n",
    "print(\"logisticRegression f1_score: \", f1_score(y_test,y_hat, average = 'macro'))\n",
    "print(\"logisticRegression Accuracy: \", accuracy_score(y_test, y_hat))\n",
    "cm = confusion_matrix(y_test, y_hat)\n",
    "cm_display = ConfusionMatrixDisplay(cm).plot()\n",
    "\n",
    "cmfor0 = cm[0,0]/np.sum(cm[0,]); print(cmfor0)\n",
    "cmfor1 = cm[1,1]/np.sum(cm[1,]); print(cmfor1)"
   ]
  },
  {
   "cell_type": "code",
   "execution_count": 591,
   "metadata": {},
   "outputs": [],
   "source": [
    "# print(\"logisticRegression f1_score: \", f1_score(y_test,y_hat, average = 'macro'))\n",
    "# print(\"logisticRegression Accuracy: \", accuracy_score(y_test, y_hat))\n",
    "# cm = confusion_matrix(y_test, y_hat)\n",
    "# cm_display = ConfusionMatrixDisplay(cm).plot()\n",
    "    \n",
    "# events = [7500,15000,25000,50000,100000]\n",
    "# f1 = [0.64,0.56,0.49,0.46,0.48]\n",
    "# acc = [0.64,0.68,0.76,0.87,0.93]"
   ]
  },
  {
   "cell_type": "code",
   "execution_count": 596,
   "metadata": {},
   "outputs": [
    {
     "name": "stdout",
     "output_type": "stream",
     "text": [
      "DecisionTrees's f1_score:  0.6542068536379394\n",
      "DecisionTrees's Accuracy:  0.6542222222222223\n"
     ]
    },
    {
     "data": {
      "image/png": "[encoded data removed]",
      "text/plain": [
       "<Figure size 432x288 with 2 Axes>"
      ]
     },
     "metadata": {
      "needs_background": "light"
     },
     "output_type": "display_data"
    }
   ],
   "source": [
    "# Decision tree\n",
    "# DT = tree.DecisionTreeClassifier(criterion=\"entropy\", max_depth = m-2)\n",
    "# DT = clf.fit(X_train,y_train)\n",
    "# print(\"DecisionTrees's f1_score: \", f1_score(y_test,y_hat, average = 'macro'))\n",
    "# print(\"DecisionTrees's Accuracy: \", accuracy_score(y_test, y_hat))\n",
    "# cm = confusion_matrix(y_test, y_hat)\n",
    "# cm_display = ConfusionMatrixDisplay(cm).plot()"
   ]
  },
  {
   "cell_type": "code",
   "execution_count": null,
   "metadata": {},
   "outputs": [],
   "source": []
  }
 ],
 "metadata": {
  "kernelspec": {
   "display_name": "Python 3",
   "language": "python",
   "name": "python3"
  },
  "language_info": {
   "codemirror_mode": {
    "name": "ipython",
    "version": 3
   },
   "file_extension": ".py",
   "mimetype": "text/x-python",
   "name": "python",
   "nbconvert_exporter": "python",
   "pygments_lexer": "ipython3",
   "version": "3.7.6"
  }
 },
 "nbformat": 4,
 "nbformat_minor": 4
}
